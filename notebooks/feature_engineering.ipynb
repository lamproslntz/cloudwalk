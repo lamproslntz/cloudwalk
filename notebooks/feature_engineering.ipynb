{
 "cells": [
  {
   "cell_type": "markdown",
   "id": "95464dca-85b2-4192-9571-db6793ebd9af",
   "metadata": {},
   "source": [
    "# Feature Engineering\n",
    "\n",
    "## Table of Contents\n",
    "\n",
    "- Load Data\n",
    "- Loan Related Features\n",
    "    - checkpoint\n",
    "- User Purchasing Behavior Features\n",
    "    - checkpoint\n",
    "- User Repayment Behavior Features\n",
    "    - checkpoint\n",
    "- Loan Quality\n",
    "    - checkpoint\n",
    "- RFM Analysis\n",
    "    - Scores Definition\n",
    "    - Segment Definition\n",
    "    - checkpoint"
   ]
  },
  {
   "cell_type": "code",
   "execution_count": 4,
   "id": "858b67ec-0038-4599-a111-43eec4ad4c72",
   "metadata": {
    "execution": {
     "iopub.execute_input": "2024-06-10T10:59:38.851061Z",
     "iopub.status.busy": "2024-06-10T10:59:38.851061Z",
     "iopub.status.idle": "2024-06-10T10:59:38.953368Z",
     "shell.execute_reply": "2024-06-10T10:59:38.953368Z",
     "shell.execute_reply.started": "2024-06-10T10:59:38.851061Z"
    }
   },
   "outputs": [],
   "source": [
    "from copy import deepcopy\n",
    "\n",
    "import numpy as np\n",
    "import pandas as pd\n",
    "\n",
    "# visualization\n",
    "import plotly.express as px\n",
    "import plotly.graph_objects as go\n",
    "from plotly.subplots import make_subplots"
   ]
  },
  {
   "cell_type": "code",
   "execution_count": 5,
   "id": "f212e0e8-6f45-4bc1-b0fc-15ef06f87930",
   "metadata": {
    "execution": {
     "iopub.execute_input": "2024-06-10T10:59:38.955284Z",
     "iopub.status.busy": "2024-06-10T10:59:38.954387Z",
     "iopub.status.idle": "2024-06-10T10:59:38.979683Z",
     "shell.execute_reply": "2024-06-10T10:59:38.978953Z",
     "shell.execute_reply.started": "2024-06-10T10:59:38.955284Z"
    }
   },
   "outputs": [],
   "source": [
    "# plotly config\n",
    "import plotly.io as pio\n",
    "pio.renderers.default = \"browser\"\n",
    "\n",
    "template = \"plotly_white\"\n",
    "colors = {\n",
    "    \"red\": \"rgb(255,0,0)\",\n",
    "    \"dark_blue\": \"rgb(30,144,255)\",\n",
    "    \"medium_blue\": \"rgb(0,191,255)\",\n",
    "    \"light_blue\": \"rgb(135,206,250)\",\n",
    "    \"dark_purple\": \"rgb(202, 105, 157)\",\n",
    "    \"medium_purple\": \"rgb(221, 136, 172)\",\n",
    "    \"light_purple\": \"rgb(234, 169, 189)\",\n",
    "    \"dark_gray\": \"rgb(169,169,169)\",\n",
    "    \"medium_gray\": \"rgb(192,192,192)\",\n",
    "    \"light_gray\": \"rgb(211,211,211)\"\n",
    "}\n",
    "title_font_size = 22\n",
    "font_size = 18"
   ]
  },
  {
   "cell_type": "markdown",
   "id": "73f142cf-f5bd-4b7f-9222-41bef20aeaab",
   "metadata": {
    "jp-MarkdownHeadingCollapsed": true
   },
   "source": [
    "# Load Data"
   ]
  },
  {
   "cell_type": "code",
   "execution_count": 7,
   "id": "cd6e7485-0a7d-4117-88af-d9c686fa1f60",
   "metadata": {
    "execution": {
     "iopub.execute_input": "2024-06-10T10:59:38.994721Z",
     "iopub.status.busy": "2024-06-10T10:59:38.994721Z",
     "iopub.status.idle": "2024-06-10T10:59:39.482914Z",
     "shell.execute_reply": "2024-06-10T10:59:39.482746Z",
     "shell.execute_reply.started": "2024-06-10T10:59:38.994721Z"
    }
   },
   "outputs": [],
   "source": [
    "df_loans = pd.read_pickle(\"../data/processed/df_loans.pkl\")\n",
    "df_repayments = pd.read_pickle(\"../data/processed/df_repayments.pkl\")\n",
    "df_transactions = pd.read_pickle(\"../data/processed/df_transactions.pkl\")"
   ]
  },
  {
   "cell_type": "code",
   "execution_count": 8,
   "id": "5b66e7e4-35aa-4e01-8bf1-5c316aa3eb8c",
   "metadata": {
    "execution": {
     "iopub.execute_input": "2024-06-10T10:59:39.482914Z",
     "iopub.status.busy": "2024-06-10T10:59:39.482914Z",
     "iopub.status.idle": "2024-06-10T10:59:39.517292Z",
     "shell.execute_reply": "2024-06-10T10:59:39.517292Z",
     "shell.execute_reply.started": "2024-06-10T10:59:39.482914Z"
    }
   },
   "outputs": [],
   "source": [
    "df_repayments = df_repayments.sort_values(by=[\"loan_id\", \"created_at\"])"
   ]
  },
  {
   "cell_type": "markdown",
   "id": "efea7eb9-11b5-48d1-9fe2-da65a408daa3",
   "metadata": {
    "jp-MarkdownHeadingCollapsed": true
   },
   "source": [
    "# Loan Related Features\n",
    "\n",
    "- **loan term:** length of time over which a loan is to be repaid (days)\n",
    "- **loan fees:** charges that have incurred when the loan was taken\n",
    "- **loan amount:** loan principal amounts categorized as small (< R\\\\$ 3000), medium [R\\\\$ 3000, R\\\\$ 5000) and large ($\\ge$ R\\\\$ 5000)\n",
    "- **interest rate:**\n",
    "    - raw loan interest rates\n",
    "    - loan interest rates categorized as small (< 40%), medium [40%, 100%) and large ($\\ge$ 100%)\n",
    "- **default ratio:** number of defaulted repayments to total number of repayments\n",
    "- **number of repayments**\n",
    "- **avg repayment amount**\n",
    "- **avg repayment lag**\n",
    "- **due date exceeded**\n",
    "- **max repayment delay:** time between loan due date and last repayment date\n",
    "- **repaid amount percentage**\n",
    "- **debt percentage**\n",
    "- **ratio of manual repayment:** number of manual repayments (pix) to number of scheduled repayments (autopilot)"
   ]
  },
  {
   "cell_type": "code",
   "execution_count": 10,
   "id": "efb48339-e08f-470f-a456-32f4b5168dc1",
   "metadata": {
    "execution": {
     "iopub.execute_input": "2024-06-10T10:59:39.530706Z",
     "iopub.status.busy": "2024-06-10T10:59:39.530706Z",
     "iopub.status.idle": "2024-06-10T10:59:39.535471Z",
     "shell.execute_reply": "2024-06-10T10:59:39.534961Z",
     "shell.execute_reply.started": "2024-06-10T10:59:39.530706Z"
    }
   },
   "outputs": [],
   "source": [
    "# Loan Term: length of time over which a loan is to be repaid (days)\n",
    "df_loans[\"loan_term\"] = (df_loans[\"due_date\"] - df_loans[\"created_at\"]).dt.days"
   ]
  },
  {
   "cell_type": "code",
   "execution_count": 11,
   "id": "c4872043-3116-4074-9385-18abdec487c0",
   "metadata": {
    "execution": {
     "iopub.execute_input": "2024-06-10T10:59:39.535471Z",
     "iopub.status.busy": "2024-06-10T10:59:39.535471Z",
     "iopub.status.idle": "2024-06-10T10:59:39.539197Z",
     "shell.execute_reply": "2024-06-10T10:59:39.539197Z",
     "shell.execute_reply.started": "2024-06-10T10:59:39.535471Z"
    }
   },
   "outputs": [],
   "source": [
    "# Loan Fees: charges that have incurred when the loan was taken\n",
    "# difference between total_amount and (net) amount \n",
    "df_loans[\"loan_fees\"] = (df_loans[\"total_amount\"] - df_loans[\"amount\"]).round()"
   ]
  },
  {
   "cell_type": "code",
   "execution_count": 12,
   "id": "4ba4e785-d50b-4777-94de-b8dd704599e7",
   "metadata": {
    "execution": {
     "iopub.execute_input": "2024-06-10T10:59:39.540909Z",
     "iopub.status.busy": "2024-06-10T10:59:39.539197Z",
     "iopub.status.idle": "2024-06-10T10:59:39.545523Z",
     "shell.execute_reply": "2024-06-10T10:59:39.545432Z",
     "shell.execute_reply.started": "2024-06-10T10:59:39.540909Z"
    }
   },
   "outputs": [],
   "source": [
    "# Loan Principal Amounts categories: small, medium, large\n",
    "df_loans.loc[df_loans[\"amount\"] < 3_000, \"principal_amount_cat\"] = \"small\"\n",
    "df_loans.loc[df_loans[\"amount\"].between(3_000, 5_000, inclusive=\"left\"), \"principal_amount_cat\"] = \"medium\"\n",
    "df_loans.loc[df_loans[\"amount\"] >= 5_000, \"principal_amount_cat\"] = \"large\""
   ]
  },
  {
   "cell_type": "code",
   "execution_count": 13,
   "id": "f4132def-9817-4685-b12a-593dc16e89c3",
   "metadata": {
    "execution": {
     "iopub.execute_input": "2024-06-10T10:59:39.546769Z",
     "iopub.status.busy": "2024-06-10T10:59:39.546769Z",
     "iopub.status.idle": "2024-06-10T10:59:39.552154Z",
     "shell.execute_reply": "2024-06-10T10:59:39.552154Z",
     "shell.execute_reply.started": "2024-06-10T10:59:39.546769Z"
    }
   },
   "outputs": [],
   "source": [
    "# Interest Rate: based on the formula A=P*(1+r*t) where\n",
    "# P = Principal Amount\n",
    "# R = Rate of interest\n",
    "# t = Number of years\n",
    "# A = Total accrued amount (both principal and the interest)\n",
    "df_loans[\"interest_rate\"] = (\n",
    "    (df_loans[\"due_amount\"] - df_loans[\"amount\"] * 1) / (df_loans[\"amount\"] * df_loans[\"loan_term\"] / 365) * 100\n",
    ").round()\n",
    "\n",
    "# Interest Rate categories: small (< 40%), medium, large (>= 100%)\n",
    "df_loans.loc[df_loans[\"interest_rate\"] < 40, \"interest_rate_cat\"] = \"small\"\n",
    "df_loans.loc[df_loans[\"interest_rate\"].between(40, 100, inclusive=\"left\"), \"interest_rate_cat\"] = \"medium\"\n",
    "df_loans.loc[df_loans[\"interest_rate\"] >= 100, \"interest_rate_cat\"] = \"large\""
   ]
  },
  {
   "cell_type": "code",
   "execution_count": 14,
   "id": "2e9fe79c-aa33-4f34-aadd-ccad1e0e1285",
   "metadata": {
    "execution": {
     "iopub.execute_input": "2024-06-10T10:59:39.553594Z",
     "iopub.status.busy": "2024-06-10T10:59:39.553594Z",
     "iopub.status.idle": "2024-06-10T10:59:39.621054Z",
     "shell.execute_reply": "2024-06-10T10:59:39.621054Z",
     "shell.execute_reply.started": "2024-06-10T10:59:39.553594Z"
    }
   },
   "outputs": [],
   "source": [
    "df_temp = (\n",
    "    pd.get_dummies(df_repayments['status_cleaned'])\n",
    "    .rename(columns={\"defaulted\": \"status_defaulted\", \"paid\": \"status_paid\"})\n",
    ")\n",
    "df_repayments = pd.concat([df_repayments, df_temp], axis=1)\n",
    "df_temp = (\n",
    "    df_repayments\n",
    "    .groupby([\"loan_id\"], as_index=False)\n",
    "    .agg(\n",
    "        count_defaulted=(\"status_defaulted\", \"sum\"), \n",
    "        count_paid=(\"status_paid\", \"sum\")\n",
    "    )\n",
    ").rename(columns={\"loan_id\": \"id\"})\n",
    "df_loans = df_loans.merge(df_temp, how=\"left\", on=\"id\")\n",
    "\n",
    "# Default Ratio: number of defaulted repayments to total number of repayments\n",
    "df_loans[\"rate_default\"] = df_loans[\"count_defaulted\"] / (df_loans[\"count_defaulted\"] + df_loans[\"count_paid\"])\n",
    "\n",
    "df_loans = df_loans.drop(columns=[\"count_defaulted\", \"count_paid\"])\n",
    "df_repayments = df_repayments.drop(columns=[\"status_defaulted\", \"status_paid\"])"
   ]
  },
  {
   "cell_type": "code",
   "execution_count": 15,
   "id": "e58f4e80-064f-4336-8b3b-d043ffc074e8",
   "metadata": {
    "execution": {
     "iopub.execute_input": "2024-06-10T10:59:39.621054Z",
     "iopub.status.busy": "2024-06-10T10:59:39.621054Z",
     "iopub.status.idle": "2024-06-10T10:59:39.632086Z",
     "shell.execute_reply": "2024-06-10T10:59:39.632086Z",
     "shell.execute_reply.started": "2024-06-10T10:59:39.621054Z"
    }
   },
   "outputs": [],
   "source": [
    "# Number of Repayments\n",
    "df_temp = (\n",
    "    df_repayments\n",
    "    .groupby([\"loan_id\"], as_index=False)\n",
    "    .agg(num_repayments=(\"id\", \"count\"))\n",
    ").rename(columns={\"loan_id\": \"id\"})\n",
    "df_loans = df_loans.merge(df_temp, how=\"left\", on=\"id\")"
   ]
  },
  {
   "cell_type": "code",
   "execution_count": 16,
   "id": "3693c45c-3dda-4614-84b7-9abe87a4682b",
   "metadata": {
    "execution": {
     "iopub.execute_input": "2024-06-10T10:59:39.634734Z",
     "iopub.status.busy": "2024-06-10T10:59:39.634734Z",
     "iopub.status.idle": "2024-06-10T10:59:39.645808Z",
     "shell.execute_reply": "2024-06-10T10:59:39.645808Z",
     "shell.execute_reply.started": "2024-06-10T10:59:39.634734Z"
    }
   },
   "outputs": [],
   "source": [
    "# Average Repayment Amount\n",
    "df_temp = (\n",
    "    df_repayments\n",
    "    .groupby([\"loan_id\"], as_index=False)\n",
    "    .agg(avg_repayment_amount=(\"amount\", \"mean\"))\n",
    ").rename(columns={\"loan_id\": \"id\"})\n",
    "df_loans = df_loans.merge(df_temp, how=\"left\", on=\"id\")\n",
    "df_loans[\"avg_repayment_amount\"] = df_loans[\"avg_repayment_amount\"].round()"
   ]
  },
  {
   "cell_type": "code",
   "execution_count": 17,
   "id": "a6a0932d-09a8-4392-aaa5-2de91e5256b6",
   "metadata": {
    "execution": {
     "iopub.execute_input": "2024-06-10T10:59:39.646813Z",
     "iopub.status.busy": "2024-06-10T10:59:39.646813Z",
     "iopub.status.idle": "2024-06-10T10:59:39.697121Z",
     "shell.execute_reply": "2024-06-10T10:59:39.696615Z",
     "shell.execute_reply.started": "2024-06-10T10:59:39.646813Z"
    }
   },
   "outputs": [],
   "source": [
    "df_temp = (\n",
    "    df_loans[[\"id\", \"created_at\"]]\n",
    "    .rename(columns={\"id\": \"loan_id\", \"created_at\": \"loan_created_at\"})\n",
    ")\n",
    "df_repayments = df_repayments.merge(df_temp, how=\"left\", on=\"loan_id\")\n",
    "\n",
    "# Repayment Lag: difference between current repayment date and previous repayment date \n",
    "df_repayments[\"lag_repayment\"] = df_repayments.groupby([\"loan_id\"], as_index=False)[\"created_at\"].diff().dt.days\n",
    "# first repayment date should be compared to the loan creation date\n",
    "df_repayments.loc[df_repayments[\"lag_repayment\"].isna(), \"lag_repayment\"] = (\n",
    "    df_repayments[df_repayments[\"lag_repayment\"].isna()][\"created_at\"] - \\\n",
    "    df_repayments[df_repayments[\"lag_repayment\"].isna()][\"loan_created_at\"]\n",
    ").dt.days\n",
    "\n",
    "# Average Repayment Lag\n",
    "df_temp = (\n",
    "    df_repayments\n",
    "    .groupby([\"loan_id\"], as_index=False)\n",
    "    .agg(avg_lag_repayment=(\"lag_repayment\", \"mean\"))\n",
    "    .apply(np.ceil)\n",
    ").rename(columns={\"loan_id\": \"id\"})\n",
    "df_loans = df_loans.merge(df_temp, how=\"left\", on=\"id\")\n",
    "\n",
    "df_repayments = df_repayments.drop(columns=[\"loan_created_at\", \"lag_repayment\"])"
   ]
  },
  {
   "cell_type": "code",
   "execution_count": 18,
   "id": "527b957b-94af-446c-b0ee-37fa7e5f82ad",
   "metadata": {
    "execution": {
     "iopub.execute_input": "2024-06-10T10:59:39.698129Z",
     "iopub.status.busy": "2024-06-10T10:59:39.698129Z",
     "iopub.status.idle": "2024-06-10T10:59:39.746547Z",
     "shell.execute_reply": "2024-06-10T10:59:39.746547Z",
     "shell.execute_reply.started": "2024-06-10T10:59:39.698129Z"
    }
   },
   "outputs": [],
   "source": [
    "df_temp = (\n",
    "    df_loans[[\"id\", \"due_date\"]]\n",
    "    .rename(columns={\"id\": \"loan_id\"})\n",
    ")\n",
    "df_repayments = df_repayments.merge(df_temp, how=\"left\", on=\"loan_id\")\n",
    "\n",
    "# Time Since Due Date: length of time between repayment and due date \n",
    "df_repayments[\"days_since_due_date\"] = (df_repayments[\"created_at\"] - df_repayments[\"due_date\"]).dt.days\n",
    "# in case the due date hasn't been exceeded the values will be negative\n",
    "# default to 0 to represent that the due date hasn't been exceeded\n",
    "df_repayments.loc[df_repayments[\"days_since_due_date\"] < 0, \"days_since_due_date\"] = 0\n",
    "\n",
    "# Due Date Exceeded\n",
    "df_repayments[\"due_date_exceeded\"] = 0\n",
    "df_repayments.loc[df_repayments[\"days_since_due_date\"] > 0, \"due_date_exceeded\"] = 1\n",
    "df_temp = (\n",
    "    df_repayments\n",
    "    .groupby([\"loan_id\"], as_index=False)\n",
    "    .agg(due_date_exceeded=(\"due_date_exceeded\", \"max\"))\n",
    ").rename(columns={\"loan_id\": \"id\"})\n",
    "df_loans = df_loans.merge(df_temp, how=\"left\", on=\"id\")\n",
    "\n",
    "# Max Repayment Delay: time between loan due date and last repayment date\n",
    "df_temp = (\n",
    "    df_repayments\n",
    "    .groupby([\"loan_id\"], as_index=False)\n",
    "    .agg(max_repayment_delay=(\"days_since_due_date\", \"max\"))\n",
    ").rename(columns={\"loan_id\": \"id\"})\n",
    "df_loans = df_loans.merge(df_temp, how=\"left\", on=\"id\")\n",
    "\n",
    "df_repayments = df_repayments.drop(columns=[\"due_date\", \"days_since_due_date\", \"due_date_exceeded\"])"
   ]
  },
  {
   "cell_type": "code",
   "execution_count": 19,
   "id": "8948f135-4042-462c-9f6b-3f68459ae124",
   "metadata": {
    "execution": {
     "iopub.execute_input": "2024-06-10T10:59:39.747791Z",
     "iopub.status.busy": "2024-06-10T10:59:39.746547Z",
     "iopub.status.idle": "2024-06-10T10:59:39.801149Z",
     "shell.execute_reply": "2024-06-10T10:59:39.801149Z",
     "shell.execute_reply.started": "2024-06-10T10:59:39.747791Z"
    }
   },
   "outputs": [
    {
     "name": "stderr",
     "output_type": "stream",
     "text": [
      "C:\\Users\\lampr\\AppData\\Local\\Temp\\ipykernel_22756\\185391014.py:3: FutureWarning:\n",
      "\n",
      "Setting an item of incompatible dtype is deprecated and will raise an error in a future version of pandas. Value '[  9.75  45.3   25.5  ... 126.74 203.37   0.53]' has dtype incompatible with int64, please explicitly cast to a compatible dtype first.\n",
      "\n"
     ]
    }
   ],
   "source": [
    "# auxiliary amount column to account for defaulted and refunded payments\n",
    "df_repayments[\"payment\"] = 0  # defaulted and refunded repayments should be excluded in sum\n",
    "df_repayments.loc[df_repayments[\"status\"] == \"paid\", \"payment\"] = df_repayments.loc[df_repayments[\"status\"] == \"paid\", \"amount\"]\n",
    "\n",
    "# Repaid Amount\n",
    "df_temp = (\n",
    "    df_repayments\n",
    "    .groupby([\"loan_id\"], as_index=False)\n",
    "    .agg(amount_repaid=(\"payment\", \"sum\"))\n",
    ").rename(columns={\"loan_id\": \"id\"})\n",
    "df_loans = df_loans.merge(df_temp, how=\"left\", on=\"id\")\n",
    "\n",
    "# Repaid Amount to Loan Amount Ratio\n",
    "df_loans[\"pct_repaid\"] = df_loans[\"amount_repaid\"] / df_loans[\"total_amount\"]\n",
    "df_loans.loc[df_loans[\"pct_repaid\"] > 1, \"pct_repaid\"] = 1\n",
    "# Debt Ratio \n",
    "df_loans[\"pct_debt\"] = 1 - df_loans[\"pct_repaid\"]\n",
    "\n",
    "df_loans = df_loans.drop(columns=[\"amount_repaid\"])\n",
    "df_repayments = df_repayments.drop(columns=[\"payment\"])"
   ]
  },
  {
   "cell_type": "code",
   "execution_count": 20,
   "id": "6a42d013-8747-4073-9d62-6d020318ee66",
   "metadata": {
    "execution": {
     "iopub.execute_input": "2024-06-10T10:59:39.801149Z",
     "iopub.status.busy": "2024-06-10T10:59:39.801149Z",
     "iopub.status.idle": "2024-06-10T10:59:39.858536Z",
     "shell.execute_reply": "2024-06-10T10:59:39.858536Z",
     "shell.execute_reply.started": "2024-06-10T10:59:39.801149Z"
    }
   },
   "outputs": [],
   "source": [
    "df_temp = (\n",
    "    pd.get_dummies(df_repayments['type'])\n",
    "    .rename(columns={\"autopilot\": \"payment_autopilot\", \"pix\": \"payment_pix\"})\n",
    ")\n",
    "df_repayments = pd.concat([df_repayments, df_temp], axis=1)\n",
    "\n",
    "df_temp = (\n",
    "    df_repayments\n",
    "    .groupby([\"loan_id\"], as_index=False)\n",
    "    .agg(\n",
    "        count_payment_autopilot=(\"payment_autopilot\", \"sum\"), \n",
    "        count_payment_pix=(\"payment_pix\", \"sum\")\n",
    "    )\n",
    ").rename(columns={\"loan_id\": \"id\"})\n",
    "df_loans = df_loans.merge(df_temp, how=\"left\", on=\"id\")\n",
    "\n",
    "# Manual Repayments Rate: number of manual repayments (pix) to number of scheduled repayments (autopilot)\n",
    "df_loans[\"rate_manual_repayments\"] = (1 + df_loans[\"count_payment_pix\"]) / (1 + df_loans[\"count_payment_autopilot\"])\n",
    "\n",
    "df_loans = df_loans.drop(columns=[\"count_payment_pix\", \"count_payment_autopilot\"])\n",
    "df_repayments = df_repayments.drop(columns=[\"payment_autopilot\", \"payment_pix\"])"
   ]
  },
  {
   "cell_type": "markdown",
   "id": "9c4f02a4-b91a-49db-a323-db2fccfafd02",
   "metadata": {
    "jp-MarkdownHeadingCollapsed": true
   },
   "source": [
    "## ✅ checkpoint"
   ]
  },
  {
   "cell_type": "code",
   "execution_count": 22,
   "id": "8e86eeb6-91e5-42ac-a2c6-227ed91f385b",
   "metadata": {
    "execution": {
     "iopub.execute_input": "2024-06-10T10:59:39.872460Z",
     "iopub.status.busy": "2024-06-10T10:59:39.872460Z",
     "iopub.status.idle": "2024-06-10T10:59:39.877770Z",
     "shell.execute_reply": "2024-06-10T10:59:39.877770Z",
     "shell.execute_reply.started": "2024-06-10T10:59:39.872460Z"
    }
   },
   "outputs": [],
   "source": [
    "df_loans.to_pickle(\"../data/processed/df_loans.pkl\")"
   ]
  },
  {
   "cell_type": "markdown",
   "id": "b0aa2296-e9a7-49f0-809d-8ff940fad52c",
   "metadata": {
    "jp-MarkdownHeadingCollapsed": true
   },
   "source": [
    "# User Purchasing Behavior Features\n",
    "\n",
    "- **recency:** time since the user's last transaction\n",
    "- **frequency:** how often users make a purchase\n",
    "- **monetary:** total amount spent on purchases\n",
    "- **avg number of installments**\n",
    "- **average transaction lag:** average time between transactions per user\n",
    "- **denied ratio:** number of denied transactions to total number of transactions\n",
    "- **installments preference:** proportion of transactions with installments\n",
    "- **credit preference:** number of credit transactions to number of debit transactions\n",
    "- **online purchases preference:** number of online purchases to number of in-person purchases\n",
    "- **card brand preference:** determine whether an International or Brazil-based card provider is prefered"
   ]
  },
  {
   "cell_type": "code",
   "execution_count": 24,
   "id": "eccf7a2d-57f0-4208-9bae-239679bb9cb1",
   "metadata": {
    "execution": {
     "iopub.execute_input": "2024-06-10T10:59:39.888913Z",
     "iopub.status.busy": "2024-06-10T10:59:39.888913Z",
     "iopub.status.idle": "2024-06-10T10:59:40.139583Z",
     "shell.execute_reply": "2024-06-10T10:59:40.139583Z",
     "shell.execute_reply.started": "2024-06-10T10:59:39.888913Z"
    }
   },
   "outputs": [],
   "source": [
    "# Recency: Time since the user's last transaction \n",
    "# Active users might be more financially active and potentially better candidates for loan repayment\n",
    "\n",
    "# Frequency: How often user make a purchase\n",
    "# Users who have a higher frequency of transactions might be more financially active \n",
    "# and potentially better candidates for loan repayment\n",
    "\n",
    "# Monetary: Total amount spent on purchases\n",
    "# Users who typically make larger transactions or have more consistent transaction amounts \n",
    "# might be more likely to repay loans\n",
    "\n",
    "# to calculte Recency, the current date that will be used for comparison will be the max date of the sample\n",
    "date_current = df_transactions[\"created_at\"].max()\n",
    "\n",
    "df_users = df_transactions.groupby(\"user_id\", as_index=False).agg(\n",
    "    {\n",
    "        \"created_at\": lambda date : (date_current - date.max()).days,\n",
    "        \"id\": lambda transaction : len(transaction),\n",
    "        \"amount\": lambda amount : amount.sum(),\n",
    "    }\n",
    ").rename(columns={\"created_at\": \"recency\", \"id\": \"frequency\", \"amount\": \"monetary\"})"
   ]
  },
  {
   "cell_type": "code",
   "execution_count": 26,
   "id": "afadaf6b-e31f-4372-adf8-fbdaea6b8065",
   "metadata": {
    "execution": {
     "iopub.execute_input": "2024-06-10T10:59:40.181074Z",
     "iopub.status.busy": "2024-06-10T10:59:40.181074Z",
     "iopub.status.idle": "2024-06-10T10:59:40.431019Z",
     "shell.execute_reply": "2024-06-10T10:59:40.431019Z",
     "shell.execute_reply.started": "2024-06-10T10:59:40.181074Z"
    }
   },
   "outputs": [],
   "source": [
    "# Average Number of Installments\n",
    "df_temp = (\n",
    "    df_transactions\n",
    "    .groupby([\"user_id\"], as_index=False)\n",
    "    .agg(avg_intallments=(\"installments\", \"mean\"))\n",
    ")\n",
    "df_users = df_users.merge(df_temp, how=\"left\", on=\"user_id\")"
   ]
  },
  {
   "cell_type": "code",
   "execution_count": 27,
   "id": "d0de3ced-c34c-4c39-86f6-e727634525ce",
   "metadata": {
    "execution": {
     "iopub.execute_input": "2024-06-10T10:59:40.431019Z",
     "iopub.status.busy": "2024-06-10T10:59:40.431019Z",
     "iopub.status.idle": "2024-06-10T10:59:40.582180Z",
     "shell.execute_reply": "2024-06-10T10:59:40.582180Z",
     "shell.execute_reply.started": "2024-06-10T10:59:40.431019Z"
    }
   },
   "outputs": [],
   "source": [
    "# Average Transaction Lag: average time between transactions per user\n",
    "df_transactions[\"lag_transaction\"] = df_transactions.groupby([\"user_id\"], as_index=False)[\"created_at\"].diff().dt.days\n",
    "df_temp = (\n",
    "    df_transactions\n",
    "    .groupby([\"user_id\"], as_index=False)\n",
    "    .agg(avg_lag_transaction=(\"lag_transaction\", \"mean\"))\n",
    ")\n",
    "df_users = df_users.merge(df_temp, how=\"left\", on=\"user_id\")\n",
    "df_transactions = df_transactions.drop(columns=[\"lag_transaction\"])"
   ]
  },
  {
   "cell_type": "code",
   "execution_count": 28,
   "id": "fa170a7b-0b67-4e2d-9df2-85e7deba4cb3",
   "metadata": {
    "execution": {
     "iopub.execute_input": "2024-06-10T10:59:40.583015Z",
     "iopub.status.busy": "2024-06-10T10:59:40.583015Z",
     "iopub.status.idle": "2024-06-10T10:59:40.830571Z",
     "shell.execute_reply": "2024-06-10T10:59:40.830571Z",
     "shell.execute_reply.started": "2024-06-10T10:59:40.583015Z"
    }
   },
   "outputs": [],
   "source": [
    "df_temp = (\n",
    "    pd.get_dummies(df_transactions['status'])\n",
    "    .rename(columns={\"approved\": \"transaction_approved\", \"denied\": \"transaction_denied\"})\n",
    ")\n",
    "df_transactions = pd.concat([df_transactions, df_temp], axis=1)\n",
    "\n",
    "df_temp = (\n",
    "    df_transactions\n",
    "    .groupby([\"user_id\"], as_index=False)\n",
    "    .agg(count_transaction_denied=(\"transaction_denied\", \"sum\"))\n",
    ")\n",
    "df_users = df_users.merge(df_temp, how=\"left\", on=\"user_id\")\n",
    "\n",
    "# Denied Ratio: number of denied transactions to total number of transactions \n",
    "df_users[\"rate_denied\"] = df_users[\"count_transaction_denied\"] / df_users[\"frequency\"]\n",
    "\n",
    "df_users = df_users.drop(columns=[\"count_transaction_denied\"])\n",
    "df_transactions = df_transactions.drop(columns=[\"transaction_approved\", \"transaction_denied\"])"
   ]
  },
  {
   "cell_type": "code",
   "execution_count": 29,
   "id": "9d5c7ae8-f025-45c2-b930-9a590684940c",
   "metadata": {
    "execution": {
     "iopub.execute_input": "2024-06-10T10:59:40.831581Z",
     "iopub.status.busy": "2024-06-10T10:59:40.831581Z",
     "iopub.status.idle": "2024-06-10T10:59:41.054522Z",
     "shell.execute_reply": "2024-06-10T10:59:41.054522Z",
     "shell.execute_reply.started": "2024-06-10T10:59:40.831581Z"
    }
   },
   "outputs": [],
   "source": [
    "df_transactions.loc[df_transactions[\"installments\"] == 1, \"with_installment\"] = False\n",
    "df_transactions.loc[df_transactions[\"installments\"] > 1, \"with_installment\"] = True\n",
    "\n",
    "df_temp = (\n",
    "    df_transactions\n",
    "    .groupby([\"user_id\"], as_index=False)\n",
    "    .agg(with_installment=(\"with_installment\", \"sum\"))\n",
    ")\n",
    "df_users = df_users.merge(df_temp, how=\"left\", on=\"user_id\")\n",
    "\n",
    "# Installments Preference: proportion of transactions with installments\n",
    "df_users[\"preference_installment\"] = df_users[\"with_installment\"] / df_users[\"frequency\"]\n",
    "\n",
    "df_users = df_users.drop(columns=[\"with_installment\"])\n",
    "df_transactions = df_transactions.drop(columns=[\"with_installment\"])"
   ]
  },
  {
   "cell_type": "code",
   "execution_count": 30,
   "id": "1bd64c42-128b-4b81-8ef7-8eec19ca23b4",
   "metadata": {
    "execution": {
     "iopub.execute_input": "2024-06-10T10:59:41.054522Z",
     "iopub.status.busy": "2024-06-10T10:59:41.054522Z",
     "iopub.status.idle": "2024-06-10T10:59:41.286606Z",
     "shell.execute_reply": "2024-06-10T10:59:41.286606Z",
     "shell.execute_reply.started": "2024-06-10T10:59:41.054522Z"
    }
   },
   "outputs": [],
   "source": [
    "df_temp = (\n",
    "    pd.get_dummies(df_transactions['payment_method'])\n",
    "    .rename(columns={\"credit\": \"payment_credit\", \"debit\": \"payment_debit\"})\n",
    ")\n",
    "df_transactions = pd.concat([df_transactions, df_temp], axis=1)\n",
    "\n",
    "df_temp = (\n",
    "    df_transactions\n",
    "    .groupby([\"user_id\"], as_index=False)\n",
    "    .agg(\n",
    "        count_payment_credit=(\"payment_credit\", \"sum\"),\n",
    "        count_payment_debit=(\"payment_debit\", \"sum\"),\n",
    "    )\n",
    ")\n",
    "df_users = df_users.merge(df_temp, how=\"left\", on=\"user_id\")\n",
    "\n",
    "# Credit Preference: number of credit transactions to number of debit transactions \n",
    "df_users[\"preference_credit\"] = (1 + df_users[\"count_payment_credit\"]) / (1 + df_users[\"count_payment_debit\"])  # smoothing\n",
    "\n",
    "df_users = df_users.drop(columns=[\"count_payment_credit\", \"count_payment_debit\"])\n",
    "df_transactions = df_transactions.drop(columns=[\"payment_credit\", \"payment_debit\"])"
   ]
  },
  {
   "cell_type": "code",
   "execution_count": 31,
   "id": "5ad43578-165f-4fa7-923e-16a70e1eeb88",
   "metadata": {
    "execution": {
     "iopub.execute_input": "2024-06-10T10:59:41.287644Z",
     "iopub.status.busy": "2024-06-10T10:59:41.287644Z",
     "iopub.status.idle": "2024-06-10T10:59:41.800971Z",
     "shell.execute_reply": "2024-06-10T10:59:41.800345Z",
     "shell.execute_reply.started": "2024-06-10T10:59:41.287644Z"
    }
   },
   "outputs": [],
   "source": [
    "# Based on the capture method, derive whether a purchase was made in-person or online\n",
    "purchase_in_person, purchase_online = [\"emv\", \"contactless\", \"mpos\"], [\"payment_link\", \"ecommerce\", \"payment_link_web\"]\n",
    "df_transactions.loc[df_transactions[\"capture_method\"].isin(purchase_in_person), \"purchase_type\"] = \"in_person\"\n",
    "df_transactions.loc[df_transactions[\"capture_method\"].isin(purchase_online), \"purchase_type\"] = \"online\"\n",
    "\n",
    "df_temp = (\n",
    "    pd.get_dummies(df_transactions['purchase_type'])\n",
    "    .rename(columns={\"in_person\": \"purchase_in_person\", \"online\": \"purchase_online\"})\n",
    ")\n",
    "df_transactions = pd.concat([df_transactions, df_temp], axis=1)\n",
    "\n",
    "df_temp = (\n",
    "    df_transactions\n",
    "    .groupby([\"user_id\"], as_index=False)\n",
    "    .agg(\n",
    "        count_purchase_in_person=(\"purchase_in_person\", \"sum\"),\n",
    "        count_purchase_online=(\"purchase_online\", \"sum\"),\n",
    "    )\n",
    ")\n",
    "df_users = df_users.merge(df_temp, how=\"left\", on=\"user_id\")\n",
    "\n",
    "# Online Purchases Preference: number of online purchases to number of in-person purchases\n",
    "df_users[\"preference_purchase_online\"] = df_users[\"count_purchase_online\"] / (1 + df_users[\"count_purchase_in_person\"])  # smoothing\n",
    "\n",
    "df_users = df_users.drop(columns=[\"count_purchase_in_person\", \"count_purchase_online\"])\n",
    "df_transactions = df_transactions.drop(columns=[\"purchase_type\", \"purchase_in_person\", \"purchase_online\"])"
   ]
  },
  {
   "cell_type": "code",
   "execution_count": 32,
   "id": "a9f43ac4-e006-4f0e-a358-5d1c1bc56820",
   "metadata": {
    "execution": {
     "iopub.execute_input": "2024-06-10T10:59:41.801296Z",
     "iopub.status.busy": "2024-06-10T10:59:41.801296Z",
     "iopub.status.idle": "2024-06-10T10:59:42.370592Z",
     "shell.execute_reply": "2024-06-10T10:59:42.370540Z",
     "shell.execute_reply.started": "2024-06-10T10:59:41.801296Z"
    }
   },
   "outputs": [],
   "source": [
    "# Based on the card brand, derive whether an International or Brazil-based card provider is being used\n",
    "card_internation, card_brazil = [\"mastercard\", \"visa\", \"amex\"], [\"elo\", \"hipercard\"]\n",
    "df_transactions.loc[df_transactions[\"card_brand\"].isin(card_internation), \"card_type\"] = \"card_international\"\n",
    "df_transactions.loc[df_transactions[\"card_brand\"].isin(card_brazil), \"card_type\"] = \"card_brazil\"\n",
    "\n",
    "df_temp = pd.get_dummies(df_transactions['card_type'])\n",
    "df_transactions = pd.concat([df_transactions, df_temp], axis=1)\n",
    "\n",
    "df_temp = (\n",
    "    df_transactions\n",
    "    .groupby([\"user_id\"], as_index=False)\n",
    "    .agg(\n",
    "        count_purchase_card_international=(\"card_international\", \"sum\"),\n",
    "        count_purchase_card_brazil=(\"card_brazil\", \"sum\"),\n",
    "    )\n",
    ")\n",
    "df_users = df_users.merge(df_temp, how=\"left\", on=\"user_id\")\n",
    "\n",
    "# Card Brand Preference: determine whether an International or Brazil-based card provider is prefered\n",
    "df_users[\"preference_card_brazil\"] = df_users[\"count_purchase_card_brazil\"] / (1 + df_users[\"count_purchase_card_international\"])  # smoothing\n",
    "\n",
    "df_users = df_users.drop(columns=[\"count_purchase_card_brazil\", \"count_purchase_card_international\"])\n",
    "df_transactions = df_transactions.drop(columns=[\"card_type\", \"card_international\", \"card_brazil\"])"
   ]
  },
  {
   "cell_type": "markdown",
   "id": "9d6307e3-76dc-4e91-adb7-c73a519c3125",
   "metadata": {
    "jp-MarkdownHeadingCollapsed": true
   },
   "source": [
    "## ✅ checkpoint"
   ]
  },
  {
   "cell_type": "code",
   "execution_count": 34,
   "id": "f1028f0e-fd24-4354-80f1-16bc349e02a7",
   "metadata": {
    "execution": {
     "iopub.execute_input": "2024-06-10T10:59:42.384413Z",
     "iopub.status.busy": "2024-06-10T10:59:42.384413Z",
     "iopub.status.idle": "2024-06-10T10:59:42.390094Z",
     "shell.execute_reply": "2024-06-10T10:59:42.390094Z",
     "shell.execute_reply.started": "2024-06-10T10:59:42.384413Z"
    }
   },
   "outputs": [],
   "source": [
    "df_users.to_pickle(\"../data/processed/df_user_purchasing_behavior.pkl\")"
   ]
  },
  {
   "cell_type": "markdown",
   "id": "6748ca0f-e696-402b-b54d-8e5778ec1ece",
   "metadata": {
    "jp-MarkdownHeadingCollapsed": true
   },
   "source": [
    "# User Repayment Behavior Features\n",
    "\n",
    "**Note:** The repayment behavior of the user is calculated at every point in time, meaning that the following features are cumulative. \n",
    "\n",
    "**Warning (Cold Start Problem):** When a user takes out a loan for the first time, there is no prior repayment history available. Thus, during modeling the features need to be shifted by one one point in time.\n",
    "\n",
    "- **number of loans**\n",
    "- **percentage of small loans:** principal amount < R\\\\$ 3000\n",
    "- **percentage of medium loans:** principal amount [R\\\\$ 3000, R\\\\$ 5000)\n",
    "- **percentage of large loans:** principal amount $\\ge$ R\\\\$ 5000\n",
    "- **percentage of loans with small interest rate:** interest rate < 40%\n",
    "- **percentage of loans with medium interest rate:** interest rate [40%, 100%)\n",
    "- **percentage of loans with large interest rate:** interest rate $\\ge$ 100%\n",
    "- **unpaid loans ratio:** number of unpaid loans to total number of loans\n",
    "- **avg percentage of debt:** average percentage of debt incurred \n",
    "- **avg number of repayments**\n",
    "- **avg repayment amount**\n",
    "- **avg repayment lag**\n",
    "- **avg default ratio**\n",
    "- **due date exceeded rate:** number of loans who were repayed outside of term to the total number of loans\n",
    "- **avg max repayment delay**\n",
    "- **average manual repayments rate:** measures the preference of manual repayments (pix) over scheduled repayments (autopilot)"
   ]
  },
  {
   "cell_type": "code",
   "execution_count": 36,
   "id": "fd563674-a7d6-49ca-88d8-cff3d87faa49",
   "metadata": {
    "execution": {
     "iopub.execute_input": "2024-06-10T10:59:42.404866Z",
     "iopub.status.busy": "2024-06-10T10:59:42.403840Z",
     "iopub.status.idle": "2024-06-10T10:59:42.411686Z",
     "shell.execute_reply": "2024-06-10T10:59:42.411686Z",
     "shell.execute_reply.started": "2024-06-10T10:59:42.404866Z"
    }
   },
   "outputs": [],
   "source": [
    "df_repayment_history = deepcopy(df_loans)\n",
    "df_repayment_history = df_repayment_history.sort_values(by=[\"user_id\", \"created_at\"])\n",
    "\n",
    "columns_to_keep = [\"id\", \"user_id\", \"created_at\"]"
   ]
  },
  {
   "cell_type": "code",
   "execution_count": 37,
   "id": "ff472243-142c-4954-8237-955c486ae3b3",
   "metadata": {
    "execution": {
     "iopub.execute_input": "2024-06-10T10:59:42.412694Z",
     "iopub.status.busy": "2024-06-10T10:59:42.412694Z",
     "iopub.status.idle": "2024-06-10T10:59:42.417046Z",
     "shell.execute_reply": "2024-06-10T10:59:42.417046Z",
     "shell.execute_reply.started": "2024-06-10T10:59:42.412694Z"
    }
   },
   "outputs": [],
   "source": [
    "# Number of Loans\n",
    "df_repayment_history[\"user_num_loans\"] = df_repayment_history.groupby([\"user_id\"], as_index=False).cumcount() + 1\n",
    "\n",
    "columns_to_keep.append(\"user_num_loans\")"
   ]
  },
  {
   "cell_type": "code",
   "execution_count": 38,
   "id": "3a4eb9a5-9027-46f5-bf8b-55128cd2962f",
   "metadata": {
    "execution": {
     "iopub.execute_input": "2024-06-10T10:59:42.417975Z",
     "iopub.status.busy": "2024-06-10T10:59:42.417975Z",
     "iopub.status.idle": "2024-06-10T10:59:42.430041Z",
     "shell.execute_reply": "2024-06-10T10:59:42.430041Z",
     "shell.execute_reply.started": "2024-06-10T10:59:42.417975Z"
    }
   },
   "outputs": [],
   "source": [
    "df_temp = (\n",
    "    pd.get_dummies(df_repayment_history['principal_amount_cat'], dtype=int)\n",
    "    .rename(columns={\"small\": \"loan_small\", \"medium\": \"loan_medium\", \"large\": \"loan_large\"})\n",
    ")\n",
    "df_repayment_history = pd.concat([df_repayment_history, df_temp], axis=1)\n",
    "\n",
    "# Percentage of Loans with Small, Medium and Large Principal Amounts\n",
    "df_repayment_history[\"user_pct_loans_small\"] = (\n",
    "    df_repayment_history.groupby([\"user_id\"], as_index=False)[\"loan_small\"].cumsum() / \\\n",
    "    (df_repayment_history.groupby([\"user_id\"], as_index=False).cumcount() + 1)\n",
    ").round(2)\n",
    "df_repayment_history[\"user_pct_loans_medium\"] = (\n",
    "    df_repayment_history.groupby([\"user_id\"], as_index=False)[\"loan_medium\"].cumsum() / \\\n",
    "    (df_repayment_history.groupby([\"user_id\"], as_index=False).cumcount() + 1)\n",
    ").round(2)\n",
    "df_repayment_history[\"user_pct_loans_large\"] = (\n",
    "    df_repayment_history.groupby([\"user_id\"], as_index=False)[\"loan_large\"].cumsum() / \\\n",
    "    (df_repayment_history.groupby([\"user_id\"], as_index=False).cumcount() + 1)\n",
    ").round(2)\n",
    "\n",
    "columns_to_keep.extend([\"user_pct_loans_small\", \"user_pct_loans_medium\", \"user_pct_loans_large\"])"
   ]
  },
  {
   "cell_type": "code",
   "execution_count": 39,
   "id": "04bc69d7-2540-4e0e-96cb-b7ca2875d9f1",
   "metadata": {
    "execution": {
     "iopub.execute_input": "2024-06-10T10:59:42.431048Z",
     "iopub.status.busy": "2024-06-10T10:59:42.431048Z",
     "iopub.status.idle": "2024-06-10T10:59:42.442964Z",
     "shell.execute_reply": "2024-06-10T10:59:42.442459Z",
     "shell.execute_reply.started": "2024-06-10T10:59:42.431048Z"
    }
   },
   "outputs": [],
   "source": [
    "df_temp = (\n",
    "    pd.get_dummies(df_repayment_history['interest_rate_cat'], dtype=int)\n",
    "    .rename(columns={\"small\": \"interest_rate_small\", \"medium\": \"interest_rate_medium\", \"large\": \"interest_rate_large\"})\n",
    ")\n",
    "df_repayment_history = pd.concat([df_repayment_history, df_temp], axis=1)\n",
    "\n",
    "# Percentage of Loans with Small, Medium and Large Interest Rates\n",
    "df_repayment_history[\"user_pct_int_rate_small\"] = (\n",
    "    df_repayment_history.groupby([\"user_id\"], as_index=False)[\"interest_rate_small\"].cumsum() / \\\n",
    "    (df_repayment_history.groupby([\"user_id\"], as_index=False).cumcount() + 1)\n",
    ").round(2)\n",
    "df_repayment_history[\"user_pct_int_rate_medium\"] = (\n",
    "    df_repayment_history.groupby([\"user_id\"], as_index=False)[\"interest_rate_medium\"].cumsum() / \\\n",
    "    (df_repayment_history.groupby([\"user_id\"], as_index=False).cumcount() + 1)\n",
    ").round(2)\n",
    "df_repayment_history[\"user_pct_int_rate_large\"] = (\n",
    "    df_repayment_history.groupby([\"user_id\"], as_index=False)[\"interest_rate_large\"].cumsum() / \\\n",
    "    (df_repayment_history.groupby([\"user_id\"], as_index=False).cumcount() + 1)\n",
    ").round(2)\n",
    "\n",
    "columns_to_keep.extend([\"user_pct_int_rate_small\", \"user_pct_int_rate_medium\", \"user_pct_int_rate_large\"])"
   ]
  },
  {
   "cell_type": "code",
   "execution_count": 40,
   "id": "4b2664f2-699d-408f-9c79-cd6ee5cba82d",
   "metadata": {
    "execution": {
     "iopub.execute_input": "2024-06-10T10:59:42.442964Z",
     "iopub.status.busy": "2024-06-10T10:59:42.442964Z",
     "iopub.status.idle": "2024-06-10T10:59:42.449450Z",
     "shell.execute_reply": "2024-06-10T10:59:42.448946Z",
     "shell.execute_reply.started": "2024-06-10T10:59:42.442964Z"
    }
   },
   "outputs": [],
   "source": [
    "df_repayment_history[\"loan_unpaid\"] = 0\n",
    "df_repayment_history.loc[df_repayment_history[\"pct_repaid\"] < 1, \"loan_unpaid\"] = 1 \n",
    "\n",
    "# Unpaid Loans Ratio: number of unpaid loans to total number of loans\n",
    "df_repayment_history[\"user_ratio_unpaid_loans\"] = (\n",
    "    df_repayment_history.groupby([\"user_id\"], as_index=False)[\"loan_unpaid\"].cumsum() / \\\n",
    "    (df_repayment_history.groupby([\"user_id\"], as_index=False).cumcount() + 1)\n",
    ").round(2)\n",
    "\n",
    "columns_to_keep.append(\"user_ratio_unpaid_loans\")"
   ]
  },
  {
   "cell_type": "code",
   "execution_count": 41,
   "id": "6bedc662-b2dd-4530-8a48-857bb94c061c",
   "metadata": {
    "execution": {
     "iopub.execute_input": "2024-06-10T10:59:42.449450Z",
     "iopub.status.busy": "2024-06-10T10:59:42.449450Z",
     "iopub.status.idle": "2024-06-10T10:59:42.455805Z",
     "shell.execute_reply": "2024-06-10T10:59:42.455805Z",
     "shell.execute_reply.started": "2024-06-10T10:59:42.449450Z"
    }
   },
   "outputs": [],
   "source": [
    "# Average Percentage of Debt: average percentage of debt incurred\n",
    "df_repayment_history[\"user_avg_pct_debt\"] = (\n",
    "    df_repayment_history.groupby([\"user_id\"], as_index=False)[\"pct_debt\"].cumsum() / \\\n",
    "    (df_repayment_history.groupby([\"user_id\"], as_index=False).cumcount() + 1)\n",
    ").round(2)\n",
    "\n",
    "columns_to_keep.append(\"user_avg_pct_debt\")"
   ]
  },
  {
   "cell_type": "code",
   "execution_count": 42,
   "id": "da423d94-6e14-49cb-a841-c864a7301efa",
   "metadata": {
    "execution": {
     "iopub.execute_input": "2024-06-10T10:59:42.457114Z",
     "iopub.status.busy": "2024-06-10T10:59:42.457114Z",
     "iopub.status.idle": "2024-06-10T10:59:42.461549Z",
     "shell.execute_reply": "2024-06-10T10:59:42.461496Z",
     "shell.execute_reply.started": "2024-06-10T10:59:42.457114Z"
    }
   },
   "outputs": [],
   "source": [
    "# Average Number of Repayments\n",
    "df_repayment_history[\"user_avg_num_repayments\"] = (\n",
    "    df_repayment_history.groupby([\"user_id\"], as_index=False)[\"num_repayments\"].cumsum() / \\\n",
    "    (df_repayment_history.groupby([\"user_id\"], as_index=False).cumcount() + 1)\n",
    ").apply(np.ceil)\n",
    "\n",
    "columns_to_keep.append(\"user_avg_num_repayments\")"
   ]
  },
  {
   "cell_type": "code",
   "execution_count": 43,
   "id": "ad8d008d-bc2f-4d6c-9b9c-d60903b2e38c",
   "metadata": {
    "execution": {
     "iopub.execute_input": "2024-06-10T10:59:42.466183Z",
     "iopub.status.busy": "2024-06-10T10:59:42.466183Z",
     "iopub.status.idle": "2024-06-10T10:59:42.471825Z",
     "shell.execute_reply": "2024-06-10T10:59:42.471825Z",
     "shell.execute_reply.started": "2024-06-10T10:59:42.466183Z"
    }
   },
   "outputs": [],
   "source": [
    "# Average Repayment Amount\n",
    "df_repayment_history[\"user_avg_repayment_amount\"] = (\n",
    "    df_repayment_history.groupby([\"user_id\"], as_index=False)[\"avg_repayment_amount\"].cumsum() / \\\n",
    "    (df_repayment_history.groupby([\"user_id\"], as_index=False).cumcount() + 1)\n",
    ")\n",
    "\n",
    "columns_to_keep.append(\"user_avg_repayment_amount\")"
   ]
  },
  {
   "cell_type": "code",
   "execution_count": 44,
   "id": "917ac62d-4df5-4d78-9c91-85d817eae59a",
   "metadata": {
    "execution": {
     "iopub.execute_input": "2024-06-10T10:59:42.472854Z",
     "iopub.status.busy": "2024-06-10T10:59:42.472854Z",
     "iopub.status.idle": "2024-06-10T10:59:42.478442Z",
     "shell.execute_reply": "2024-06-10T10:59:42.478442Z",
     "shell.execute_reply.started": "2024-06-10T10:59:42.472854Z"
    }
   },
   "outputs": [],
   "source": [
    "# Average Repayment Lag\n",
    "df_repayment_history[\"user_avg_lag_repayment\"] = (\n",
    "    df_repayment_history.groupby([\"user_id\"], as_index=False)[\"avg_lag_repayment\"].cumsum() / \\\n",
    "    (df_repayment_history.groupby([\"user_id\"], as_index=False).cumcount() + 1)\n",
    ").apply(np.ceil)\n",
    "\n",
    "columns_to_keep.append(\"user_avg_lag_repayment\")"
   ]
  },
  {
   "cell_type": "code",
   "execution_count": 45,
   "id": "c2a32fc3-6eb3-4404-a51f-ef41021f5779",
   "metadata": {
    "execution": {
     "iopub.execute_input": "2024-06-10T10:59:42.480455Z",
     "iopub.status.busy": "2024-06-10T10:59:42.479447Z",
     "iopub.status.idle": "2024-06-10T10:59:42.485561Z",
     "shell.execute_reply": "2024-06-10T10:59:42.485561Z",
     "shell.execute_reply.started": "2024-06-10T10:59:42.480455Z"
    }
   },
   "outputs": [],
   "source": [
    "# Average Default Rate\n",
    "df_repayment_history[\"user_avg_rate_default\"] = (\n",
    "    df_repayment_history.groupby([\"user_id\"], as_index=False)[\"rate_default\"].cumsum() / \\\n",
    "    (df_repayment_history.groupby([\"user_id\"], as_index=False).cumcount() + 1)\n",
    ")\n",
    "\n",
    "columns_to_keep.append(\"user_avg_rate_default\")"
   ]
  },
  {
   "cell_type": "code",
   "execution_count": 46,
   "id": "6decbc74-c9d7-416a-b47d-9c69baa46c16",
   "metadata": {
    "execution": {
     "iopub.execute_input": "2024-06-10T10:59:42.486732Z",
     "iopub.status.busy": "2024-06-10T10:59:42.486732Z",
     "iopub.status.idle": "2024-06-10T10:59:42.491996Z",
     "shell.execute_reply": "2024-06-10T10:59:42.491996Z",
     "shell.execute_reply.started": "2024-06-10T10:59:42.486732Z"
    }
   },
   "outputs": [],
   "source": [
    "# Due Date Exceeded Rate: number of loans who were repayed outside of term to the total number of loans\n",
    "df_repayment_history[\"user_rate_due_date_exceeded\"] = (\n",
    "    df_repayment_history.groupby([\"user_id\"], as_index=False)[\"due_date_exceeded\"].cumsum() / \\\n",
    "    (df_repayment_history.groupby([\"user_id\"], as_index=False).cumcount() + 1)\n",
    ")\n",
    "\n",
    "columns_to_keep.append(\"user_rate_due_date_exceeded\")"
   ]
  },
  {
   "cell_type": "code",
   "execution_count": 47,
   "id": "e3f75890-2591-49b8-a56e-0b2965557b54",
   "metadata": {
    "execution": {
     "iopub.execute_input": "2024-06-10T10:59:42.493089Z",
     "iopub.status.busy": "2024-06-10T10:59:42.493089Z",
     "iopub.status.idle": "2024-06-10T10:59:42.498708Z",
     "shell.execute_reply": "2024-06-10T10:59:42.498204Z",
     "shell.execute_reply.started": "2024-06-10T10:59:42.493089Z"
    }
   },
   "outputs": [],
   "source": [
    "# Average Maximum Repayment Delay\n",
    "df_repayment_history[\"user_avg_max_repayment_delay\"] = (\n",
    "    df_repayment_history.groupby([\"user_id\"], as_index=False)[\"max_repayment_delay\"].cumsum() / \\\n",
    "    (df_repayment_history.groupby([\"user_id\"], as_index=False).cumcount() + 1)\n",
    ").apply(np.ceil)\n",
    "\n",
    "columns_to_keep.append(\"user_avg_max_repayment_delay\")"
   ]
  },
  {
   "cell_type": "code",
   "execution_count": 48,
   "id": "2193920f-c40e-4dd4-8180-313a6dd4baf6",
   "metadata": {
    "execution": {
     "iopub.execute_input": "2024-06-10T10:59:42.499729Z",
     "iopub.status.busy": "2024-06-10T10:59:42.499729Z",
     "iopub.status.idle": "2024-06-10T10:59:42.504424Z",
     "shell.execute_reply": "2024-06-10T10:59:42.504424Z",
     "shell.execute_reply.started": "2024-06-10T10:59:42.499729Z"
    }
   },
   "outputs": [],
   "source": [
    "# Average Manual Repayments Rate: measures the preference of manual repayments (pix) over scheduled repayments (autopilot)\n",
    "df_repayment_history[\"user_avg_rate_manual_repayments\"] = (\n",
    "    df_repayment_history.groupby([\"user_id\"], as_index=False)[\"rate_manual_repayments\"].cumsum() / \\\n",
    "    (df_repayment_history.groupby([\"user_id\"], as_index=False).cumcount() + 1)\n",
    ")\n",
    "\n",
    "columns_to_keep.append(\"user_avg_rate_manual_repayments\")"
   ]
  },
  {
   "cell_type": "code",
   "execution_count": 49,
   "id": "b3f0bb89-a8bd-4567-a03c-b04706dcc131",
   "metadata": {
    "execution": {
     "iopub.execute_input": "2024-06-10T10:59:42.505522Z",
     "iopub.status.busy": "2024-06-10T10:59:42.505522Z",
     "iopub.status.idle": "2024-06-10T10:59:42.509229Z",
     "shell.execute_reply": "2024-06-10T10:59:42.509229Z",
     "shell.execute_reply.started": "2024-06-10T10:59:42.505522Z"
    }
   },
   "outputs": [],
   "source": [
    "# clean-up\n",
    "df_repayment_history = df_repayment_history.loc[:, df_repayment_history.columns.isin(columns_to_keep)]"
   ]
  },
  {
   "cell_type": "markdown",
   "id": "03919b74-c229-427a-b9d8-a21a7866b9be",
   "metadata": {
    "jp-MarkdownHeadingCollapsed": true
   },
   "source": [
    "## ✅ checkpoint"
   ]
  },
  {
   "cell_type": "code",
   "execution_count": 51,
   "id": "c2d15f95-6246-4c34-ae99-6dd2c907853e",
   "metadata": {
    "execution": {
     "iopub.execute_input": "2024-06-10T10:59:42.524070Z",
     "iopub.status.busy": "2024-06-10T10:59:42.524070Z",
     "iopub.status.idle": "2024-06-10T10:59:42.529243Z",
     "shell.execute_reply": "2024-06-10T10:59:42.529243Z",
     "shell.execute_reply.started": "2024-06-10T10:59:42.524070Z"
    }
   },
   "outputs": [],
   "source": [
    "df_repayment_history.to_pickle(\"../data/processed/df_user_repayment_history.pkl\")"
   ]
  },
  {
   "cell_type": "markdown",
   "id": "81ee8361-9a36-4893-965d-14534075a7b5",
   "metadata": {
    "jp-MarkdownHeadingCollapsed": true
   },
   "source": [
    "# Loan Quality\n",
    "\n",
    "**Definition:**\n",
    "- We define the quality of a loan based on its final status (paid, debt) and its repayment history, specifically the default rate.\n",
    "- **Loans in Debt**\n",
    "    - Loans resulting in debt are of low quality.\n",
    "- **Paid Loans**\n",
    "    - The quality of a paid loan is assessed based on the default rate of that loan benchmarked to the upper fence default rate across all paid loans.\n",
    "    - However, loans vary in amount, a factor that impacts the profile of the loan and the user repayment behavior.\n",
    "    - Thus, to define the quality of a paid loan we need to benchmark the default rate of a paid loan to the upper fence default rate of the category that it belongs to. The category is defined based on the principal amount (small, medium, large)."
   ]
  },
  {
   "cell_type": "code",
   "execution_count": 53,
   "id": "6764490c-e1fa-4097-8ac5-51f7653a497d",
   "metadata": {
    "execution": {
     "iopub.execute_input": "2024-06-10T10:59:42.542874Z",
     "iopub.status.busy": "2024-06-10T10:59:42.542874Z",
     "iopub.status.idle": "2024-06-10T10:59:42.549950Z",
     "shell.execute_reply": "2024-06-10T10:59:42.549950Z",
     "shell.execute_reply.started": "2024-06-10T10:59:42.542874Z"
    }
   },
   "outputs": [
    {
     "name": "stderr",
     "output_type": "stream",
     "text": [
      "C:\\Users\\lampr\\AppData\\Local\\Temp\\ipykernel_22756\\3012232027.py:5: SettingWithCopyWarning:\n",
      "\n",
      "\n",
      "A value is trying to be set on a copy of a slice from a DataFrame.\n",
      "Try using .loc[row_indexer,col_indexer] = value instead\n",
      "\n",
      "See the caveats in the documentation: https://pandas.pydata.org/pandas-docs/stable/user_guide/indexing.html#returning-a-view-versus-a-copy\n",
      "\n"
     ]
    }
   ],
   "source": [
    "df_loans_debt = df_loans[df_loans[\"status_cleaned\"] == \"debt\"]\n",
    "df_loans_repaid = df_loans[df_loans[\"status_cleaned\"] == \"repaid\"]\n",
    "\n",
    "# Loans resulting in debt are of low quality\n",
    "df_loans_debt[\"loan_quality\"] = \"low_quality\""
   ]
  },
  {
   "cell_type": "code",
   "execution_count": 54,
   "id": "57aaca56-bcf3-4680-891f-bc0e3a986f64",
   "metadata": {
    "execution": {
     "iopub.execute_input": "2024-06-10T10:59:42.550955Z",
     "iopub.status.busy": "2024-06-10T10:59:42.550955Z",
     "iopub.status.idle": "2024-06-10T10:59:42.565583Z",
     "shell.execute_reply": "2024-06-10T10:59:42.565583Z",
     "shell.execute_reply.started": "2024-06-10T10:59:42.550955Z"
    }
   },
   "outputs": [
    {
     "data": {
      "text/html": [
       "<div>\n",
       "<style scoped>\n",
       "    .dataframe tbody tr th:only-of-type {\n",
       "        vertical-align: middle;\n",
       "    }\n",
       "\n",
       "    .dataframe tbody tr th {\n",
       "        vertical-align: top;\n",
       "    }\n",
       "\n",
       "    .dataframe thead th {\n",
       "        text-align: right;\n",
       "    }\n",
       "</style>\n",
       "<table border=\"1\" class=\"dataframe\">\n",
       "  <thead>\n",
       "    <tr style=\"text-align: right;\">\n",
       "      <th></th>\n",
       "      <th>principal_amount_cat</th>\n",
       "      <th>count</th>\n",
       "      <th>mean</th>\n",
       "      <th>std</th>\n",
       "      <th>min</th>\n",
       "      <th>25%</th>\n",
       "      <th>50%</th>\n",
       "      <th>75%</th>\n",
       "      <th>max</th>\n",
       "      <th>upper_fence</th>\n",
       "    </tr>\n",
       "  </thead>\n",
       "  <tbody>\n",
       "    <tr>\n",
       "      <th>0</th>\n",
       "      <td>large</td>\n",
       "      <td>4470.0</td>\n",
       "      <td>0.053071</td>\n",
       "      <td>0.084829</td>\n",
       "      <td>0.0</td>\n",
       "      <td>0.0</td>\n",
       "      <td>0.027778</td>\n",
       "      <td>0.067514</td>\n",
       "      <td>0.800000</td>\n",
       "      <td>0.168785</td>\n",
       "    </tr>\n",
       "    <tr>\n",
       "      <th>1</th>\n",
       "      <td>medium</td>\n",
       "      <td>271.0</td>\n",
       "      <td>0.071481</td>\n",
       "      <td>0.118876</td>\n",
       "      <td>0.0</td>\n",
       "      <td>0.0</td>\n",
       "      <td>0.036364</td>\n",
       "      <td>0.081633</td>\n",
       "      <td>0.769231</td>\n",
       "      <td>0.204082</td>\n",
       "    </tr>\n",
       "    <tr>\n",
       "      <th>2</th>\n",
       "      <td>small</td>\n",
       "      <td>306.0</td>\n",
       "      <td>0.091619</td>\n",
       "      <td>0.128716</td>\n",
       "      <td>0.0</td>\n",
       "      <td>0.0</td>\n",
       "      <td>0.035423</td>\n",
       "      <td>0.142857</td>\n",
       "      <td>0.882353</td>\n",
       "      <td>0.357143</td>\n",
       "    </tr>\n",
       "  </tbody>\n",
       "</table>\n",
       "</div>"
      ],
      "text/plain": [
       "  principal_amount_cat   count      mean       std  min  25%       50%  \\\n",
       "0                large  4470.0  0.053071  0.084829  0.0  0.0  0.027778   \n",
       "1               medium   271.0  0.071481  0.118876  0.0  0.0  0.036364   \n",
       "2                small   306.0  0.091619  0.128716  0.0  0.0  0.035423   \n",
       "\n",
       "        75%       max  upper_fence  \n",
       "0  0.067514  0.800000     0.168785  \n",
       "1  0.081633  0.769231     0.204082  \n",
       "2  0.142857  0.882353     0.357143  "
      ]
     },
     "execution_count": 54,
     "metadata": {},
     "output_type": "execute_result"
    }
   ],
   "source": [
    "# calculate the 5-number summary for default rate per loan principal amount category\n",
    "stats = df_loans_repaid[df_loans_repaid[\"status_cleaned\"] == \"repaid\"].groupby([\"principal_amount_cat\"], as_index=False)[\"rate_default\"].describe()\n",
    "# calculate the upper fence (Q3 + 1.5*IQR) to find the outliers\n",
    "stats[\"upper_fence\"] = stats[\"75%\"] + 1.5 * (stats[\"75%\"] - stats[\"25%\"])\n",
    "\n",
    "stats"
   ]
  },
  {
   "cell_type": "code",
   "execution_count": 55,
   "id": "43c548ba-c716-44ba-896d-b2f694a3a83c",
   "metadata": {
    "execution": {
     "iopub.execute_input": "2024-06-10T10:59:42.566590Z",
     "iopub.status.busy": "2024-06-10T10:59:42.566590Z",
     "iopub.status.idle": "2024-06-10T10:59:42.573475Z",
     "shell.execute_reply": "2024-06-10T10:59:42.572962Z",
     "shell.execute_reply.started": "2024-06-10T10:59:42.566590Z"
    }
   },
   "outputs": [],
   "source": [
    "stats = stats[[\"principal_amount_cat\", \"upper_fence\"]]\n",
    "df_loans_repaid = df_loans_repaid.merge(stats, how=\"left\", on=[\"principal_amount_cat\"])\n",
    "\n",
    "# loans that have a default rate higher than the upper fence (outliers) are of low quality, otherwise of high quality\n",
    "# the upper fence is respective to the principal amount category\n",
    "df_loans_repaid[\"loan_quality\"] = \"high_quality\"\n",
    "df_loans_repaid.loc[df_loans_repaid[\"rate_default\"] > df_loans_repaid[\"upper_fence\"], \"loan_quality\"] = \"low_quality\"\n",
    "\n",
    "df_loans_repaid = df_loans_repaid.drop(columns=[\"upper_fence\"])"
   ]
  },
  {
   "cell_type": "code",
   "execution_count": 56,
   "id": "5842a492-3e9d-4bef-83fc-c3d25782e1a3",
   "metadata": {
    "execution": {
     "iopub.execute_input": "2024-06-10T10:59:42.573475Z",
     "iopub.status.busy": "2024-06-10T10:59:42.573475Z",
     "iopub.status.idle": "2024-06-10T10:59:42.578618Z",
     "shell.execute_reply": "2024-06-10T10:59:42.578405Z",
     "shell.execute_reply.started": "2024-06-10T10:59:42.573475Z"
    }
   },
   "outputs": [],
   "source": [
    "df_loans = pd.concat([df_loans_debt, df_loans_repaid])"
   ]
  },
  {
   "cell_type": "code",
   "execution_count": 57,
   "id": "728d5034-49ed-4884-9040-a8238c204a71",
   "metadata": {
    "execution": {
     "iopub.execute_input": "2024-06-10T10:59:42.579630Z",
     "iopub.status.busy": "2024-06-10T10:59:42.579630Z",
     "iopub.status.idle": "2024-06-10T10:59:42.584164Z",
     "shell.execute_reply": "2024-06-10T10:59:42.584164Z",
     "shell.execute_reply.started": "2024-06-10T10:59:42.579630Z"
    }
   },
   "outputs": [
    {
     "data": {
      "text/plain": [
       "loan_quality\n",
       "high_quality    4682\n",
       "low_quality     1906\n",
       "Name: count, dtype: int64"
      ]
     },
     "execution_count": 57,
     "metadata": {},
     "output_type": "execute_result"
    }
   ],
   "source": [
    "df_loans[\"loan_quality\"].value_counts()"
   ]
  },
  {
   "cell_type": "markdown",
   "id": "6bdf7b6d-9051-46f0-9cf9-f5eaab272f31",
   "metadata": {
    "jp-MarkdownHeadingCollapsed": true
   },
   "source": [
    "## ✅ checkpoint"
   ]
  },
  {
   "cell_type": "code",
   "execution_count": 59,
   "id": "9a9044ab-ac4d-407b-ba81-f312c48af67e",
   "metadata": {
    "execution": {
     "iopub.execute_input": "2024-06-10T10:59:42.600681Z",
     "iopub.status.busy": "2024-06-10T10:59:42.600681Z",
     "iopub.status.idle": "2024-06-10T10:59:42.605586Z",
     "shell.execute_reply": "2024-06-10T10:59:42.605586Z",
     "shell.execute_reply.started": "2024-06-10T10:59:42.600681Z"
    }
   },
   "outputs": [],
   "source": [
    "df_loans.to_pickle(\"../data/processed/df_loans.pkl\")"
   ]
  },
  {
   "cell_type": "markdown",
   "id": "a654c70c-4719-46c1-9757-6d3a29ab5519",
   "metadata": {
    "jp-MarkdownHeadingCollapsed": true
   },
   "source": [
    "# RFM Analysis\n",
    "\n",
    "- Customer (User) Segmentation based on RFM Analysis\n",
    "- RFM segments the consumer (user) base by their purchasing patterns or habits based on Recency (R), Frequency (F) and Monetary Value (M)\n",
    "- *Recency:* how long ago they made a purchase\n",
    "- *Frequency:* how often they make purchases\n",
    "- *Monetary Value:* how much money they spend"
   ]
  },
  {
   "cell_type": "markdown",
   "id": "663343a5-75f2-46af-87fc-b7a65acb71ce",
   "metadata": {
    "jp-MarkdownHeadingCollapsed": true
   },
   "source": [
    "## Scores Definitions\n",
    "\n",
    "Typically, RFM scores are in a scale of 1-5. \n",
    "\n",
    "However, the scores will range from 1-3 (the lower, the better the results for a customer) in order to avoid segments that have similar loan repayment behavior.\n",
    "\n",
    "| Recency | Frequency | Monetary |\n",
    "| :-----: | :-------: | :------: |\n",
    "| up to 1 month (1) | more than 500 (1) | more than R\\\\$ 500k (1) |\n",
    "| 1 to 3 months (2) | 100 to 500 (2) | R\\\\$ 100k to 500k (2) |\n",
    "| more than 3 months (3) | less than 100 (3) | less than R\\\\$100k (3) |"
   ]
  },
  {
   "cell_type": "code",
   "execution_count": 62,
   "id": "8f464be0-aad1-4e69-8e39-a89d40b08ddb",
   "metadata": {
    "execution": {
     "iopub.execute_input": "2024-06-10T10:59:42.633801Z",
     "iopub.status.busy": "2024-06-10T10:59:42.633801Z",
     "iopub.status.idle": "2024-06-10T10:59:42.644517Z",
     "shell.execute_reply": "2024-06-10T10:59:42.644517Z",
     "shell.execute_reply.started": "2024-06-10T10:59:42.633801Z"
    }
   },
   "outputs": [
    {
     "data": {
      "text/html": [
       "<div>\n",
       "<style scoped>\n",
       "    .dataframe tbody tr th:only-of-type {\n",
       "        vertical-align: middle;\n",
       "    }\n",
       "\n",
       "    .dataframe tbody tr th {\n",
       "        vertical-align: top;\n",
       "    }\n",
       "\n",
       "    .dataframe thead th {\n",
       "        text-align: right;\n",
       "    }\n",
       "</style>\n",
       "<table border=\"1\" class=\"dataframe\">\n",
       "  <thead>\n",
       "    <tr style=\"text-align: right;\">\n",
       "      <th></th>\n",
       "      <th>recency</th>\n",
       "      <th>frequency</th>\n",
       "      <th>monetary</th>\n",
       "    </tr>\n",
       "  </thead>\n",
       "  <tbody>\n",
       "    <tr>\n",
       "      <th>count</th>\n",
       "      <td>3043.000000</td>\n",
       "      <td>3043.000000</td>\n",
       "      <td>3.043000e+03</td>\n",
       "    </tr>\n",
       "    <tr>\n",
       "      <th>mean</th>\n",
       "      <td>125.346369</td>\n",
       "      <td>473.829445</td>\n",
       "      <td>6.592698e+05</td>\n",
       "    </tr>\n",
       "    <tr>\n",
       "      <th>std</th>\n",
       "      <td>91.242729</td>\n",
       "      <td>1047.322255</td>\n",
       "      <td>1.951745e+07</td>\n",
       "    </tr>\n",
       "    <tr>\n",
       "      <th>min</th>\n",
       "      <td>0.000000</td>\n",
       "      <td>1.000000</td>\n",
       "      <td>4.150000e+01</td>\n",
       "    </tr>\n",
       "    <tr>\n",
       "      <th>25%</th>\n",
       "      <td>42.000000</td>\n",
       "      <td>74.000000</td>\n",
       "      <td>5.357745e+04</td>\n",
       "    </tr>\n",
       "    <tr>\n",
       "      <th>50%</th>\n",
       "      <td>105.000000</td>\n",
       "      <td>179.000000</td>\n",
       "      <td>1.032773e+05</td>\n",
       "    </tr>\n",
       "    <tr>\n",
       "      <th>75%</th>\n",
       "      <td>196.000000</td>\n",
       "      <td>463.000000</td>\n",
       "      <td>1.984965e+05</td>\n",
       "    </tr>\n",
       "    <tr>\n",
       "      <th>max</th>\n",
       "      <td>358.000000</td>\n",
       "      <td>25660.000000</td>\n",
       "      <td>1.000132e+09</td>\n",
       "    </tr>\n",
       "  </tbody>\n",
       "</table>\n",
       "</div>"
      ],
      "text/plain": [
       "           recency     frequency      monetary\n",
       "count  3043.000000   3043.000000  3.043000e+03\n",
       "mean    125.346369    473.829445  6.592698e+05\n",
       "std      91.242729   1047.322255  1.951745e+07\n",
       "min       0.000000      1.000000  4.150000e+01\n",
       "25%      42.000000     74.000000  5.357745e+04\n",
       "50%     105.000000    179.000000  1.032773e+05\n",
       "75%     196.000000    463.000000  1.984965e+05\n",
       "max     358.000000  25660.000000  1.000132e+09"
      ]
     },
     "execution_count": 62,
     "metadata": {},
     "output_type": "execute_result"
    }
   ],
   "source": [
    "df_users[[\"recency\", \"frequency\", \"monetary\"]].describe()"
   ]
  },
  {
   "cell_type": "code",
   "execution_count": 63,
   "id": "9e1d06cc-9d46-45cf-8e7e-0b99cdc52228",
   "metadata": {
    "execution": {
     "iopub.execute_input": "2024-06-10T10:59:42.645820Z",
     "iopub.status.busy": "2024-06-10T10:59:42.645710Z",
     "iopub.status.idle": "2024-06-10T10:59:42.650523Z",
     "shell.execute_reply": "2024-06-10T10:59:42.650523Z",
     "shell.execute_reply.started": "2024-06-10T10:59:42.645820Z"
    }
   },
   "outputs": [],
   "source": [
    "# Recency buckets\n",
    "# Higher values indicate users who haven't made a purchase for a long time (not active)\n",
    "\n",
    "df_users.loc[df_users[\"recency\"] <= 30, \"recency_bin\"] = \"1\"\n",
    "df_users.loc[df_users[\"recency\"].between(30, 90, inclusive=\"right\"), \"recency_bin\"] = \"2\"\n",
    "df_users.loc[df_users[\"recency\"] > 90, \"recency_bin\"] = \"3\""
   ]
  },
  {
   "cell_type": "code",
   "execution_count": 64,
   "id": "1687ed58-c981-4d2b-becb-ca93263c71cc",
   "metadata": {
    "execution": {
     "iopub.execute_input": "2024-06-10T10:59:42.651526Z",
     "iopub.status.busy": "2024-06-10T10:59:42.651526Z",
     "iopub.status.idle": "2024-06-10T10:59:42.656212Z",
     "shell.execute_reply": "2024-06-10T10:59:42.656212Z",
     "shell.execute_reply.started": "2024-06-10T10:59:42.651526Z"
    }
   },
   "outputs": [],
   "source": [
    "# Frequency buckets\n",
    "# Higher values indicate users who make frequent purchases (more active)\n",
    "\n",
    "df_users.loc[df_users[\"frequency\"] <= 100, \"frequency_bin\"] = \"3\"\n",
    "df_users.loc[df_users[\"frequency\"].between(100, 500, inclusive=\"right\"), \"frequency_bin\"] = \"2\"\n",
    "df_users.loc[df_users[\"frequency\"] > 500, \"frequency_bin\"] = \"1\""
   ]
  },
  {
   "cell_type": "code",
   "execution_count": 65,
   "id": "36d9ac0c-eab2-4599-8791-08c9a3a3dd45",
   "metadata": {
    "execution": {
     "iopub.execute_input": "2024-06-10T10:59:42.657255Z",
     "iopub.status.busy": "2024-06-10T10:59:42.657255Z",
     "iopub.status.idle": "2024-06-10T10:59:42.662013Z",
     "shell.execute_reply": "2024-06-10T10:59:42.661940Z",
     "shell.execute_reply.started": "2024-06-10T10:59:42.657255Z"
    }
   },
   "outputs": [],
   "source": [
    "# Monetary buckets\n",
    "# Higher values indicate users with higher spendings\n",
    "\n",
    "df_users.loc[df_users[\"monetary\"] <= 100_000, \"monetary_bin\"] = \"3\"\n",
    "df_users.loc[df_users[\"monetary\"].between(100_000, 500_000, inclusive=\"right\"), \"monetary_bin\"] = \"2\"\n",
    "df_users.loc[df_users[\"monetary\"] > 500_000, \"monetary_bin\"] = \"1\""
   ]
  },
  {
   "cell_type": "markdown",
   "id": "4060eac4-ac01-454f-80b8-49fe32f31f00",
   "metadata": {
    "jp-MarkdownHeadingCollapsed": true
   },
   "source": [
    "## Segment Definitions\n",
    "\n",
    "Customer (user) segments identified:\n",
    "- **Champions:** Extremely active cutomers (high frequency and low recency) with moderate to high monetary value\n",
    "- **Big Spenders:** Active customers (medium recency and frequency) with high monetary value\n",
    "- **Promising:** Active customers (medium recency and frequency) with low to moderate monetary value\n",
    "- **Recent:** Customers who entered our base recently (low frequency and moderate to high recency) with low to moderate monetary value\n",
    "- **Inactive:** Customers with extremely low activity (low recency and low to moderate frequency); monetary value isn't a factor here"
   ]
  },
  {
   "cell_type": "code",
   "execution_count": 67,
   "id": "226664bb-7591-4a3a-a8c5-4a91c0139810",
   "metadata": {
    "execution": {
     "iopub.execute_input": "2024-06-10T10:59:42.677149Z",
     "iopub.status.busy": "2024-06-10T10:59:42.677149Z",
     "iopub.status.idle": "2024-06-10T10:59:42.681343Z",
     "shell.execute_reply": "2024-06-10T10:59:42.680839Z",
     "shell.execute_reply.started": "2024-06-10T10:59:42.677149Z"
    }
   },
   "outputs": [],
   "source": [
    "df_users[\"rfm_segment\"] = df_users[\"recency_bin\"] + df_users[\"frequency_bin\"] + df_users[\"monetary_bin\"]"
   ]
  },
  {
   "cell_type": "code",
   "execution_count": 68,
   "id": "61481f75-2654-4f49-b25f-9e8c431c23e6",
   "metadata": {
    "execution": {
     "iopub.execute_input": "2024-06-10T10:59:42.681343Z",
     "iopub.status.busy": "2024-06-10T10:59:42.681343Z",
     "iopub.status.idle": "2024-06-10T10:59:42.688600Z",
     "shell.execute_reply": "2024-06-10T10:59:42.688600Z",
     "shell.execute_reply.started": "2024-06-10T10:59:42.681343Z"
    }
   },
   "outputs": [],
   "source": [
    "# define customer clusters based on RFM Analysis\n",
    "cluster_1 = [\"111\", \"113\", \"112\"]  # Champions\n",
    "cluster_2 = [\"121\", \"231\", \"221\", \"211\"]  # Big Spenders\n",
    "cluster_3 = [\"213\", \"122\", \"123\", \"212\", \"222\", \"223\", \"311\", \"313\", \"312\"]  # Promising Customers\n",
    "cluster_4 = [\"131\", \"132\", \"133\", \"232\", \"233\"]  # Recent Customers\n",
    "cluster_5 = [\"331\", \"332\", \"333\", \"321\", \"322\", \"323\"]  # Inactive Customers\n",
    "\n",
    "clusters = list(\n",
    "    zip(\n",
    "        [cluster_1, cluster_2, cluster_3, cluster_4, cluster_5],\n",
    "        [\"Champions\", \"Big Spenders\", \"Promising\", \"Recent\", \"Inactive\"]\n",
    "    )\n",
    ")\n",
    "\n",
    "for cluster, label in clusters:\n",
    "    df_users.loc[df_users[\"rfm_segment\"].isin(cluster), \"rfm_segment_desc\"] = label"
   ]
  },
  {
   "cell_type": "code",
   "execution_count": 69,
   "id": "daa150d5-e700-4d0e-892e-cf191b838169",
   "metadata": {
    "execution": {
     "iopub.execute_input": "2024-06-10T10:59:42.689612Z",
     "iopub.status.busy": "2024-06-10T10:59:42.689612Z",
     "iopub.status.idle": "2024-06-10T10:59:43.313215Z",
     "shell.execute_reply": "2024-06-10T10:59:43.313215Z",
     "shell.execute_reply.started": "2024-06-10T10:59:42.689612Z"
    }
   },
   "outputs": [],
   "source": [
    "fig = px.histogram(\n",
    "    df_users,\n",
    "    x=\"rfm_segment_desc\",\n",
    "    histnorm=\"percent\",\n",
    "    color_discrete_sequence=[colors[\"dark_blue\"]],\n",
    ")\n",
    "\n",
    "fig.update_layout(\n",
    "    title=\"<b>83% of the users have moderate to modest activity and spending habits<br><sub>Promising and Inactive segments</sub></b>\",\n",
    "    title_font_size=title_font_size,\n",
    "    font_size=font_size,\n",
    "    xaxis_title=\"user segment\",\n",
    "    yaxis_title=\"% of user\",\n",
    "    template=template,\n",
    ")\n",
    "fig.update_xaxes(\n",
    "    categoryorder='array', \n",
    "    categoryarray=[label for cluster, label in clusters]\n",
    ")\n",
    "fig.update_traces(\n",
    "    texttemplate=\"%{y:,.0f}%\",\n",
    "    textposition=\"inside\"\n",
    ")\n",
    "\n",
    "fig.show()"
   ]
  },
  {
   "attachments": {
    "bf0dcffb-98e0-45d3-b5ef-fe27b7563502.png": {
     "image/png": "[encoded data removed]"
    }
   },
   "cell_type": "markdown",
   "id": "05cc46c7-0a10-4159-8ca3-444d509317a1",
   "metadata": {},
   "source": [
    "![img-4.png](attachment:bf0dcffb-98e0-45d3-b5ef-fe27b7563502.png)"
   ]
  },
  {
   "cell_type": "code",
   "execution_count": 71,
   "id": "e689135f-efc2-4b79-ab00-93969fb45a11",
   "metadata": {
    "execution": {
     "iopub.execute_input": "2024-06-10T10:59:43.331403Z",
     "iopub.status.busy": "2024-06-10T10:59:43.331403Z",
     "iopub.status.idle": "2024-06-10T10:59:43.452477Z",
     "shell.execute_reply": "2024-06-10T10:59:43.452477Z",
     "shell.execute_reply.started": "2024-06-10T10:59:43.331403Z"
    }
   },
   "outputs": [],
   "source": [
    "fig = px.box(\n",
    "    df_users, \n",
    "    x=\"rfm_segment_desc\", \n",
    "    y=\"recency\",\n",
    "    color_discrete_sequence=[colors[\"dark_blue\"]]\n",
    ")\n",
    "\n",
    "fig.update_layout(\n",
    "    title=\"<b>Recency distribution per user segment</b>\",\n",
    "    title_font_size=title_font_size,\n",
    "    font_size=font_size,\n",
    "    xaxis_title=\"user segment\",\n",
    "    yaxis_title=\"Recency (days)\",\n",
    "    showlegend=False,\n",
    "    template=template,\n",
    ")\n",
    "fig.update_xaxes(\n",
    "    categoryorder='array', \n",
    "    categoryarray=[label for cluster, label in clusters]\n",
    ")\n",
    "\n",
    "fig.show()"
   ]
  },
  {
   "attachments": {
    "5a3df405-4373-4937-b0eb-6d9db347813c.png": {
     "image/png": "[encoded data removed]"
    }
   },
   "cell_type": "markdown",
   "id": "5d9cd487-f69d-4648-a2d8-5623ece4de23",
   "metadata": {},
   "source": [
    "![img-1.png](attachment:5a3df405-4373-4937-b0eb-6d9db347813c.png)"
   ]
  },
  {
   "cell_type": "code",
   "execution_count": 73,
   "id": "c00fbdac-2fbb-4498-96b6-0584a3818674",
   "metadata": {
    "execution": {
     "iopub.execute_input": "2024-06-10T10:59:43.470757Z",
     "iopub.status.busy": "2024-06-10T10:59:43.470494Z",
     "iopub.status.idle": "2024-06-10T10:59:43.484545Z",
     "shell.execute_reply": "2024-06-10T10:59:43.484545Z",
     "shell.execute_reply.started": "2024-06-10T10:59:43.470757Z"
    }
   },
   "outputs": [
    {
     "data": {
      "text/html": [
       "<div>\n",
       "<style scoped>\n",
       "    .dataframe tbody tr th:only-of-type {\n",
       "        vertical-align: middle;\n",
       "    }\n",
       "\n",
       "    .dataframe tbody tr th {\n",
       "        vertical-align: top;\n",
       "    }\n",
       "\n",
       "    .dataframe thead th {\n",
       "        text-align: right;\n",
       "    }\n",
       "</style>\n",
       "<table border=\"1\" class=\"dataframe\">\n",
       "  <thead>\n",
       "    <tr style=\"text-align: right;\">\n",
       "      <th></th>\n",
       "      <th>rfm_segment_desc</th>\n",
       "      <th>count</th>\n",
       "      <th>mean</th>\n",
       "      <th>std</th>\n",
       "      <th>min</th>\n",
       "      <th>25%</th>\n",
       "      <th>50%</th>\n",
       "      <th>75%</th>\n",
       "      <th>max</th>\n",
       "    </tr>\n",
       "  </thead>\n",
       "  <tbody>\n",
       "    <tr>\n",
       "      <th>0</th>\n",
       "      <td>Big Spenders</td>\n",
       "      <td>84.0</td>\n",
       "      <td>38.654762</td>\n",
       "      <td>25.220710</td>\n",
       "      <td>1.0</td>\n",
       "      <td>17.0</td>\n",
       "      <td>38.0</td>\n",
       "      <td>56.25</td>\n",
       "      <td>89.0</td>\n",
       "    </tr>\n",
       "    <tr>\n",
       "      <th>1</th>\n",
       "      <td>Champions</td>\n",
       "      <td>234.0</td>\n",
       "      <td>15.209402</td>\n",
       "      <td>8.483951</td>\n",
       "      <td>0.0</td>\n",
       "      <td>7.0</td>\n",
       "      <td>14.0</td>\n",
       "      <td>22.00</td>\n",
       "      <td>30.0</td>\n",
       "    </tr>\n",
       "    <tr>\n",
       "      <th>2</th>\n",
       "      <td>Inactive</td>\n",
       "      <td>1453.0</td>\n",
       "      <td>200.197522</td>\n",
       "      <td>64.069835</td>\n",
       "      <td>91.0</td>\n",
       "      <td>158.0</td>\n",
       "      <td>192.0</td>\n",
       "      <td>246.00</td>\n",
       "      <td>358.0</td>\n",
       "    </tr>\n",
       "    <tr>\n",
       "      <th>3</th>\n",
       "      <td>Promising</td>\n",
       "      <td>1079.0</td>\n",
       "      <td>68.266914</td>\n",
       "      <td>52.968671</td>\n",
       "      <td>0.0</td>\n",
       "      <td>34.5</td>\n",
       "      <td>54.0</td>\n",
       "      <td>84.00</td>\n",
       "      <td>293.0</td>\n",
       "    </tr>\n",
       "    <tr>\n",
       "      <th>4</th>\n",
       "      <td>Recent</td>\n",
       "      <td>193.0</td>\n",
       "      <td>52.207254</td>\n",
       "      <td>24.212569</td>\n",
       "      <td>2.0</td>\n",
       "      <td>33.0</td>\n",
       "      <td>54.0</td>\n",
       "      <td>74.00</td>\n",
       "      <td>89.0</td>\n",
       "    </tr>\n",
       "  </tbody>\n",
       "</table>\n",
       "</div>"
      ],
      "text/plain": [
       "  rfm_segment_desc   count        mean        std   min    25%    50%     75%  \\\n",
       "0     Big Spenders    84.0   38.654762  25.220710   1.0   17.0   38.0   56.25   \n",
       "1        Champions   234.0   15.209402   8.483951   0.0    7.0   14.0   22.00   \n",
       "2         Inactive  1453.0  200.197522  64.069835  91.0  158.0  192.0  246.00   \n",
       "3        Promising  1079.0   68.266914  52.968671   0.0   34.5   54.0   84.00   \n",
       "4           Recent   193.0   52.207254  24.212569   2.0   33.0   54.0   74.00   \n",
       "\n",
       "     max  \n",
       "0   89.0  \n",
       "1   30.0  \n",
       "2  358.0  \n",
       "3  293.0  \n",
       "4   89.0  "
      ]
     },
     "execution_count": 73,
     "metadata": {},
     "output_type": "execute_result"
    }
   ],
   "source": [
    "df_users.groupby([\"rfm_segment_desc\"], as_index=False)[\"recency\"].describe()"
   ]
  },
  {
   "cell_type": "code",
   "execution_count": 74,
   "id": "e52059bf-1e43-4656-8f5d-7a3e50c771bb",
   "metadata": {
    "execution": {
     "iopub.execute_input": "2024-06-10T10:59:43.485553Z",
     "iopub.status.busy": "2024-06-10T10:59:43.485553Z",
     "iopub.status.idle": "2024-06-10T10:59:43.600839Z",
     "shell.execute_reply": "2024-06-10T10:59:43.600839Z",
     "shell.execute_reply.started": "2024-06-10T10:59:43.485553Z"
    }
   },
   "outputs": [],
   "source": [
    "fig = px.box(\n",
    "    df_users, \n",
    "    x=\"rfm_segment_desc\", \n",
    "    y=\"frequency\",\n",
    "    color_discrete_sequence=[colors[\"dark_blue\"]]\n",
    ")\n",
    "\n",
    "fig.update_layout(\n",
    "    title=\"<b>Frequency distribution per user segment</b>\",\n",
    "    title_font_size=title_font_size,\n",
    "    font_size=font_size,\n",
    "    xaxis_title=\"user segment\",\n",
    "    yaxis_title=\"Frequency<br>(number of purchases)\",\n",
    "    showlegend=False,\n",
    "    template=template,\n",
    ")\n",
    "fig.update_xaxes(\n",
    "    categoryorder='array', \n",
    "    categoryarray=[label for cluster, label in clusters]\n",
    ")\n",
    "\n",
    "fig.show()"
   ]
  },
  {
   "attachments": {
    "ab49f9a7-c522-47ca-bd96-d9e43ee05f16.png": {
     "image/png": "[encoded data removed]"
    }
   },
   "cell_type": "markdown",
   "id": "e33fd264-9607-44d1-9dbb-3060e14112d5",
   "metadata": {},
   "source": [
    "![img-2.png](attachment:ab49f9a7-c522-47ca-bd96-d9e43ee05f16.png)"
   ]
  },
  {
   "cell_type": "code",
   "execution_count": 76,
   "id": "112d7967-7546-4835-bbc8-b63b53fbbdde",
   "metadata": {
    "execution": {
     "iopub.execute_input": "2024-06-10T10:59:43.620376Z",
     "iopub.status.busy": "2024-06-10T10:59:43.620376Z",
     "iopub.status.idle": "2024-06-10T10:59:43.633144Z",
     "shell.execute_reply": "2024-06-10T10:59:43.633144Z",
     "shell.execute_reply.started": "2024-06-10T10:59:43.620376Z"
    }
   },
   "outputs": [
    {
     "data": {
      "text/html": [
       "<div>\n",
       "<style scoped>\n",
       "    .dataframe tbody tr th:only-of-type {\n",
       "        vertical-align: middle;\n",
       "    }\n",
       "\n",
       "    .dataframe tbody tr th {\n",
       "        vertical-align: top;\n",
       "    }\n",
       "\n",
       "    .dataframe thead th {\n",
       "        text-align: right;\n",
       "    }\n",
       "</style>\n",
       "<table border=\"1\" class=\"dataframe\">\n",
       "  <thead>\n",
       "    <tr style=\"text-align: right;\">\n",
       "      <th></th>\n",
       "      <th>rfm_segment_desc</th>\n",
       "      <th>count</th>\n",
       "      <th>mean</th>\n",
       "      <th>std</th>\n",
       "      <th>min</th>\n",
       "      <th>25%</th>\n",
       "      <th>50%</th>\n",
       "      <th>75%</th>\n",
       "      <th>max</th>\n",
       "    </tr>\n",
       "  </thead>\n",
       "  <tbody>\n",
       "    <tr>\n",
       "      <th>0</th>\n",
       "      <td>Big Spenders</td>\n",
       "      <td>84.0</td>\n",
       "      <td>665.071429</td>\n",
       "      <td>1467.146109</td>\n",
       "      <td>35.0</td>\n",
       "      <td>198.75</td>\n",
       "      <td>298.5</td>\n",
       "      <td>498.25</td>\n",
       "      <td>10713.0</td>\n",
       "    </tr>\n",
       "    <tr>\n",
       "      <th>1</th>\n",
       "      <td>Champions</td>\n",
       "      <td>234.0</td>\n",
       "      <td>1761.388889</td>\n",
       "      <td>1903.618172</td>\n",
       "      <td>506.0</td>\n",
       "      <td>704.75</td>\n",
       "      <td>1040.0</td>\n",
       "      <td>1922.75</td>\n",
       "      <td>15517.0</td>\n",
       "    </tr>\n",
       "    <tr>\n",
       "      <th>2</th>\n",
       "      <td>Inactive</td>\n",
       "      <td>1453.0</td>\n",
       "      <td>124.800413</td>\n",
       "      <td>110.861813</td>\n",
       "      <td>1.0</td>\n",
       "      <td>45.00</td>\n",
       "      <td>86.0</td>\n",
       "      <td>171.00</td>\n",
       "      <td>500.0</td>\n",
       "    </tr>\n",
       "    <tr>\n",
       "      <th>3</th>\n",
       "      <td>Promising</td>\n",
       "      <td>1079.0</td>\n",
       "      <td>723.357739</td>\n",
       "      <td>1228.848701</td>\n",
       "      <td>101.0</td>\n",
       "      <td>219.00</td>\n",
       "      <td>416.0</td>\n",
       "      <td>800.00</td>\n",
       "      <td>25660.0</td>\n",
       "    </tr>\n",
       "    <tr>\n",
       "      <th>4</th>\n",
       "      <td>Recent</td>\n",
       "      <td>193.0</td>\n",
       "      <td>62.145078</td>\n",
       "      <td>25.583598</td>\n",
       "      <td>9.0</td>\n",
       "      <td>41.00</td>\n",
       "      <td>66.0</td>\n",
       "      <td>84.00</td>\n",
       "      <td>100.0</td>\n",
       "    </tr>\n",
       "  </tbody>\n",
       "</table>\n",
       "</div>"
      ],
      "text/plain": [
       "  rfm_segment_desc   count         mean          std    min     25%     50%  \\\n",
       "0     Big Spenders    84.0   665.071429  1467.146109   35.0  198.75   298.5   \n",
       "1        Champions   234.0  1761.388889  1903.618172  506.0  704.75  1040.0   \n",
       "2         Inactive  1453.0   124.800413   110.861813    1.0   45.00    86.0   \n",
       "3        Promising  1079.0   723.357739  1228.848701  101.0  219.00   416.0   \n",
       "4           Recent   193.0    62.145078    25.583598    9.0   41.00    66.0   \n",
       "\n",
       "       75%      max  \n",
       "0   498.25  10713.0  \n",
       "1  1922.75  15517.0  \n",
       "2   171.00    500.0  \n",
       "3   800.00  25660.0  \n",
       "4    84.00    100.0  "
      ]
     },
     "execution_count": 76,
     "metadata": {},
     "output_type": "execute_result"
    }
   ],
   "source": [
    "df_users.groupby([\"rfm_segment_desc\"], as_index=False)[\"frequency\"].describe()"
   ]
  },
  {
   "cell_type": "code",
   "execution_count": 77,
   "id": "ba580cd5-e900-48c7-b607-a707181ce7c1",
   "metadata": {
    "execution": {
     "iopub.execute_input": "2024-06-10T10:59:43.634152Z",
     "iopub.status.busy": "2024-06-10T10:59:43.634152Z",
     "iopub.status.idle": "2024-06-10T10:59:43.748946Z",
     "shell.execute_reply": "2024-06-10T10:59:43.748946Z",
     "shell.execute_reply.started": "2024-06-10T10:59:43.634152Z"
    }
   },
   "outputs": [],
   "source": [
    "fig = px.box(\n",
    "    df_users, \n",
    "    x=\"rfm_segment_desc\", \n",
    "    y=\"monetary\",\n",
    "    color_discrete_sequence=[colors[\"dark_blue\"]]\n",
    ")\n",
    "\n",
    "fig.update_layout(\n",
    "    title=\"<b>Monetary amount distribution per user segment</b>\",\n",
    "    title_font_size=title_font_size,\n",
    "    font_size=font_size,\n",
    "    xaxis_title=\"user segment\",\n",
    "    yaxis_title=\"Monetary amount (R$)\",\n",
    "    showlegend=False,\n",
    "    template=template,\n",
    ")\n",
    "fig.update_xaxes(\n",
    "    categoryorder='array', \n",
    "    categoryarray=[label for cluster, label in clusters]\n",
    ")\n",
    "\n",
    "fig.show()"
   ]
  },
  {
   "attachments": {
    "8a0ae92c-7a2d-4d0a-9e09-97bf02c0f417.png": {
     "image/png": "[encoded data removed]"
    }
   },
   "cell_type": "markdown",
   "id": "aa95a472-6111-4d7f-b98f-8341b447a5fb",
   "metadata": {},
   "source": [
    "![img-3.png](attachment:8a0ae92c-7a2d-4d0a-9e09-97bf02c0f417.png)"
   ]
  },
  {
   "cell_type": "code",
   "execution_count": 79,
   "id": "2dc77055-3863-49a8-ad2d-4d840fd84814",
   "metadata": {
    "execution": {
     "iopub.execute_input": "2024-06-10T10:59:43.768412Z",
     "iopub.status.busy": "2024-06-10T10:59:43.768412Z",
     "iopub.status.idle": "2024-06-10T10:59:43.784812Z",
     "shell.execute_reply": "2024-06-10T10:59:43.784812Z",
     "shell.execute_reply.started": "2024-06-10T10:59:43.768412Z"
    }
   },
   "outputs": [
    {
     "data": {
      "text/html": [
       "<div>\n",
       "<style scoped>\n",
       "    .dataframe tbody tr th:only-of-type {\n",
       "        vertical-align: middle;\n",
       "    }\n",
       "\n",
       "    .dataframe tbody tr th {\n",
       "        vertical-align: top;\n",
       "    }\n",
       "\n",
       "    .dataframe thead th {\n",
       "        text-align: right;\n",
       "    }\n",
       "</style>\n",
       "<table border=\"1\" class=\"dataframe\">\n",
       "  <thead>\n",
       "    <tr style=\"text-align: right;\">\n",
       "      <th></th>\n",
       "      <th>rfm_segment_desc</th>\n",
       "      <th>count</th>\n",
       "      <th>mean</th>\n",
       "      <th>std</th>\n",
       "      <th>min</th>\n",
       "      <th>25%</th>\n",
       "      <th>50%</th>\n",
       "      <th>75%</th>\n",
       "      <th>max</th>\n",
       "    </tr>\n",
       "  </thead>\n",
       "  <tbody>\n",
       "    <tr>\n",
       "      <th>0</th>\n",
       "      <td>Big Spenders</td>\n",
       "      <td>84.0</td>\n",
       "      <td>1.788642e+07</td>\n",
       "      <td>1.167952e+08</td>\n",
       "      <td>500928.83</td>\n",
       "      <td>588990.5825</td>\n",
       "      <td>722995.250</td>\n",
       "      <td>1083493.380</td>\n",
       "      <td>1.000132e+09</td>\n",
       "    </tr>\n",
       "    <tr>\n",
       "      <th>1</th>\n",
       "      <td>Champions</td>\n",
       "      <td>234.0</td>\n",
       "      <td>3.575111e+05</td>\n",
       "      <td>3.672372e+05</td>\n",
       "      <td>45570.97</td>\n",
       "      <td>159925.9800</td>\n",
       "      <td>251296.575</td>\n",
       "      <td>430517.105</td>\n",
       "      <td>3.313743e+06</td>\n",
       "    </tr>\n",
       "    <tr>\n",
       "      <th>2</th>\n",
       "      <td>Inactive</td>\n",
       "      <td>1453.0</td>\n",
       "      <td>1.267138e+05</td>\n",
       "      <td>5.941056e+05</td>\n",
       "      <td>41.50</td>\n",
       "      <td>37095.3000</td>\n",
       "      <td>66212.000</td>\n",
       "      <td>117817.980</td>\n",
       "      <td>2.046910e+07</td>\n",
       "    </tr>\n",
       "    <tr>\n",
       "      <th>3</th>\n",
       "      <td>Promising</td>\n",
       "      <td>1079.0</td>\n",
       "      <td>1.973428e+05</td>\n",
       "      <td>5.962927e+05</td>\n",
       "      <td>8776.76</td>\n",
       "      <td>84446.8800</td>\n",
       "      <td>139180.370</td>\n",
       "      <td>226928.645</td>\n",
       "      <td>1.406241e+07</td>\n",
       "    </tr>\n",
       "    <tr>\n",
       "      <th>4</th>\n",
       "      <td>Recent</td>\n",
       "      <td>193.0</td>\n",
       "      <td>1.191376e+05</td>\n",
       "      <td>1.315886e+05</td>\n",
       "      <td>3508.37</td>\n",
       "      <td>41413.0400</td>\n",
       "      <td>79474.430</td>\n",
       "      <td>143526.500</td>\n",
       "      <td>9.340907e+05</td>\n",
       "    </tr>\n",
       "  </tbody>\n",
       "</table>\n",
       "</div>"
      ],
      "text/plain": [
       "  rfm_segment_desc   count          mean           std        min  \\\n",
       "0     Big Spenders    84.0  1.788642e+07  1.167952e+08  500928.83   \n",
       "1        Champions   234.0  3.575111e+05  3.672372e+05   45570.97   \n",
       "2         Inactive  1453.0  1.267138e+05  5.941056e+05      41.50   \n",
       "3        Promising  1079.0  1.973428e+05  5.962927e+05    8776.76   \n",
       "4           Recent   193.0  1.191376e+05  1.315886e+05    3508.37   \n",
       "\n",
       "           25%         50%          75%           max  \n",
       "0  588990.5825  722995.250  1083493.380  1.000132e+09  \n",
       "1  159925.9800  251296.575   430517.105  3.313743e+06  \n",
       "2   37095.3000   66212.000   117817.980  2.046910e+07  \n",
       "3   84446.8800  139180.370   226928.645  1.406241e+07  \n",
       "4   41413.0400   79474.430   143526.500  9.340907e+05  "
      ]
     },
     "execution_count": 79,
     "metadata": {},
     "output_type": "execute_result"
    }
   ],
   "source": [
    "df_users.groupby([\"rfm_segment_desc\"], as_index=False)[\"monetary\"].describe()"
   ]
  },
  {
   "cell_type": "markdown",
   "id": "b4589d22-9da3-4b87-987f-7c0d27085413",
   "metadata": {
    "jp-MarkdownHeadingCollapsed": true
   },
   "source": [
    "## ✅ checkpoint"
   ]
  },
  {
   "cell_type": "code",
   "execution_count": 81,
   "id": "5bee9e58-6bac-4207-9209-d1f911026b80",
   "metadata": {
    "execution": {
     "iopub.execute_input": "2024-06-10T10:59:43.801933Z",
     "iopub.status.busy": "2024-06-10T10:59:43.800923Z",
     "iopub.status.idle": "2024-06-10T10:59:43.806767Z",
     "shell.execute_reply": "2024-06-10T10:59:43.806767Z",
     "shell.execute_reply.started": "2024-06-10T10:59:43.801933Z"
    }
   },
   "outputs": [],
   "source": [
    "df_users = df_users.drop(columns=['recency_bin', 'frequency_bin', 'monetary_bin', 'rfm_segment'])\n",
    "\n",
    "df_users.to_pickle(\"../data/processed/df_user_purchasing_behavior.pkl\")"
   ]
  }
 ],
 "metadata": {
  "kernelspec": {
   "display_name": "loan-repayment-analysis",
   "language": "python",
   "name": "loan-repayment-analysis"
  },
  "language_info": {
   "codemirror_mode": {
    "name": "ipython",
    "version": 3
   },
   "file_extension": ".py",
   "mimetype": "text/x-python",
   "name": "python",
   "nbconvert_exporter": "python",
   "pygments_lexer": "ipython3",
   "version": "3.11.9"
  },
  "widgets": {
   "application/vnd.jupyter.widget-state+json": {
    "state": {},
    "version_major": 2,
    "version_minor": 0
   }
  }
 },
 "nbformat": 4,
 "nbformat_minor": 5
}
