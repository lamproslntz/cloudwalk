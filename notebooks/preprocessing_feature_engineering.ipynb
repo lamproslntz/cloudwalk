{
 "cells": [
  {
   "cell_type": "markdown",
   "id": "95464dca-85b2-4192-9571-db6793ebd9af",
   "metadata": {},
   "source": [
    "> Data Preprocessing and Feature Engineering"
   ]
  },
  {
   "cell_type": "code",
   "execution_count": 1,
   "id": "858b67ec-0038-4599-a111-43eec4ad4c72",
   "metadata": {},
   "outputs": [],
   "source": [
    "from contextlib import closing\n",
    "import sqlite3\n",
    "import numpy as np\n",
    "import pandas as pd"
   ]
  },
  {
   "cell_type": "markdown",
   "id": "73f142cf-f5bd-4b7f-9222-41bef20aeaab",
   "metadata": {
    "jp-MarkdownHeadingCollapsed": true
   },
   "source": [
    "# Load Data"
   ]
  },
  {
   "cell_type": "code",
   "execution_count": 2,
   "id": "cd6e7485-0a7d-4117-88af-d9c686fa1f60",
   "metadata": {},
   "outputs": [],
   "source": [
    "with closing(sqlite3.connect(\"../data/raw/database.db\")) as conn:\n",
    "    df_loans = pd.read_sql_query(\"SELECT * FROM loans\", conn)\n",
    "    df_loan_repayments = pd.read_sql_query(\"SELECT * FROM loan_repayments\", conn)\n",
    "    df_transactions = pd.read_sql_query(\"SELECT * FROM transactions\", conn)"
   ]
  },
  {
   "cell_type": "code",
   "execution_count": 3,
   "id": "73602d7f-1bad-4ff5-ac35-a5ebb4b320f6",
   "metadata": {},
   "outputs": [
    {
     "name": "stdout",
     "output_type": "stream",
     "text": [
      "number of instances: 6,746\n"
     ]
    },
    {
     "data": {
      "text/html": [
       "<div>\n",
       "<style scoped>\n",
       "    .dataframe tbody tr th:only-of-type {\n",
       "        vertical-align: middle;\n",
       "    }\n",
       "\n",
       "    .dataframe tbody tr th {\n",
       "        vertical-align: top;\n",
       "    }\n",
       "\n",
       "    .dataframe thead th {\n",
       "        text-align: right;\n",
       "    }\n",
       "</style>\n",
       "<table border=\"1\" class=\"dataframe\">\n",
       "  <thead>\n",
       "    <tr style=\"text-align: right;\">\n",
       "      <th></th>\n",
       "      <th>id</th>\n",
       "      <th>user_id</th>\n",
       "      <th>amount</th>\n",
       "      <th>total_amount</th>\n",
       "      <th>due_amount</th>\n",
       "      <th>due_date</th>\n",
       "      <th>status</th>\n",
       "      <th>created_at</th>\n",
       "    </tr>\n",
       "  </thead>\n",
       "  <tbody>\n",
       "    <tr>\n",
       "      <th>0</th>\n",
       "      <td>0</td>\n",
       "      <td>3070</td>\n",
       "      <td>6000.0</td>\n",
       "      <td>6045.28</td>\n",
       "      <td>6459000000</td>\n",
       "      <td>2022-05-02</td>\n",
       "      <td>repaid</td>\n",
       "      <td>2022-02-01 00:47:29.575000+00:00</td>\n",
       "    </tr>\n",
       "    <tr>\n",
       "      <th>1</th>\n",
       "      <td>1</td>\n",
       "      <td>2546</td>\n",
       "      <td>6000.0</td>\n",
       "      <td>6045.28</td>\n",
       "      <td>6459000000</td>\n",
       "      <td>2022-05-02</td>\n",
       "      <td>repaid</td>\n",
       "      <td>2022-02-01 00:49:51.763000+00:00</td>\n",
       "    </tr>\n",
       "    <tr>\n",
       "      <th>2</th>\n",
       "      <td>2</td>\n",
       "      <td>2413</td>\n",
       "      <td>6000.0</td>\n",
       "      <td>6045.28</td>\n",
       "      <td>6459000000</td>\n",
       "      <td>2022-05-02</td>\n",
       "      <td>repaid</td>\n",
       "      <td>2022-02-01 01:24:40.537000+00:00</td>\n",
       "    </tr>\n",
       "    <tr>\n",
       "      <th>3</th>\n",
       "      <td>3</td>\n",
       "      <td>2585</td>\n",
       "      <td>6000.0</td>\n",
       "      <td>6045.28</td>\n",
       "      <td>6459000000</td>\n",
       "      <td>2022-05-02</td>\n",
       "      <td>debt_collection</td>\n",
       "      <td>2022-02-01 02:52:59.803000+00:00</td>\n",
       "    </tr>\n",
       "    <tr>\n",
       "      <th>4</th>\n",
       "      <td>4</td>\n",
       "      <td>2556</td>\n",
       "      <td>6000.0</td>\n",
       "      <td>6045.28</td>\n",
       "      <td>6459000000</td>\n",
       "      <td>2022-05-02</td>\n",
       "      <td>repaid</td>\n",
       "      <td>2022-02-01 02:53:07.123000+00:00</td>\n",
       "    </tr>\n",
       "  </tbody>\n",
       "</table>\n",
       "</div>"
      ],
      "text/plain": [
       "   id  user_id  amount  total_amount  due_amount    due_date           status  \\\n",
       "0   0     3070  6000.0       6045.28  6459000000  2022-05-02           repaid   \n",
       "1   1     2546  6000.0       6045.28  6459000000  2022-05-02           repaid   \n",
       "2   2     2413  6000.0       6045.28  6459000000  2022-05-02           repaid   \n",
       "3   3     2585  6000.0       6045.28  6459000000  2022-05-02  debt_collection   \n",
       "4   4     2556  6000.0       6045.28  6459000000  2022-05-02           repaid   \n",
       "\n",
       "                         created_at  \n",
       "0  2022-02-01 00:47:29.575000+00:00  \n",
       "1  2022-02-01 00:49:51.763000+00:00  \n",
       "2  2022-02-01 01:24:40.537000+00:00  \n",
       "3  2022-02-01 02:52:59.803000+00:00  \n",
       "4  2022-02-01 02:53:07.123000+00:00  "
      ]
     },
     "execution_count": 3,
     "metadata": {},
     "output_type": "execute_result"
    }
   ],
   "source": [
    "print(f\"number of instances: {df_loans.shape[0]:,}\")\n",
    "\n",
    "df_loans.head(5)"
   ]
  },
  {
   "cell_type": "code",
   "execution_count": 4,
   "id": "c2b7c7be-9516-49ed-b4f5-59672051a8b5",
   "metadata": {},
   "outputs": [
    {
     "name": "stdout",
     "output_type": "stream",
     "text": [
      "number of instances: 172,445\n"
     ]
    },
    {
     "data": {
      "text/html": [
       "<div>\n",
       "<style scoped>\n",
       "    .dataframe tbody tr th:only-of-type {\n",
       "        vertical-align: middle;\n",
       "    }\n",
       "\n",
       "    .dataframe tbody tr th {\n",
       "        vertical-align: top;\n",
       "    }\n",
       "\n",
       "    .dataframe thead th {\n",
       "        text-align: right;\n",
       "    }\n",
       "</style>\n",
       "<table border=\"1\" class=\"dataframe\">\n",
       "  <thead>\n",
       "    <tr style=\"text-align: right;\">\n",
       "      <th></th>\n",
       "      <th>id</th>\n",
       "      <th>loan_id</th>\n",
       "      <th>type</th>\n",
       "      <th>amount</th>\n",
       "      <th>status</th>\n",
       "      <th>created_at</th>\n",
       "    </tr>\n",
       "  </thead>\n",
       "  <tbody>\n",
       "    <tr>\n",
       "      <th>0</th>\n",
       "      <td>1</td>\n",
       "      <td>2</td>\n",
       "      <td>autopilot</td>\n",
       "      <td>269.7</td>\n",
       "      <td>paid</td>\n",
       "      <td>2022-02-01 00:10:08.057000+00:00</td>\n",
       "    </tr>\n",
       "    <tr>\n",
       "      <th>1</th>\n",
       "      <td>2</td>\n",
       "      <td>4</td>\n",
       "      <td>autopilot</td>\n",
       "      <td>2550.0</td>\n",
       "      <td>paid</td>\n",
       "      <td>2022-02-01 00:10:08.102000+00:00</td>\n",
       "    </tr>\n",
       "    <tr>\n",
       "      <th>2</th>\n",
       "      <td>3</td>\n",
       "      <td>53</td>\n",
       "      <td>pix</td>\n",
       "      <td>1500.0</td>\n",
       "      <td>defaulted</td>\n",
       "      <td>2022-02-01 13:09:53.757000+00:00</td>\n",
       "    </tr>\n",
       "    <tr>\n",
       "      <th>3</th>\n",
       "      <td>4</td>\n",
       "      <td>22</td>\n",
       "      <td>autopilot</td>\n",
       "      <td>630.0</td>\n",
       "      <td>paid</td>\n",
       "      <td>2022-02-02 01:21:34.278000+00:00</td>\n",
       "    </tr>\n",
       "    <tr>\n",
       "      <th>4</th>\n",
       "      <td>5</td>\n",
       "      <td>70</td>\n",
       "      <td>autopilot</td>\n",
       "      <td>120.0</td>\n",
       "      <td>paid</td>\n",
       "      <td>2022-02-02 01:21:34.449000+00:00</td>\n",
       "    </tr>\n",
       "  </tbody>\n",
       "</table>\n",
       "</div>"
      ],
      "text/plain": [
       "   id  loan_id       type  amount     status                        created_at\n",
       "0   1        2  autopilot   269.7       paid  2022-02-01 00:10:08.057000+00:00\n",
       "1   2        4  autopilot  2550.0       paid  2022-02-01 00:10:08.102000+00:00\n",
       "2   3       53        pix  1500.0  defaulted  2022-02-01 13:09:53.757000+00:00\n",
       "3   4       22  autopilot   630.0       paid  2022-02-02 01:21:34.278000+00:00\n",
       "4   5       70  autopilot   120.0       paid  2022-02-02 01:21:34.449000+00:00"
      ]
     },
     "execution_count": 4,
     "metadata": {},
     "output_type": "execute_result"
    }
   ],
   "source": [
    "print(f\"number of instances: {df_loan_repayments.shape[0]:,}\")\n",
    "\n",
    "df_loan_repayments.head(5)"
   ]
  },
  {
   "cell_type": "code",
   "execution_count": 5,
   "id": "922f9b69-b647-4781-93b1-fcc7d297595b",
   "metadata": {},
   "outputs": [
    {
     "name": "stdout",
     "output_type": "stream",
     "text": [
      "number of instances: 1,448,684\n"
     ]
    },
    {
     "data": {
      "text/html": [
       "<div>\n",
       "<style scoped>\n",
       "    .dataframe tbody tr th:only-of-type {\n",
       "        vertical-align: middle;\n",
       "    }\n",
       "\n",
       "    .dataframe tbody tr th {\n",
       "        vertical-align: top;\n",
       "    }\n",
       "\n",
       "    .dataframe thead th {\n",
       "        text-align: right;\n",
       "    }\n",
       "</style>\n",
       "<table border=\"1\" class=\"dataframe\">\n",
       "  <thead>\n",
       "    <tr style=\"text-align: right;\">\n",
       "      <th></th>\n",
       "      <th>id</th>\n",
       "      <th>user_id</th>\n",
       "      <th>amount</th>\n",
       "      <th>status</th>\n",
       "      <th>capture_method</th>\n",
       "      <th>payment_method</th>\n",
       "      <th>installments</th>\n",
       "      <th>card_brand</th>\n",
       "      <th>created_at</th>\n",
       "    </tr>\n",
       "  </thead>\n",
       "  <tbody>\n",
       "    <tr>\n",
       "      <th>0</th>\n",
       "      <td>1</td>\n",
       "      <td>2546</td>\n",
       "      <td>449.6</td>\n",
       "      <td>approved</td>\n",
       "      <td>emv</td>\n",
       "      <td>credit</td>\n",
       "      <td>1</td>\n",
       "      <td>mastercard</td>\n",
       "      <td>2021-12-02 13:41:53.548000+00:00</td>\n",
       "    </tr>\n",
       "    <tr>\n",
       "      <th>1</th>\n",
       "      <td>2</td>\n",
       "      <td>2546</td>\n",
       "      <td>269.8</td>\n",
       "      <td>approved</td>\n",
       "      <td>emv</td>\n",
       "      <td>credit</td>\n",
       "      <td>2</td>\n",
       "      <td>mastercard</td>\n",
       "      <td>2021-12-02 15:57:58.742000+00:00</td>\n",
       "    </tr>\n",
       "    <tr>\n",
       "      <th>2</th>\n",
       "      <td>3</td>\n",
       "      <td>2546</td>\n",
       "      <td>149.9</td>\n",
       "      <td>approved</td>\n",
       "      <td>contactless</td>\n",
       "      <td>debit</td>\n",
       "      <td>1</td>\n",
       "      <td>visa</td>\n",
       "      <td>2021-12-02 19:36:31.859000+00:00</td>\n",
       "    </tr>\n",
       "    <tr>\n",
       "      <th>3</th>\n",
       "      <td>4</td>\n",
       "      <td>2546</td>\n",
       "      <td>142.0</td>\n",
       "      <td>approved</td>\n",
       "      <td>contactless</td>\n",
       "      <td>credit</td>\n",
       "      <td>1</td>\n",
       "      <td>visa</td>\n",
       "      <td>2021-12-02 19:37:11.442000+00:00</td>\n",
       "    </tr>\n",
       "    <tr>\n",
       "      <th>4</th>\n",
       "      <td>5</td>\n",
       "      <td>2546</td>\n",
       "      <td>156.0</td>\n",
       "      <td>approved</td>\n",
       "      <td>emv</td>\n",
       "      <td>debit</td>\n",
       "      <td>1</td>\n",
       "      <td>mastercard</td>\n",
       "      <td>2021-12-02 20:20:26.648000+00:00</td>\n",
       "    </tr>\n",
       "  </tbody>\n",
       "</table>\n",
       "</div>"
      ],
      "text/plain": [
       "   id  user_id  amount    status capture_method payment_method  installments  \\\n",
       "0   1     2546   449.6  approved            emv         credit             1   \n",
       "1   2     2546   269.8  approved            emv         credit             2   \n",
       "2   3     2546   149.9  approved    contactless          debit             1   \n",
       "3   4     2546   142.0  approved    contactless         credit             1   \n",
       "4   5     2546   156.0  approved            emv          debit             1   \n",
       "\n",
       "   card_brand                        created_at  \n",
       "0  mastercard  2021-12-02 13:41:53.548000+00:00  \n",
       "1  mastercard  2021-12-02 15:57:58.742000+00:00  \n",
       "2        visa  2021-12-02 19:36:31.859000+00:00  \n",
       "3        visa  2021-12-02 19:37:11.442000+00:00  \n",
       "4  mastercard  2021-12-02 20:20:26.648000+00:00  "
      ]
     },
     "execution_count": 5,
     "metadata": {},
     "output_type": "execute_result"
    }
   ],
   "source": [
    "print(f\"number of instances: {df_transactions.shape[0]:,}\")\n",
    "\n",
    "df_transactions.head(5)"
   ]
  },
  {
   "cell_type": "markdown",
   "id": "2f670d2e-8af8-420a-8d62-e715be7182c2",
   "metadata": {
    "jp-MarkdownHeadingCollapsed": true
   },
   "source": [
    "# Data Exploration\n",
    "\n",
    "- Data Types\n",
    "- Missing Data\n",
    "- Variable Content"
   ]
  },
  {
   "cell_type": "markdown",
   "id": "eececcff-fdc1-4ac9-9f7b-89b281b6b418",
   "metadata": {
    "jp-MarkdownHeadingCollapsed": true
   },
   "source": [
    "## Data Types"
   ]
  },
  {
   "cell_type": "code",
   "execution_count": 6,
   "id": "4a604872-05bc-456d-82b4-0ec674106a56",
   "metadata": {},
   "outputs": [
    {
     "name": "stdout",
     "output_type": "stream",
     "text": [
      "id                int64\n",
      "user_id           int64\n",
      "amount          float64\n",
      "total_amount    float64\n",
      "due_amount        int64\n",
      "due_date         object\n",
      "status           object\n",
      "created_at       object\n",
      "dtype: object\n",
      "\n",
      "id                       int64\n",
      "user_id                  int64\n",
      "amount                 float64\n",
      "total_amount           float64\n",
      "due_amount               int64\n",
      "due_date        datetime64[ns]\n",
      "status                  object\n",
      "created_at      datetime64[ns]\n",
      "dtype: object\n"
     ]
    }
   ],
   "source": [
    "print(f\"{df_loans.dtypes}\\n\")\n",
    "\n",
    "df_loans[\"due_date\"] = pd.to_datetime(df_loans[\"due_date\"])\n",
    "df_loans[\"created_at\"] = pd.to_datetime(pd.to_datetime(df_loans[\"created_at\"], format='ISO8601').dt.strftime('%Y-%m-%d'))\n",
    "\n",
    "print(df_loans.dtypes)"
   ]
  },
  {
   "cell_type": "code",
   "execution_count": 7,
   "id": "9338c19e-feed-4b1b-9de3-7dc7ad454647",
   "metadata": {},
   "outputs": [
    {
     "name": "stdout",
     "output_type": "stream",
     "text": [
      "id              int64\n",
      "loan_id         int64\n",
      "type           object\n",
      "amount        float64\n",
      "status         object\n",
      "created_at     object\n",
      "dtype: object\n",
      "\n",
      "id                     int64\n",
      "loan_id                int64\n",
      "type                  object\n",
      "amount               float64\n",
      "status                object\n",
      "created_at    datetime64[ns]\n",
      "dtype: object\n"
     ]
    }
   ],
   "source": [
    "print(f\"{df_loan_repayments.dtypes}\\n\")\n",
    "\n",
    "df_loan_repayments[\"created_at\"] = pd.to_datetime(pd.to_datetime(df_loan_repayments[\"created_at\"], format='ISO8601').dt.strftime('%Y-%m-%d'))\n",
    "\n",
    "print(df_loan_repayments.dtypes)"
   ]
  },
  {
   "cell_type": "code",
   "execution_count": 8,
   "id": "7c3ab98b-bc7f-4729-bd85-22d6dc808b43",
   "metadata": {},
   "outputs": [
    {
     "name": "stdout",
     "output_type": "stream",
     "text": [
      "id                  int64\n",
      "user_id             int64\n",
      "amount            float64\n",
      "status             object\n",
      "capture_method     object\n",
      "payment_method     object\n",
      "installments        int64\n",
      "card_brand         object\n",
      "created_at         object\n",
      "dtype: object\n",
      "\n",
      "id                         int64\n",
      "user_id                    int64\n",
      "amount                   float64\n",
      "status                    object\n",
      "capture_method            object\n",
      "payment_method            object\n",
      "installments               int64\n",
      "card_brand                object\n",
      "created_at        datetime64[ns]\n",
      "dtype: object\n"
     ]
    }
   ],
   "source": [
    "print(f\"{df_transactions.dtypes}\\n\")\n",
    "\n",
    "df_transactions[\"created_at\"] = pd.to_datetime(pd.to_datetime(df_transactions[\"created_at\"], format='ISO8601').dt.strftime('%Y-%m-%d'))\n",
    "\n",
    "print(df_transactions.dtypes)"
   ]
  },
  {
   "cell_type": "markdown",
   "id": "b5feb3c9-41fe-41fe-9d7e-16df1853a78d",
   "metadata": {
    "jp-MarkdownHeadingCollapsed": true
   },
   "source": [
    "## Missing Data"
   ]
  },
  {
   "cell_type": "code",
   "execution_count": 9,
   "id": "212cb257-e2ff-451d-a99a-52cb0d8bbde4",
   "metadata": {},
   "outputs": [
    {
     "data": {
      "text/plain": [
       "id              0\n",
       "user_id         0\n",
       "amount          0\n",
       "total_amount    0\n",
       "due_amount      0\n",
       "due_date        0\n",
       "status          0\n",
       "created_at      0\n",
       "dtype: int64"
      ]
     },
     "execution_count": 9,
     "metadata": {},
     "output_type": "execute_result"
    }
   ],
   "source": [
    "df_loans.isnull().sum()"
   ]
  },
  {
   "cell_type": "code",
   "execution_count": 10,
   "id": "a6a6ba44-6036-44ed-bf60-59143b11169b",
   "metadata": {},
   "outputs": [
    {
     "data": {
      "text/plain": [
       "id            0\n",
       "loan_id       0\n",
       "type          0\n",
       "amount        0\n",
       "status        0\n",
       "created_at    0\n",
       "dtype: int64"
      ]
     },
     "execution_count": 10,
     "metadata": {},
     "output_type": "execute_result"
    }
   ],
   "source": [
    "df_loan_repayments.isnull().sum()"
   ]
  },
  {
   "cell_type": "code",
   "execution_count": 11,
   "id": "b6f5baf5-9b13-4213-96f5-8b7869163509",
   "metadata": {},
   "outputs": [
    {
     "data": {
      "text/plain": [
       "id                0\n",
       "user_id           0\n",
       "amount            0\n",
       "status            0\n",
       "capture_method    0\n",
       "payment_method    0\n",
       "installments      0\n",
       "card_brand        0\n",
       "created_at        0\n",
       "dtype: int64"
      ]
     },
     "execution_count": 11,
     "metadata": {},
     "output_type": "execute_result"
    }
   ],
   "source": [
    "df_transactions.isnull().sum()"
   ]
  },
  {
   "cell_type": "markdown",
   "id": "ba88f9bb-54ad-4e5e-8db5-cceb95f97485",
   "metadata": {
    "jp-MarkdownHeadingCollapsed": true
   },
   "source": [
    "## Variable Content"
   ]
  },
  {
   "cell_type": "code",
   "execution_count": 12,
   "id": "c67610ec-cb2e-4e6d-b45e-39bed870f85f",
   "metadata": {},
   "outputs": [
    {
     "name": "stdout",
     "output_type": "stream",
     "text": [
      "number of loans: 6,746\n",
      "number of users: 3,154\n",
      "loans originating (years): [2022]\n"
     ]
    }
   ],
   "source": [
    "print(f\"number of loans: {df_loans['id'].nunique():,}\")\n",
    "print(f\"number of users: {df_loans['user_id'].nunique():,}\")\n",
    "print(f\"loans originating (years): {df_loans['created_at'].dt.year.unique()}\")"
   ]
  },
  {
   "cell_type": "code",
   "execution_count": 13,
   "id": "f0380774-a006-49a5-ac44-29ac03412479",
   "metadata": {},
   "outputs": [
    {
     "name": "stdout",
     "output_type": "stream",
     "text": [
      "number of loans being repayed: 6,598\n",
      "repayments originating (years): [2022 2023]\n"
     ]
    }
   ],
   "source": [
    "print(f\"number of loans being repayed: {df_loan_repayments['loan_id'].nunique():,}\")\n",
    "print(f\"repayments originating (years): {df_loan_repayments['created_at'].dt.year.unique()}\")"
   ]
  },
  {
   "cell_type": "code",
   "execution_count": 14,
   "id": "c17da299-3f56-4382-a499-2371e066fe48",
   "metadata": {},
   "outputs": [
    {
     "name": "stdout",
     "output_type": "stream",
     "text": [
      "number of user: 3,150\n",
      "transactions originating (years): [2021 2022 2023]\n"
     ]
    }
   ],
   "source": [
    "print(f\"number of user: {df_transactions['user_id'].nunique():,}\")\n",
    "print(f\"transactions originating (years): {df_transactions['created_at'].dt.year.unique()}\")"
   ]
  },
  {
   "cell_type": "markdown",
   "id": "10800e06-0f11-4fb9-b575-7a1900d1adf4",
   "metadata": {},
   "source": [
    "**Notes:**\n",
    "\n",
    "- table_transactions is missings information about some users who have taken a loan\n",
    "    - remove these users from table_loans and their corresponding loans in table_loan_repayments\n",
    "- table_loan_repayments is missing information about some loans\n",
    "    - remove these loans from table_loans\n",
    "    - check if there are inconcistences with the users, and if yes repeat the previous step"
   ]
  },
  {
   "cell_type": "code",
   "execution_count": 15,
   "id": "d97ed245-bbf2-4c63-ab43-cb122736dc3e",
   "metadata": {},
   "outputs": [
    {
     "data": {
      "text/plain": [
       "array(['emv', 'contactless', 'payment_link', 'ecommerce', 'mpos',\n",
       "       'payment_link_web'], dtype=object)"
      ]
     },
     "execution_count": 15,
     "metadata": {},
     "output_type": "execute_result"
    }
   ],
   "source": [
    "df_transactions[\"capture_method\"].unique()"
   ]
  },
  {
   "cell_type": "markdown",
   "id": "7131e84a-e625-474c-a246-211e077bb700",
   "metadata": {},
   "source": [
    "**Notes:**\n",
    "\n",
    "- emv: Europay, Mastercard and Visa\n",
    "- mpos: Mobile Point of Sale"
   ]
  },
  {
   "cell_type": "code",
   "execution_count": 16,
   "id": "cc496d01-90c5-444c-9e35-24e81334cc93",
   "metadata": {},
   "outputs": [
    {
     "data": {
      "text/plain": [
       "array(['mastercard', 'visa', 'elo', 'hipercard', 'amex'], dtype=object)"
      ]
     },
     "execution_count": 16,
     "metadata": {},
     "output_type": "execute_result"
    }
   ],
   "source": [
    "df_transactions[\"card_brand\"].unique()"
   ]
  },
  {
   "cell_type": "markdown",
   "id": "672d53fa-470e-4673-8b34-4d9abfd28c7e",
   "metadata": {},
   "source": [
    "**Notes:**\n",
    "\n",
    "- Elo and Hipercard are specific to Brazil"
   ]
  },
  {
   "cell_type": "markdown",
   "id": "b58f5c6a-1a8c-4cda-9425-84a617871ba1",
   "metadata": {
    "jp-MarkdownHeadingCollapsed": true
   },
   "source": [
    "# Data Preprocessing \n",
    "\n",
    "TODO: what do I do when status == error \n",
    "\n",
    "- Handle inconsistencies\n",
    "    - table_transactions is missings information about some users who have taken a loan\n",
    "        - remove these users from table_loans and their corresponding loans in table_loan_repayments\n",
    "    - table_loan_repayments is missing information about some loans\n",
    "        - remove these loans from table_loans\n",
    "        - check if there are inconcistences with the users, and if yes repeat the previous step"
   ]
  },
  {
   "cell_type": "code",
   "execution_count": 17,
   "id": "2cdeddac-5382-4d34-af26-996248ae1568",
   "metadata": {},
   "outputs": [],
   "source": [
    "# table_transactions is missings information about some users who have taken a loan\n",
    "# remove these users from table_loans and their corresponding loans in table_loan_repayments\n",
    "missing_users = set(df_loans['user_id']) - set(df_transactions['user_id'])\n",
    "missing_users_loans = set(df_loans[df_loans['user_id'].isin(missing_users)]['id'])\n",
    "\n",
    "df_loans = df_loans[~df_loans['user_id'].isin(missing_users)]\n",
    "df_loan_repayments = df_loan_repayments[~df_loan_repayments['loan_id'].isin(missing_users_loans)]\n",
    "\n",
    "# table_loan_repayments is missing information about some loans\n",
    "# remove these loans from table_loans\n",
    "missing_loans = set(df_loans['id']) - set(df_loan_repayments['loan_id'])\n",
    "\n",
    "df_loans = df_loans[~df_loans['id'].isin(missing_loans)]"
   ]
  },
  {
   "cell_type": "code",
   "execution_count": 18,
   "id": "70aeb9c5-3407-4e7f-bd62-68b6ad993fdf",
   "metadata": {},
   "outputs": [
    {
     "name": "stdout",
     "output_type": "stream",
     "text": [
      "number of loans: 6,595\n",
      "number of users: 3,048\n",
      "loans originating (years): [2022]\n",
      "\n",
      "number of loans being repayed: 6,595\n",
      "repayments originating (years): [2022 2023]\n",
      "\n",
      "number of user: 3,150\n",
      "transactions originating (years): [2021 2022 2023]\n"
     ]
    }
   ],
   "source": [
    "print(f\"number of loans: {df_loans['id'].nunique():,}\")\n",
    "print(f\"number of users: {df_loans['user_id'].nunique():,}\")\n",
    "print(f\"loans originating (years): {df_loans['created_at'].dt.year.unique()}\\n\")\n",
    "\n",
    "print(f\"number of loans being repayed: {df_loan_repayments['loan_id'].nunique():,}\")\n",
    "print(f\"repayments originating (years): {df_loan_repayments['created_at'].dt.year.unique()}\\n\")\n",
    "\n",
    "print(f\"number of user: {df_transactions['user_id'].nunique():,}\")\n",
    "print(f\"transactions originating (years): {df_transactions['created_at'].dt.year.unique()}\")"
   ]
  },
  {
   "cell_type": "code",
   "execution_count": 19,
   "id": "4f7f3662-33ec-48a1-a3a7-1da6b53b7122",
   "metadata": {
    "scrolled": true
   },
   "outputs": [],
   "source": [
    "# table_transactions contains information about users who aren't present in table_loans\n",
    "# remove these users from table_transactions\n",
    "missing_users = set(df_transactions['user_id']) - set(df_loans['user_id'])\n",
    "\n",
    "df_transactions = df_transactions[~df_transactions['user_id'].isin(missing_users)]"
   ]
  },
  {
   "cell_type": "code",
   "execution_count": 20,
   "id": "20c5de16-d6e5-44b6-b9b6-c55f2bc8e322",
   "metadata": {},
   "outputs": [
    {
     "name": "stdout",
     "output_type": "stream",
     "text": [
      "number of loans: 6,595\n",
      "number of users: 3,048\n",
      "loans originating (years): [2022]\n",
      "\n",
      "number of loans being repayed: 6,595\n",
      "repayments originating (years): [2022 2023]\n",
      "\n",
      "number of user: 3,048\n",
      "transactions originating (years): [2021 2022 2023]\n"
     ]
    }
   ],
   "source": [
    "print(f\"number of loans: {df_loans['id'].nunique():,}\")\n",
    "print(f\"number of users: {df_loans['user_id'].nunique():,}\")\n",
    "print(f\"loans originating (years): {df_loans['created_at'].dt.year.unique()}\\n\")\n",
    "\n",
    "print(f\"number of loans being repayed: {df_loan_repayments['loan_id'].nunique():,}\")\n",
    "print(f\"repayments originating (years): {df_loan_repayments['created_at'].dt.year.unique()}\\n\")\n",
    "\n",
    "print(f\"number of user: {df_transactions['user_id'].nunique():,}\")\n",
    "print(f\"transactions originating (years): {df_transactions['created_at'].dt.year.unique()}\")"
   ]
  },
  {
   "cell_type": "markdown",
   "id": "7d3f68d7-4700-4637-a133-c04f79198682",
   "metadata": {
    "jp-MarkdownHeadingCollapsed": true
   },
   "source": [
    "## ✅ checkpoint"
   ]
  },
  {
   "cell_type": "code",
   "execution_count": 21,
   "id": "dfd0719e-40f5-4b4f-b253-ba53df33d349",
   "metadata": {},
   "outputs": [],
   "source": [
    "df_loans.to_pickle(\"../data/processed/df_loans.pkl\")\n",
    "df_loan_repayments.to_pickle(\"../data/processed/df_loan_repayments.pkl\")\n",
    "df_transactions.to_pickle(\"../data/processed/df_transactions.pkl\")"
   ]
  },
  {
   "cell_type": "markdown",
   "id": "6cecc4e8-1594-4416-bfee-459942f74872",
   "metadata": {},
   "source": [
    "# Feature Engineering\n",
    "\n",
    "TODO: interest rates (df_loans)\n",
    "\n",
    "- loan term: length of time over which a loan is to be repaid (days)\n",
    "- loan fees: charges that have incurred when the loan was taken"
   ]
  },
  {
   "cell_type": "code",
   "execution_count": 22,
   "id": "efb48339-e08f-470f-a456-32f4b5168dc1",
   "metadata": {},
   "outputs": [],
   "source": [
    "# Loan Term: difference between due_date and created_at\n",
    "# longer loan terms might correlate with higher risk of default.\n",
    "df_loans[\"loan_term\"] = (df_loans[\"due_date\"] - df_loans[\"created_at\"]).dt.days"
   ]
  },
  {
   "cell_type": "code",
   "execution_count": 23,
   "id": "34b50bd6-519c-499d-bba6-70e636b766ce",
   "metadata": {},
   "outputs": [],
   "source": [
    "# Loan Fees: difference between total_amount and (net) amount \n",
    "# higher fees might correlate with higher risk of default\n",
    "df_loans[\"loan_fees\"] = df_loans[\"total_amount\"] - df_loans[\"amount\"]"
   ]
  },
  {
   "cell_type": "markdown",
   "id": "9d6307e3-76dc-4e91-adb7-c73a519c3125",
   "metadata": {},
   "source": [
    "## ✅ checkpoint"
   ]
  },
  {
   "cell_type": "code",
   "execution_count": null,
   "id": "f1028f0e-fd24-4354-80f1-16bc349e02a7",
   "metadata": {},
   "outputs": [],
   "source": []
  }
 ],
 "metadata": {
  "kernelspec": {
   "display_name": "cloudwalk",
   "language": "python",
   "name": "cloudwalk"
  },
  "language_info": {
   "codemirror_mode": {
    "name": "ipython",
    "version": 3
   },
   "file_extension": ".py",
   "mimetype": "text/x-python",
   "name": "python",
   "nbconvert_exporter": "python",
   "pygments_lexer": "ipython3",
   "version": "3.8.19"
  },
  "widgets": {
   "application/vnd.jupyter.widget-state+json": {
    "state": {},
    "version_major": 2,
    "version_minor": 0
   }
  }
 },
 "nbformat": 4,
 "nbformat_minor": 5
}
