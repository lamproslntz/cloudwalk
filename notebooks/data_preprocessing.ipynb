{
 "cells": [
  {
   "cell_type": "markdown",
   "id": "95464dca-85b2-4192-9571-db6793ebd9af",
   "metadata": {},
   "source": [
    "# Data Preprocessing\n",
    "\n",
    "## Table of Contents\n",
    "\n",
    "- Load Data\n",
    "- Data Quality\n",
    "    - Data Types\n",
    "    - Missing Data\n",
    "    - Quality Check\n",
    "- Data Preprocessing\n",
    "    - checkpoint"
   ]
  },
  {
   "cell_type": "code",
   "execution_count": 3,
   "id": "858b67ec-0038-4599-a111-43eec4ad4c72",
   "metadata": {
    "execution": {
     "iopub.execute_input": "2024-06-10T10:59:15.781658Z",
     "iopub.status.busy": "2024-06-10T10:59:15.781658Z",
     "iopub.status.idle": "2024-06-10T10:59:15.787432Z",
     "shell.execute_reply": "2024-06-10T10:59:15.787432Z",
     "shell.execute_reply.started": "2024-06-10T10:59:15.781658Z"
    }
   },
   "outputs": [],
   "source": [
    "from copy import deepcopy\n",
    "\n",
    "from contextlib import closing\n",
    "import sqlite3\n",
    "\n",
    "import numpy as np\n",
    "import pandas as pd"
   ]
  },
  {
   "cell_type": "markdown",
   "id": "73f142cf-f5bd-4b7f-9222-41bef20aeaab",
   "metadata": {
    "jp-MarkdownHeadingCollapsed": true
   },
   "source": [
    "# Load Data"
   ]
  },
  {
   "cell_type": "code",
   "execution_count": 5,
   "id": "cd6e7485-0a7d-4117-88af-d9c686fa1f60",
   "metadata": {
    "execution": {
     "iopub.execute_input": "2024-06-10T10:59:15.797890Z",
     "iopub.status.busy": "2024-06-10T10:59:15.797890Z",
     "iopub.status.idle": "2024-06-10T10:59:18.757991Z",
     "shell.execute_reply": "2024-06-10T10:59:18.757991Z",
     "shell.execute_reply.started": "2024-06-10T10:59:15.797890Z"
    }
   },
   "outputs": [],
   "source": [
    "with closing(sqlite3.connect(\"../data/raw/database.db\")) as conn:\n",
    "    df_loans = pd.read_sql_query(\"SELECT * FROM loans\", conn)\n",
    "    df_repayments = pd.read_sql_query(\"SELECT * FROM loan_repayments\", conn)\n",
    "    df_transactions = pd.read_sql_query(\"SELECT * FROM transactions\", conn)"
   ]
  },
  {
   "cell_type": "code",
   "execution_count": 6,
   "id": "73602d7f-1bad-4ff5-ac35-a5ebb4b320f6",
   "metadata": {
    "execution": {
     "iopub.execute_input": "2024-06-10T10:59:18.757991Z",
     "iopub.status.busy": "2024-06-10T10:59:18.757991Z",
     "iopub.status.idle": "2024-06-10T10:59:18.768362Z",
     "shell.execute_reply": "2024-06-10T10:59:18.768362Z",
     "shell.execute_reply.started": "2024-06-10T10:59:18.757991Z"
    }
   },
   "outputs": [
    {
     "data": {
      "text/html": [
       "<div>\n",
       "<style scoped>\n",
       "    .dataframe tbody tr th:only-of-type {\n",
       "        vertical-align: middle;\n",
       "    }\n",
       "\n",
       "    .dataframe tbody tr th {\n",
       "        vertical-align: top;\n",
       "    }\n",
       "\n",
       "    .dataframe thead th {\n",
       "        text-align: right;\n",
       "    }\n",
       "</style>\n",
       "<table border=\"1\" class=\"dataframe\">\n",
       "  <thead>\n",
       "    <tr style=\"text-align: right;\">\n",
       "      <th></th>\n",
       "      <th>id</th>\n",
       "      <th>user_id</th>\n",
       "      <th>amount</th>\n",
       "      <th>total_amount</th>\n",
       "      <th>due_amount</th>\n",
       "      <th>due_date</th>\n",
       "      <th>status</th>\n",
       "      <th>created_at</th>\n",
       "    </tr>\n",
       "  </thead>\n",
       "  <tbody>\n",
       "    <tr>\n",
       "      <th>0</th>\n",
       "      <td>0</td>\n",
       "      <td>3070</td>\n",
       "      <td>6000.0</td>\n",
       "      <td>6045.28</td>\n",
       "      <td>6459000000</td>\n",
       "      <td>2022-05-02</td>\n",
       "      <td>repaid</td>\n",
       "      <td>2022-02-01 00:47:29.575000+00:00</td>\n",
       "    </tr>\n",
       "    <tr>\n",
       "      <th>1</th>\n",
       "      <td>1</td>\n",
       "      <td>2546</td>\n",
       "      <td>6000.0</td>\n",
       "      <td>6045.28</td>\n",
       "      <td>6459000000</td>\n",
       "      <td>2022-05-02</td>\n",
       "      <td>repaid</td>\n",
       "      <td>2022-02-01 00:49:51.763000+00:00</td>\n",
       "    </tr>\n",
       "    <tr>\n",
       "      <th>2</th>\n",
       "      <td>2</td>\n",
       "      <td>2413</td>\n",
       "      <td>6000.0</td>\n",
       "      <td>6045.28</td>\n",
       "      <td>6459000000</td>\n",
       "      <td>2022-05-02</td>\n",
       "      <td>repaid</td>\n",
       "      <td>2022-02-01 01:24:40.537000+00:00</td>\n",
       "    </tr>\n",
       "    <tr>\n",
       "      <th>3</th>\n",
       "      <td>3</td>\n",
       "      <td>2585</td>\n",
       "      <td>6000.0</td>\n",
       "      <td>6045.28</td>\n",
       "      <td>6459000000</td>\n",
       "      <td>2022-05-02</td>\n",
       "      <td>debt_collection</td>\n",
       "      <td>2022-02-01 02:52:59.803000+00:00</td>\n",
       "    </tr>\n",
       "    <tr>\n",
       "      <th>4</th>\n",
       "      <td>4</td>\n",
       "      <td>2556</td>\n",
       "      <td>6000.0</td>\n",
       "      <td>6045.28</td>\n",
       "      <td>6459000000</td>\n",
       "      <td>2022-05-02</td>\n",
       "      <td>repaid</td>\n",
       "      <td>2022-02-01 02:53:07.123000+00:00</td>\n",
       "    </tr>\n",
       "    <tr>\n",
       "      <th>...</th>\n",
       "      <td>...</td>\n",
       "      <td>...</td>\n",
       "      <td>...</td>\n",
       "      <td>...</td>\n",
       "      <td>...</td>\n",
       "      <td>...</td>\n",
       "      <td>...</td>\n",
       "      <td>...</td>\n",
       "    </tr>\n",
       "    <tr>\n",
       "      <th>6741</th>\n",
       "      <td>6741</td>\n",
       "      <td>2130</td>\n",
       "      <td>2500.0</td>\n",
       "      <td>2518.87</td>\n",
       "      <td>3228820000</td>\n",
       "      <td>2023-01-01</td>\n",
       "      <td>repaid</td>\n",
       "      <td>2022-10-03 20:44:11.967000+00:00</td>\n",
       "    </tr>\n",
       "    <tr>\n",
       "      <th>6742</th>\n",
       "      <td>6742</td>\n",
       "      <td>549</td>\n",
       "      <td>6000.0</td>\n",
       "      <td>6045.28</td>\n",
       "      <td>7749160000</td>\n",
       "      <td>2023-01-01</td>\n",
       "      <td>repaid</td>\n",
       "      <td>2022-10-03 21:03:02.995000+00:00</td>\n",
       "    </tr>\n",
       "    <tr>\n",
       "      <th>6743</th>\n",
       "      <td>6743</td>\n",
       "      <td>1414</td>\n",
       "      <td>6000.0</td>\n",
       "      <td>6045.28</td>\n",
       "      <td>7749160000</td>\n",
       "      <td>2023-01-01</td>\n",
       "      <td>repaid</td>\n",
       "      <td>2022-10-03 21:33:47.964000+00:00</td>\n",
       "    </tr>\n",
       "    <tr>\n",
       "      <th>6744</th>\n",
       "      <td>6744</td>\n",
       "      <td>2070</td>\n",
       "      <td>6000.0</td>\n",
       "      <td>6045.28</td>\n",
       "      <td>7749160000</td>\n",
       "      <td>2023-01-01</td>\n",
       "      <td>debt_repaid</td>\n",
       "      <td>2022-10-03 22:29:03.256000+00:00</td>\n",
       "    </tr>\n",
       "    <tr>\n",
       "      <th>6745</th>\n",
       "      <td>6745</td>\n",
       "      <td>898</td>\n",
       "      <td>6000.0</td>\n",
       "      <td>6045.28</td>\n",
       "      <td>8208840000</td>\n",
       "      <td>2023-01-01</td>\n",
       "      <td>repaid</td>\n",
       "      <td>2022-10-03 23:48:03.103000+00:00</td>\n",
       "    </tr>\n",
       "  </tbody>\n",
       "</table>\n",
       "<p>6746 rows × 8 columns</p>\n",
       "</div>"
      ],
      "text/plain": [
       "        id  user_id  amount  total_amount  due_amount    due_date  \\\n",
       "0        0     3070  6000.0       6045.28  6459000000  2022-05-02   \n",
       "1        1     2546  6000.0       6045.28  6459000000  2022-05-02   \n",
       "2        2     2413  6000.0       6045.28  6459000000  2022-05-02   \n",
       "3        3     2585  6000.0       6045.28  6459000000  2022-05-02   \n",
       "4        4     2556  6000.0       6045.28  6459000000  2022-05-02   \n",
       "...    ...      ...     ...           ...         ...         ...   \n",
       "6741  6741     2130  2500.0       2518.87  3228820000  2023-01-01   \n",
       "6742  6742      549  6000.0       6045.28  7749160000  2023-01-01   \n",
       "6743  6743     1414  6000.0       6045.28  7749160000  2023-01-01   \n",
       "6744  6744     2070  6000.0       6045.28  7749160000  2023-01-01   \n",
       "6745  6745      898  6000.0       6045.28  8208840000  2023-01-01   \n",
       "\n",
       "               status                        created_at  \n",
       "0              repaid  2022-02-01 00:47:29.575000+00:00  \n",
       "1              repaid  2022-02-01 00:49:51.763000+00:00  \n",
       "2              repaid  2022-02-01 01:24:40.537000+00:00  \n",
       "3     debt_collection  2022-02-01 02:52:59.803000+00:00  \n",
       "4              repaid  2022-02-01 02:53:07.123000+00:00  \n",
       "...               ...                               ...  \n",
       "6741           repaid  2022-10-03 20:44:11.967000+00:00  \n",
       "6742           repaid  2022-10-03 21:03:02.995000+00:00  \n",
       "6743           repaid  2022-10-03 21:33:47.964000+00:00  \n",
       "6744      debt_repaid  2022-10-03 22:29:03.256000+00:00  \n",
       "6745           repaid  2022-10-03 23:48:03.103000+00:00  \n",
       "\n",
       "[6746 rows x 8 columns]"
      ]
     },
     "execution_count": 6,
     "metadata": {},
     "output_type": "execute_result"
    }
   ],
   "source": [
    "df_loans"
   ]
  },
  {
   "cell_type": "code",
   "execution_count": 7,
   "id": "c2b7c7be-9516-49ed-b4f5-59672051a8b5",
   "metadata": {
    "execution": {
     "iopub.execute_input": "2024-06-10T10:59:18.768362Z",
     "iopub.status.busy": "2024-06-10T10:59:18.768362Z",
     "iopub.status.idle": "2024-06-10T10:59:18.775513Z",
     "shell.execute_reply": "2024-06-10T10:59:18.775513Z",
     "shell.execute_reply.started": "2024-06-10T10:59:18.768362Z"
    }
   },
   "outputs": [
    {
     "data": {
      "text/html": [
       "<div>\n",
       "<style scoped>\n",
       "    .dataframe tbody tr th:only-of-type {\n",
       "        vertical-align: middle;\n",
       "    }\n",
       "\n",
       "    .dataframe tbody tr th {\n",
       "        vertical-align: top;\n",
       "    }\n",
       "\n",
       "    .dataframe thead th {\n",
       "        text-align: right;\n",
       "    }\n",
       "</style>\n",
       "<table border=\"1\" class=\"dataframe\">\n",
       "  <thead>\n",
       "    <tr style=\"text-align: right;\">\n",
       "      <th></th>\n",
       "      <th>id</th>\n",
       "      <th>loan_id</th>\n",
       "      <th>type</th>\n",
       "      <th>amount</th>\n",
       "      <th>status</th>\n",
       "      <th>created_at</th>\n",
       "    </tr>\n",
       "  </thead>\n",
       "  <tbody>\n",
       "    <tr>\n",
       "      <th>0</th>\n",
       "      <td>1</td>\n",
       "      <td>2</td>\n",
       "      <td>autopilot</td>\n",
       "      <td>269.70</td>\n",
       "      <td>paid</td>\n",
       "      <td>2022-02-01 00:10:08.057000+00:00</td>\n",
       "    </tr>\n",
       "    <tr>\n",
       "      <th>1</th>\n",
       "      <td>2</td>\n",
       "      <td>4</td>\n",
       "      <td>autopilot</td>\n",
       "      <td>2550.00</td>\n",
       "      <td>paid</td>\n",
       "      <td>2022-02-01 00:10:08.102000+00:00</td>\n",
       "    </tr>\n",
       "    <tr>\n",
       "      <th>2</th>\n",
       "      <td>3</td>\n",
       "      <td>53</td>\n",
       "      <td>pix</td>\n",
       "      <td>1500.00</td>\n",
       "      <td>defaulted</td>\n",
       "      <td>2022-02-01 13:09:53.757000+00:00</td>\n",
       "    </tr>\n",
       "    <tr>\n",
       "      <th>3</th>\n",
       "      <td>4</td>\n",
       "      <td>22</td>\n",
       "      <td>autopilot</td>\n",
       "      <td>630.00</td>\n",
       "      <td>paid</td>\n",
       "      <td>2022-02-02 01:21:34.278000+00:00</td>\n",
       "    </tr>\n",
       "    <tr>\n",
       "      <th>4</th>\n",
       "      <td>5</td>\n",
       "      <td>70</td>\n",
       "      <td>autopilot</td>\n",
       "      <td>120.00</td>\n",
       "      <td>paid</td>\n",
       "      <td>2022-02-02 01:21:34.449000+00:00</td>\n",
       "    </tr>\n",
       "    <tr>\n",
       "      <th>...</th>\n",
       "      <td>...</td>\n",
       "      <td>...</td>\n",
       "      <td>...</td>\n",
       "      <td>...</td>\n",
       "      <td>...</td>\n",
       "      <td>...</td>\n",
       "    </tr>\n",
       "    <tr>\n",
       "      <th>172440</th>\n",
       "      <td>172441</td>\n",
       "      <td>4524</td>\n",
       "      <td>pix</td>\n",
       "      <td>362.75</td>\n",
       "      <td>defaulted</td>\n",
       "      <td>2023-03-21 23:36:06.093000+00:00</td>\n",
       "    </tr>\n",
       "    <tr>\n",
       "      <th>172441</th>\n",
       "      <td>172442</td>\n",
       "      <td>4524</td>\n",
       "      <td>pix</td>\n",
       "      <td>362.75</td>\n",
       "      <td>refunded</td>\n",
       "      <td>2023-03-22 13:15:47.100000+00:00</td>\n",
       "    </tr>\n",
       "    <tr>\n",
       "      <th>172442</th>\n",
       "      <td>172443</td>\n",
       "      <td>4524</td>\n",
       "      <td>autopilot</td>\n",
       "      <td>239.12</td>\n",
       "      <td>refunded</td>\n",
       "      <td>2023-03-22 16:06:19.680000+00:00</td>\n",
       "    </tr>\n",
       "    <tr>\n",
       "      <th>172443</th>\n",
       "      <td>172444</td>\n",
       "      <td>4524</td>\n",
       "      <td>pix</td>\n",
       "      <td>362.75</td>\n",
       "      <td>defaulted</td>\n",
       "      <td>2023-03-22 18:05:03.312000+00:00</td>\n",
       "    </tr>\n",
       "    <tr>\n",
       "      <th>172444</th>\n",
       "      <td>172445</td>\n",
       "      <td>785</td>\n",
       "      <td>autopilot</td>\n",
       "      <td>80.00</td>\n",
       "      <td>refunded</td>\n",
       "      <td>2023-06-17 03:47:16.015000+00:00</td>\n",
       "    </tr>\n",
       "  </tbody>\n",
       "</table>\n",
       "<p>172445 rows × 6 columns</p>\n",
       "</div>"
      ],
      "text/plain": [
       "            id  loan_id       type   amount     status  \\\n",
       "0            1        2  autopilot   269.70       paid   \n",
       "1            2        4  autopilot  2550.00       paid   \n",
       "2            3       53        pix  1500.00  defaulted   \n",
       "3            4       22  autopilot   630.00       paid   \n",
       "4            5       70  autopilot   120.00       paid   \n",
       "...        ...      ...        ...      ...        ...   \n",
       "172440  172441     4524        pix   362.75  defaulted   \n",
       "172441  172442     4524        pix   362.75   refunded   \n",
       "172442  172443     4524  autopilot   239.12   refunded   \n",
       "172443  172444     4524        pix   362.75  defaulted   \n",
       "172444  172445      785  autopilot    80.00   refunded   \n",
       "\n",
       "                              created_at  \n",
       "0       2022-02-01 00:10:08.057000+00:00  \n",
       "1       2022-02-01 00:10:08.102000+00:00  \n",
       "2       2022-02-01 13:09:53.757000+00:00  \n",
       "3       2022-02-02 01:21:34.278000+00:00  \n",
       "4       2022-02-02 01:21:34.449000+00:00  \n",
       "...                                  ...  \n",
       "172440  2023-03-21 23:36:06.093000+00:00  \n",
       "172441  2023-03-22 13:15:47.100000+00:00  \n",
       "172442  2023-03-22 16:06:19.680000+00:00  \n",
       "172443  2023-03-22 18:05:03.312000+00:00  \n",
       "172444  2023-06-17 03:47:16.015000+00:00  \n",
       "\n",
       "[172445 rows x 6 columns]"
      ]
     },
     "execution_count": 7,
     "metadata": {},
     "output_type": "execute_result"
    }
   ],
   "source": [
    "df_repayments"
   ]
  },
  {
   "cell_type": "code",
   "execution_count": 8,
   "id": "922f9b69-b647-4781-93b1-fcc7d297595b",
   "metadata": {
    "execution": {
     "iopub.execute_input": "2024-06-10T10:59:18.775513Z",
     "iopub.status.busy": "2024-06-10T10:59:18.775513Z",
     "iopub.status.idle": "2024-06-10T10:59:18.784601Z",
     "shell.execute_reply": "2024-06-10T10:59:18.784601Z",
     "shell.execute_reply.started": "2024-06-10T10:59:18.775513Z"
    }
   },
   "outputs": [
    {
     "data": {
      "text/html": [
       "<div>\n",
       "<style scoped>\n",
       "    .dataframe tbody tr th:only-of-type {\n",
       "        vertical-align: middle;\n",
       "    }\n",
       "\n",
       "    .dataframe tbody tr th {\n",
       "        vertical-align: top;\n",
       "    }\n",
       "\n",
       "    .dataframe thead th {\n",
       "        text-align: right;\n",
       "    }\n",
       "</style>\n",
       "<table border=\"1\" class=\"dataframe\">\n",
       "  <thead>\n",
       "    <tr style=\"text-align: right;\">\n",
       "      <th></th>\n",
       "      <th>id</th>\n",
       "      <th>user_id</th>\n",
       "      <th>amount</th>\n",
       "      <th>status</th>\n",
       "      <th>capture_method</th>\n",
       "      <th>payment_method</th>\n",
       "      <th>installments</th>\n",
       "      <th>card_brand</th>\n",
       "      <th>created_at</th>\n",
       "    </tr>\n",
       "  </thead>\n",
       "  <tbody>\n",
       "    <tr>\n",
       "      <th>0</th>\n",
       "      <td>1</td>\n",
       "      <td>2546</td>\n",
       "      <td>449.6</td>\n",
       "      <td>approved</td>\n",
       "      <td>emv</td>\n",
       "      <td>credit</td>\n",
       "      <td>1</td>\n",
       "      <td>mastercard</td>\n",
       "      <td>2021-12-02 13:41:53.548000+00:00</td>\n",
       "    </tr>\n",
       "    <tr>\n",
       "      <th>1</th>\n",
       "      <td>2</td>\n",
       "      <td>2546</td>\n",
       "      <td>269.8</td>\n",
       "      <td>approved</td>\n",
       "      <td>emv</td>\n",
       "      <td>credit</td>\n",
       "      <td>2</td>\n",
       "      <td>mastercard</td>\n",
       "      <td>2021-12-02 15:57:58.742000+00:00</td>\n",
       "    </tr>\n",
       "    <tr>\n",
       "      <th>2</th>\n",
       "      <td>3</td>\n",
       "      <td>2546</td>\n",
       "      <td>149.9</td>\n",
       "      <td>approved</td>\n",
       "      <td>contactless</td>\n",
       "      <td>debit</td>\n",
       "      <td>1</td>\n",
       "      <td>visa</td>\n",
       "      <td>2021-12-02 19:36:31.859000+00:00</td>\n",
       "    </tr>\n",
       "    <tr>\n",
       "      <th>3</th>\n",
       "      <td>4</td>\n",
       "      <td>2546</td>\n",
       "      <td>142.0</td>\n",
       "      <td>approved</td>\n",
       "      <td>contactless</td>\n",
       "      <td>credit</td>\n",
       "      <td>1</td>\n",
       "      <td>visa</td>\n",
       "      <td>2021-12-02 19:37:11.442000+00:00</td>\n",
       "    </tr>\n",
       "    <tr>\n",
       "      <th>4</th>\n",
       "      <td>5</td>\n",
       "      <td>2546</td>\n",
       "      <td>156.0</td>\n",
       "      <td>approved</td>\n",
       "      <td>emv</td>\n",
       "      <td>debit</td>\n",
       "      <td>1</td>\n",
       "      <td>mastercard</td>\n",
       "      <td>2021-12-02 20:20:26.648000+00:00</td>\n",
       "    </tr>\n",
       "    <tr>\n",
       "      <th>...</th>\n",
       "      <td>...</td>\n",
       "      <td>...</td>\n",
       "      <td>...</td>\n",
       "      <td>...</td>\n",
       "      <td>...</td>\n",
       "      <td>...</td>\n",
       "      <td>...</td>\n",
       "      <td>...</td>\n",
       "      <td>...</td>\n",
       "    </tr>\n",
       "    <tr>\n",
       "      <th>1448679</th>\n",
       "      <td>1448680</td>\n",
       "      <td>2154</td>\n",
       "      <td>3.5</td>\n",
       "      <td>approved</td>\n",
       "      <td>contactless</td>\n",
       "      <td>debit</td>\n",
       "      <td>1</td>\n",
       "      <td>mastercard</td>\n",
       "      <td>2023-01-14 20:49:15.543000+00:00</td>\n",
       "    </tr>\n",
       "    <tr>\n",
       "      <th>1448680</th>\n",
       "      <td>1448681</td>\n",
       "      <td>3042</td>\n",
       "      <td>100.0</td>\n",
       "      <td>approved</td>\n",
       "      <td>emv</td>\n",
       "      <td>debit</td>\n",
       "      <td>1</td>\n",
       "      <td>visa</td>\n",
       "      <td>2023-01-14 20:50:03.858000+00:00</td>\n",
       "    </tr>\n",
       "    <tr>\n",
       "      <th>1448681</th>\n",
       "      <td>1448682</td>\n",
       "      <td>2154</td>\n",
       "      <td>16.0</td>\n",
       "      <td>approved</td>\n",
       "      <td>emv</td>\n",
       "      <td>debit</td>\n",
       "      <td>1</td>\n",
       "      <td>visa</td>\n",
       "      <td>2023-01-14 21:13:30.542000+00:00</td>\n",
       "    </tr>\n",
       "    <tr>\n",
       "      <th>1448682</th>\n",
       "      <td>1448683</td>\n",
       "      <td>2418</td>\n",
       "      <td>70.0</td>\n",
       "      <td>approved</td>\n",
       "      <td>emv</td>\n",
       "      <td>credit</td>\n",
       "      <td>1</td>\n",
       "      <td>mastercard</td>\n",
       "      <td>2023-01-14 22:58:49.180000+00:00</td>\n",
       "    </tr>\n",
       "    <tr>\n",
       "      <th>1448683</th>\n",
       "      <td>1448684</td>\n",
       "      <td>3042</td>\n",
       "      <td>100.0</td>\n",
       "      <td>approved</td>\n",
       "      <td>emv</td>\n",
       "      <td>debit</td>\n",
       "      <td>1</td>\n",
       "      <td>elo</td>\n",
       "      <td>2023-01-14 23:32:20.690000+00:00</td>\n",
       "    </tr>\n",
       "  </tbody>\n",
       "</table>\n",
       "<p>1448684 rows × 9 columns</p>\n",
       "</div>"
      ],
      "text/plain": [
       "              id  user_id  amount    status capture_method payment_method  \\\n",
       "0              1     2546   449.6  approved            emv         credit   \n",
       "1              2     2546   269.8  approved            emv         credit   \n",
       "2              3     2546   149.9  approved    contactless          debit   \n",
       "3              4     2546   142.0  approved    contactless         credit   \n",
       "4              5     2546   156.0  approved            emv          debit   \n",
       "...          ...      ...     ...       ...            ...            ...   \n",
       "1448679  1448680     2154     3.5  approved    contactless          debit   \n",
       "1448680  1448681     3042   100.0  approved            emv          debit   \n",
       "1448681  1448682     2154    16.0  approved            emv          debit   \n",
       "1448682  1448683     2418    70.0  approved            emv         credit   \n",
       "1448683  1448684     3042   100.0  approved            emv          debit   \n",
       "\n",
       "         installments  card_brand                        created_at  \n",
       "0                   1  mastercard  2021-12-02 13:41:53.548000+00:00  \n",
       "1                   2  mastercard  2021-12-02 15:57:58.742000+00:00  \n",
       "2                   1        visa  2021-12-02 19:36:31.859000+00:00  \n",
       "3                   1        visa  2021-12-02 19:37:11.442000+00:00  \n",
       "4                   1  mastercard  2021-12-02 20:20:26.648000+00:00  \n",
       "...               ...         ...                               ...  \n",
       "1448679             1  mastercard  2023-01-14 20:49:15.543000+00:00  \n",
       "1448680             1        visa  2023-01-14 20:50:03.858000+00:00  \n",
       "1448681             1        visa  2023-01-14 21:13:30.542000+00:00  \n",
       "1448682             1  mastercard  2023-01-14 22:58:49.180000+00:00  \n",
       "1448683             1         elo  2023-01-14 23:32:20.690000+00:00  \n",
       "\n",
       "[1448684 rows x 9 columns]"
      ]
     },
     "execution_count": 8,
     "metadata": {},
     "output_type": "execute_result"
    }
   ],
   "source": [
    "df_transactions"
   ]
  },
  {
   "cell_type": "markdown",
   "id": "2f670d2e-8af8-420a-8d62-e715be7182c2",
   "metadata": {
    "jp-MarkdownHeadingCollapsed": true
   },
   "source": [
    "# Data Quality\n",
    "\n",
    "- Data Types\n",
    "- Missing Data\n",
    "- Quality Check"
   ]
  },
  {
   "cell_type": "markdown",
   "id": "eececcff-fdc1-4ac9-9f7b-89b281b6b418",
   "metadata": {
    "jp-MarkdownHeadingCollapsed": true
   },
   "source": [
    "## Data Types"
   ]
  },
  {
   "cell_type": "code",
   "execution_count": 11,
   "id": "4a604872-05bc-456d-82b4-0ec674106a56",
   "metadata": {
    "execution": {
     "iopub.execute_input": "2024-06-10T10:59:18.807494Z",
     "iopub.status.busy": "2024-06-10T10:59:18.807494Z",
     "iopub.status.idle": "2024-06-10T10:59:18.846090Z",
     "shell.execute_reply": "2024-06-10T10:59:18.845577Z",
     "shell.execute_reply.started": "2024-06-10T10:59:18.807494Z"
    }
   },
   "outputs": [
    {
     "name": "stdout",
     "output_type": "stream",
     "text": [
      "id                int64\n",
      "user_id           int64\n",
      "amount          float64\n",
      "total_amount    float64\n",
      "due_amount        int64\n",
      "due_date         object\n",
      "status           object\n",
      "created_at       object\n",
      "dtype: object\n",
      "\n",
      "id                       int64\n",
      "user_id                  int64\n",
      "amount                 float64\n",
      "total_amount           float64\n",
      "due_amount             float64\n",
      "due_date        datetime64[ns]\n",
      "status                  object\n",
      "created_at      datetime64[ns]\n",
      "dtype: object\n"
     ]
    }
   ],
   "source": [
    "print(f\"{df_loans.dtypes}\\n\")\n",
    "\n",
    "df_loans[\"due_date\"] = pd.to_datetime(df_loans[\"due_date\"])\n",
    "df_loans[\"created_at\"] = pd.to_datetime(pd.to_datetime(df_loans[\"created_at\"], format='ISO8601').dt.strftime('%Y-%m-%d'))\n",
    "df_loans[\"due_amount\"] = df_loans[\"due_amount\"] / 1_000_000\n",
    "\n",
    "print(df_loans.dtypes)"
   ]
  },
  {
   "cell_type": "code",
   "execution_count": 12,
   "id": "9338c19e-feed-4b1b-9de3-7dc7ad454647",
   "metadata": {
    "execution": {
     "iopub.execute_input": "2024-06-10T10:59:18.846090Z",
     "iopub.status.busy": "2024-06-10T10:59:18.846090Z",
     "iopub.status.idle": "2024-06-10T10:59:19.596721Z",
     "shell.execute_reply": "2024-06-10T10:59:19.596721Z",
     "shell.execute_reply.started": "2024-06-10T10:59:18.846090Z"
    }
   },
   "outputs": [
    {
     "name": "stdout",
     "output_type": "stream",
     "text": [
      "id              int64\n",
      "loan_id         int64\n",
      "type           object\n",
      "amount        float64\n",
      "status         object\n",
      "created_at     object\n",
      "dtype: object\n",
      "\n",
      "id                     int64\n",
      "loan_id                int64\n",
      "type                  object\n",
      "amount               float64\n",
      "status                object\n",
      "created_at    datetime64[ns]\n",
      "dtype: object\n"
     ]
    }
   ],
   "source": [
    "print(f\"{df_repayments.dtypes}\\n\")\n",
    "\n",
    "df_repayments[\"created_at\"] = pd.to_datetime(pd.to_datetime(df_repayments[\"created_at\"], format='ISO8601').dt.strftime('%Y-%m-%d'))\n",
    "\n",
    "print(df_repayments.dtypes)"
   ]
  },
  {
   "cell_type": "code",
   "execution_count": 13,
   "id": "7c3ab98b-bc7f-4729-bd85-22d6dc808b43",
   "metadata": {
    "execution": {
     "iopub.execute_input": "2024-06-10T10:59:19.597226Z",
     "iopub.status.busy": "2024-06-10T10:59:19.597226Z",
     "iopub.status.idle": "2024-06-10T10:59:25.905771Z",
     "shell.execute_reply": "2024-06-10T10:59:25.905709Z",
     "shell.execute_reply.started": "2024-06-10T10:59:19.597226Z"
    }
   },
   "outputs": [
    {
     "name": "stdout",
     "output_type": "stream",
     "text": [
      "id                  int64\n",
      "user_id             int64\n",
      "amount            float64\n",
      "status             object\n",
      "capture_method     object\n",
      "payment_method     object\n",
      "installments        int64\n",
      "card_brand         object\n",
      "created_at         object\n",
      "dtype: object\n",
      "\n",
      "id                         int64\n",
      "user_id                    int64\n",
      "amount                   float64\n",
      "status                    object\n",
      "capture_method            object\n",
      "payment_method            object\n",
      "installments               int64\n",
      "card_brand                object\n",
      "created_at        datetime64[ns]\n",
      "dtype: object\n"
     ]
    }
   ],
   "source": [
    "print(f\"{df_transactions.dtypes}\\n\")\n",
    "\n",
    "df_transactions[\"created_at\"] = pd.to_datetime(pd.to_datetime(df_transactions[\"created_at\"], format='ISO8601').dt.strftime('%Y-%m-%d'))\n",
    "\n",
    "print(df_transactions.dtypes)"
   ]
  },
  {
   "cell_type": "markdown",
   "id": "b5feb3c9-41fe-41fe-9d7e-16df1853a78d",
   "metadata": {
    "jp-MarkdownHeadingCollapsed": true
   },
   "source": [
    "## Missing Data"
   ]
  },
  {
   "cell_type": "code",
   "execution_count": 15,
   "id": "212cb257-e2ff-451d-a99a-52cb0d8bbde4",
   "metadata": {
    "execution": {
     "iopub.execute_input": "2024-06-10T10:59:25.920190Z",
     "iopub.status.busy": "2024-06-10T10:59:25.920130Z",
     "iopub.status.idle": "2024-06-10T10:59:25.924051Z",
     "shell.execute_reply": "2024-06-10T10:59:25.924051Z",
     "shell.execute_reply.started": "2024-06-10T10:59:25.920190Z"
    }
   },
   "outputs": [
    {
     "data": {
      "text/plain": [
       "id              0\n",
       "user_id         0\n",
       "amount          0\n",
       "total_amount    0\n",
       "due_amount      0\n",
       "due_date        0\n",
       "status          0\n",
       "created_at      0\n",
       "dtype: int64"
      ]
     },
     "execution_count": 15,
     "metadata": {},
     "output_type": "execute_result"
    }
   ],
   "source": [
    "df_loans.isnull().sum()"
   ]
  },
  {
   "cell_type": "code",
   "execution_count": 16,
   "id": "a6a6ba44-6036-44ed-bf60-59143b11169b",
   "metadata": {
    "execution": {
     "iopub.execute_input": "2024-06-10T10:59:25.925057Z",
     "iopub.status.busy": "2024-06-10T10:59:25.925057Z",
     "iopub.status.idle": "2024-06-10T10:59:25.936285Z",
     "shell.execute_reply": "2024-06-10T10:59:25.936285Z",
     "shell.execute_reply.started": "2024-06-10T10:59:25.925057Z"
    }
   },
   "outputs": [
    {
     "data": {
      "text/plain": [
       "id            0\n",
       "loan_id       0\n",
       "type          0\n",
       "amount        0\n",
       "status        0\n",
       "created_at    0\n",
       "dtype: int64"
      ]
     },
     "execution_count": 16,
     "metadata": {},
     "output_type": "execute_result"
    }
   ],
   "source": [
    "df_repayments.isnull().sum()"
   ]
  },
  {
   "cell_type": "code",
   "execution_count": 17,
   "id": "b6f5baf5-9b13-4213-96f5-8b7869163509",
   "metadata": {
    "execution": {
     "iopub.execute_input": "2024-06-10T10:59:25.937292Z",
     "iopub.status.busy": "2024-06-10T10:59:25.937292Z",
     "iopub.status.idle": "2024-06-10T10:59:26.061190Z",
     "shell.execute_reply": "2024-06-10T10:59:26.061190Z",
     "shell.execute_reply.started": "2024-06-10T10:59:25.937292Z"
    }
   },
   "outputs": [
    {
     "data": {
      "text/plain": [
       "id                0\n",
       "user_id           0\n",
       "amount            0\n",
       "status            0\n",
       "capture_method    0\n",
       "payment_method    0\n",
       "installments      0\n",
       "card_brand        0\n",
       "created_at        0\n",
       "dtype: int64"
      ]
     },
     "execution_count": 17,
     "metadata": {},
     "output_type": "execute_result"
    }
   ],
   "source": [
    "df_transactions.isnull().sum()"
   ]
  },
  {
   "cell_type": "markdown",
   "id": "ba88f9bb-54ad-4e5e-8db5-cceb95f97485",
   "metadata": {
    "jp-MarkdownHeadingCollapsed": true
   },
   "source": [
    "## Quality Check\n",
    "\n",
    "**Notes:**\n",
    "- table_transactions is missings information about some users who have taken a loan\n",
    "    - keep and consider it as the cold start problem (unavailable purchasing behavior)\n",
    "- table_repayments is missing information about some loans\n",
    "    - remove these loans from table_loans"
   ]
  },
  {
   "cell_type": "code",
   "execution_count": 19,
   "id": "c67610ec-cb2e-4e6d-b45e-39bed870f85f",
   "metadata": {
    "execution": {
     "iopub.execute_input": "2024-06-10T10:59:26.072732Z",
     "iopub.status.busy": "2024-06-10T10:59:26.072732Z",
     "iopub.status.idle": "2024-06-10T10:59:26.076358Z",
     "shell.execute_reply": "2024-06-10T10:59:26.076358Z",
     "shell.execute_reply.started": "2024-06-10T10:59:26.072732Z"
    }
   },
   "outputs": [
    {
     "name": "stdout",
     "output_type": "stream",
     "text": [
      "number of loans: 6,746\n",
      "number of users: 3,154\n"
     ]
    }
   ],
   "source": [
    "print(f\"number of loans: {df_loans['id'].nunique():,}\")\n",
    "print(f\"number of users: {df_loans['user_id'].nunique():,}\")"
   ]
  },
  {
   "cell_type": "code",
   "execution_count": 20,
   "id": "f0380774-a006-49a5-ac44-29ac03412479",
   "metadata": {
    "execution": {
     "iopub.execute_input": "2024-06-10T10:59:26.076358Z",
     "iopub.status.busy": "2024-06-10T10:59:26.076358Z",
     "iopub.status.idle": "2024-06-10T10:59:26.081164Z",
     "shell.execute_reply": "2024-06-10T10:59:26.081164Z",
     "shell.execute_reply.started": "2024-06-10T10:59:26.076358Z"
    }
   },
   "outputs": [
    {
     "name": "stdout",
     "output_type": "stream",
     "text": [
      "number of loans associated with repayments: 6,598\n"
     ]
    }
   ],
   "source": [
    "print(f\"number of loans associated with repayments: {df_repayments['loan_id'].nunique():,}\")"
   ]
  },
  {
   "cell_type": "code",
   "execution_count": 21,
   "id": "c17da299-3f56-4382-a499-2371e066fe48",
   "metadata": {
    "execution": {
     "iopub.execute_input": "2024-06-10T10:59:26.082170Z",
     "iopub.status.busy": "2024-06-10T10:59:26.081164Z",
     "iopub.status.idle": "2024-06-10T10:59:26.092264Z",
     "shell.execute_reply": "2024-06-10T10:59:26.092264Z",
     "shell.execute_reply.started": "2024-06-10T10:59:26.082170Z"
    }
   },
   "outputs": [
    {
     "name": "stdout",
     "output_type": "stream",
     "text": [
      "number of user: 3,150\n"
     ]
    }
   ],
   "source": [
    "print(f\"number of user: {df_transactions['user_id'].nunique():,}\")"
   ]
  },
  {
   "cell_type": "markdown",
   "id": "b58f5c6a-1a8c-4cda-9425-84a617871ba1",
   "metadata": {
    "jp-MarkdownHeadingCollapsed": true
   },
   "source": [
    "# Data Preprocessing \n",
    "\n",
    "- **Handle Invalid Data**\n",
    "    - exclude loans that are marked as `error` or `cancelled` from table_loans and table_repayments\n",
    "- **Handle Inconsistencies**\n",
    "    - remove loans from table_loans that don't have repayment history in table_repayments \n",
    "    - remove miscellaneous users from table_transactions (users who aren't present in table_loans)\n",
    "- **Misc**\n",
    "    - clean repayment status feature: `refunded` is merged with `paid` (refunded: a loan repayment that happened but was fully refunded to the user)\n",
    "    - clean loan status feature: `debt_collection` and `debt_repaid` are merged together as `debt`"
   ]
  },
  {
   "cell_type": "code",
   "execution_count": 23,
   "id": "1580d0ed-6517-4dd2-8a4e-e04176ab05ef",
   "metadata": {
    "execution": {
     "iopub.execute_input": "2024-06-10T10:59:26.105790Z",
     "iopub.status.busy": "2024-06-10T10:59:26.105790Z",
     "iopub.status.idle": "2024-06-10T10:59:26.120080Z",
     "shell.execute_reply": "2024-06-10T10:59:26.120080Z",
     "shell.execute_reply.started": "2024-06-10T10:59:26.105790Z"
    }
   },
   "outputs": [],
   "source": [
    "exclude = [\"error\", \"cancelled\"]\n",
    "excluded_ids = set(df_loans[df_loans[\"status\"].isin(exclude)][\"id\"])\n",
    "\n",
    "# exclude loans that are marked as error or cancelled\n",
    "df_loans = df_loans[~df_loans[\"id\"].isin(excluded_ids)]\n",
    "df_repayments = df_repayments[~df_repayments[\"loan_id\"].isin(excluded_ids)]"
   ]
  },
  {
   "cell_type": "code",
   "execution_count": 24,
   "id": "2cdeddac-5382-4d34-af26-996248ae1568",
   "metadata": {
    "execution": {
     "iopub.execute_input": "2024-06-10T10:59:26.121085Z",
     "iopub.status.busy": "2024-06-10T10:59:26.121085Z",
     "iopub.status.idle": "2024-06-10T10:59:26.133601Z",
     "shell.execute_reply": "2024-06-10T10:59:26.133601Z",
     "shell.execute_reply.started": "2024-06-10T10:59:26.121085Z"
    }
   },
   "outputs": [],
   "source": [
    "# remove loans that don't have repayment history\n",
    "missing_loans = set(df_loans['id']) - set(df_repayments['loan_id'])\n",
    "\n",
    "df_loans = df_loans[~df_loans['id'].isin(missing_loans)]"
   ]
  },
  {
   "cell_type": "code",
   "execution_count": 25,
   "id": "dcc68595-f46c-4ee9-9736-25c24f5fd0c4",
   "metadata": {
    "execution": {
     "iopub.execute_input": "2024-06-10T10:59:26.134613Z",
     "iopub.status.busy": "2024-06-10T10:59:26.134613Z",
     "iopub.status.idle": "2024-06-10T10:59:26.314645Z",
     "shell.execute_reply": "2024-06-10T10:59:26.314645Z",
     "shell.execute_reply.started": "2024-06-10T10:59:26.134613Z"
    }
   },
   "outputs": [],
   "source": [
    "# remove miscellaneous users\n",
    "missing_users = set(df_transactions['user_id']) - set(df_loans['user_id'])\n",
    "\n",
    "df_transactions = df_transactions[~df_transactions['user_id'].isin(missing_users)]"
   ]
  },
  {
   "cell_type": "code",
   "execution_count": 26,
   "id": "70aeb9c5-3407-4e7f-bd62-68b6ad993fdf",
   "metadata": {
    "execution": {
     "iopub.execute_input": "2024-06-10T10:59:26.315903Z",
     "iopub.status.busy": "2024-06-10T10:59:26.315903Z",
     "iopub.status.idle": "2024-06-10T10:59:26.328438Z",
     "shell.execute_reply": "2024-06-10T10:59:26.328329Z",
     "shell.execute_reply.started": "2024-06-10T10:59:26.315903Z"
    }
   },
   "outputs": [
    {
     "name": "stdout",
     "output_type": "stream",
     "text": [
      "number of loans in table_loans: 6,588\n",
      "number of users in table_loans: 3,046\n",
      "\n",
      "number of loans in table_repayments: 6,588\n",
      "\n",
      "number of user in table_transactions: 3,043\n"
     ]
    }
   ],
   "source": [
    "print(f\"number of loans in table_loans: {df_loans['id'].nunique():,}\")\n",
    "print(f\"number of users in table_loans: {df_loans['user_id'].nunique():,}\\n\")\n",
    "\n",
    "print(f\"number of loans in table_repayments: {df_repayments['loan_id'].nunique():,}\\n\")\n",
    "\n",
    "print(f\"number of user in table_transactions: {df_transactions['user_id'].nunique():,}\")"
   ]
  },
  {
   "cell_type": "code",
   "execution_count": 27,
   "id": "a2242908-e203-4dcf-bd18-00706e080eed",
   "metadata": {
    "execution": {
     "iopub.execute_input": "2024-06-10T10:59:26.329453Z",
     "iopub.status.busy": "2024-06-10T10:59:26.329453Z",
     "iopub.status.idle": "2024-06-10T10:59:26.333306Z",
     "shell.execute_reply": "2024-06-10T10:59:26.333306Z",
     "shell.execute_reply.started": "2024-06-10T10:59:26.329453Z"
    }
   },
   "outputs": [],
   "source": [
    "# merge debt_collection and debt_repaid together as debt\n",
    "df_loans[\"status_cleaned\"] = df_loans[\"status\"].replace({\"debt_collection\": \"debt\", \"debt_repaid\": \"debt\"})"
   ]
  },
  {
   "cell_type": "code",
   "execution_count": 28,
   "id": "276589d9-3797-41cb-8c4b-184883f9ff72",
   "metadata": {
    "execution": {
     "iopub.execute_input": "2024-06-10T10:59:26.334313Z",
     "iopub.status.busy": "2024-06-10T10:59:26.334313Z",
     "iopub.status.idle": "2024-06-10T10:59:26.350059Z",
     "shell.execute_reply": "2024-06-10T10:59:26.350059Z",
     "shell.execute_reply.started": "2024-06-10T10:59:26.334313Z"
    }
   },
   "outputs": [
    {
     "name": "stderr",
     "output_type": "stream",
     "text": [
      "C:\\Users\\lampr\\AppData\\Local\\Temp\\ipykernel_17308\\469981768.py:2: SettingWithCopyWarning: \n",
      "A value is trying to be set on a copy of a slice from a DataFrame.\n",
      "Try using .loc[row_indexer,col_indexer] = value instead\n",
      "\n",
      "See the caveats in the documentation: https://pandas.pydata.org/pandas-docs/stable/user_guide/indexing.html#returning-a-view-versus-a-copy\n",
      "  df_repayments[\"status_cleaned\"] = df_repayments[\"status\"].replace({\"refunded\": \"paid\"})\n"
     ]
    }
   ],
   "source": [
    "# merge refunded with paid, since refunded is a repayment that happened but was fully refunded to the user\n",
    "df_repayments[\"status_cleaned\"] = df_repayments[\"status\"].replace({\"refunded\": \"paid\"})"
   ]
  },
  {
   "cell_type": "markdown",
   "id": "7d3f68d7-4700-4637-a133-c04f79198682",
   "metadata": {
    "jp-MarkdownHeadingCollapsed": true
   },
   "source": [
    "## ✅ checkpoint"
   ]
  },
  {
   "cell_type": "code",
   "execution_count": 30,
   "id": "dfd0719e-40f5-4b4f-b253-ba53df33d349",
   "metadata": {
    "execution": {
     "iopub.execute_input": "2024-06-10T10:59:26.362781Z",
     "iopub.status.busy": "2024-06-10T10:59:26.361740Z",
     "iopub.status.idle": "2024-06-10T10:59:27.934193Z",
     "shell.execute_reply": "2024-06-10T10:59:27.933686Z",
     "shell.execute_reply.started": "2024-06-10T10:59:26.362781Z"
    }
   },
   "outputs": [],
   "source": [
    "df_loans.to_pickle(\"../data/processed/df_loans.pkl\")\n",
    "df_repayments.to_pickle(\"../data/processed/df_repayments.pkl\")\n",
    "df_transactions.to_pickle(\"../data/processed/df_transactions.pkl\")"
   ]
  }
 ],
 "metadata": {
  "kernelspec": {
   "display_name": "loan-repayment-analysis",
   "language": "python",
   "name": "loan-repayment-analysis"
  },
  "language_info": {
   "codemirror_mode": {
    "name": "ipython",
    "version": 3
   },
   "file_extension": ".py",
   "mimetype": "text/x-python",
   "name": "python",
   "nbconvert_exporter": "python",
   "pygments_lexer": "ipython3",
   "version": "3.11.9"
  },
  "widgets": {
   "application/vnd.jupyter.widget-state+json": {
    "state": {},
    "version_major": 2,
    "version_minor": 0
   }
  }
 },
 "nbformat": 4,
 "nbformat_minor": 5
}
