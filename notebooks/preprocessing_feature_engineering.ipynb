{
 "cells": [
  {
   "cell_type": "markdown",
   "id": "95464dca-85b2-4192-9571-db6793ebd9af",
   "metadata": {},
   "source": [
    "# Data Preprocessing and Feature Engineering\n",
    "\n",
    "## Table of Contents\n",
    "\n",
    "- Load Data\n",
    "- Data Exploration\n",
    "    - Data Types\n",
    "    - Missing Data\n",
    "    - Variable Content\n",
    "- Data Preprocessing\n",
    "- Feature Engineering\n",
    "    - Loan Related\n",
    "    - User Related \n",
    "- Good-Bad Loans\n",
    "- Train-Test Split\n",
    "- Feature Engineering\n",
    "    - User Repayment Related"
   ]
  },
  {
   "cell_type": "code",
   "execution_count": 1,
   "id": "858b67ec-0038-4599-a111-43eec4ad4c72",
   "metadata": {},
   "outputs": [],
   "source": [
    "from contextlib import closing\n",
    "import sqlite3\n",
    "from copy import deepcopy\n",
    "import numpy as np\n",
    "import pandas as pd\n",
    "\n",
    "# Utils\n",
    "from sklearn.model_selection import train_test_split"
   ]
  },
  {
   "cell_type": "markdown",
   "id": "73f142cf-f5bd-4b7f-9222-41bef20aeaab",
   "metadata": {
    "jp-MarkdownHeadingCollapsed": true
   },
   "source": [
    "# Load Data"
   ]
  },
  {
   "cell_type": "code",
   "execution_count": 2,
   "id": "cd6e7485-0a7d-4117-88af-d9c686fa1f60",
   "metadata": {},
   "outputs": [],
   "source": [
    "with closing(sqlite3.connect(\"../data/raw/database.db\")) as conn:\n",
    "    df_loans = pd.read_sql_query(\"SELECT * FROM loans\", conn)\n",
    "    df_loan_repayments = pd.read_sql_query(\"SELECT * FROM loan_repayments\", conn)\n",
    "    df_transactions = pd.read_sql_query(\"SELECT * FROM transactions\", conn)"
   ]
  },
  {
   "cell_type": "code",
   "execution_count": 3,
   "id": "73602d7f-1bad-4ff5-ac35-a5ebb4b320f6",
   "metadata": {},
   "outputs": [
    {
     "name": "stdout",
     "output_type": "stream",
     "text": [
      "number of instances: 6,746\n"
     ]
    },
    {
     "data": {
      "text/html": [
       "<div>\n",
       "<style scoped>\n",
       "    .dataframe tbody tr th:only-of-type {\n",
       "        vertical-align: middle;\n",
       "    }\n",
       "\n",
       "    .dataframe tbody tr th {\n",
       "        vertical-align: top;\n",
       "    }\n",
       "\n",
       "    .dataframe thead th {\n",
       "        text-align: right;\n",
       "    }\n",
       "</style>\n",
       "<table border=\"1\" class=\"dataframe\">\n",
       "  <thead>\n",
       "    <tr style=\"text-align: right;\">\n",
       "      <th></th>\n",
       "      <th>id</th>\n",
       "      <th>user_id</th>\n",
       "      <th>amount</th>\n",
       "      <th>total_amount</th>\n",
       "      <th>due_amount</th>\n",
       "      <th>due_date</th>\n",
       "      <th>status</th>\n",
       "      <th>created_at</th>\n",
       "    </tr>\n",
       "  </thead>\n",
       "  <tbody>\n",
       "    <tr>\n",
       "      <th>0</th>\n",
       "      <td>0</td>\n",
       "      <td>3070</td>\n",
       "      <td>6000.0</td>\n",
       "      <td>6045.28</td>\n",
       "      <td>6459000000</td>\n",
       "      <td>2022-05-02</td>\n",
       "      <td>repaid</td>\n",
       "      <td>2022-02-01 00:47:29.575000+00:00</td>\n",
       "    </tr>\n",
       "    <tr>\n",
       "      <th>1</th>\n",
       "      <td>1</td>\n",
       "      <td>2546</td>\n",
       "      <td>6000.0</td>\n",
       "      <td>6045.28</td>\n",
       "      <td>6459000000</td>\n",
       "      <td>2022-05-02</td>\n",
       "      <td>repaid</td>\n",
       "      <td>2022-02-01 00:49:51.763000+00:00</td>\n",
       "    </tr>\n",
       "    <tr>\n",
       "      <th>2</th>\n",
       "      <td>2</td>\n",
       "      <td>2413</td>\n",
       "      <td>6000.0</td>\n",
       "      <td>6045.28</td>\n",
       "      <td>6459000000</td>\n",
       "      <td>2022-05-02</td>\n",
       "      <td>repaid</td>\n",
       "      <td>2022-02-01 01:24:40.537000+00:00</td>\n",
       "    </tr>\n",
       "    <tr>\n",
       "      <th>3</th>\n",
       "      <td>3</td>\n",
       "      <td>2585</td>\n",
       "      <td>6000.0</td>\n",
       "      <td>6045.28</td>\n",
       "      <td>6459000000</td>\n",
       "      <td>2022-05-02</td>\n",
       "      <td>debt_collection</td>\n",
       "      <td>2022-02-01 02:52:59.803000+00:00</td>\n",
       "    </tr>\n",
       "    <tr>\n",
       "      <th>4</th>\n",
       "      <td>4</td>\n",
       "      <td>2556</td>\n",
       "      <td>6000.0</td>\n",
       "      <td>6045.28</td>\n",
       "      <td>6459000000</td>\n",
       "      <td>2022-05-02</td>\n",
       "      <td>repaid</td>\n",
       "      <td>2022-02-01 02:53:07.123000+00:00</td>\n",
       "    </tr>\n",
       "  </tbody>\n",
       "</table>\n",
       "</div>"
      ],
      "text/plain": [
       "   id  user_id  amount  total_amount  due_amount    due_date           status  \\\n",
       "0   0     3070  6000.0       6045.28  6459000000  2022-05-02           repaid   \n",
       "1   1     2546  6000.0       6045.28  6459000000  2022-05-02           repaid   \n",
       "2   2     2413  6000.0       6045.28  6459000000  2022-05-02           repaid   \n",
       "3   3     2585  6000.0       6045.28  6459000000  2022-05-02  debt_collection   \n",
       "4   4     2556  6000.0       6045.28  6459000000  2022-05-02           repaid   \n",
       "\n",
       "                         created_at  \n",
       "0  2022-02-01 00:47:29.575000+00:00  \n",
       "1  2022-02-01 00:49:51.763000+00:00  \n",
       "2  2022-02-01 01:24:40.537000+00:00  \n",
       "3  2022-02-01 02:52:59.803000+00:00  \n",
       "4  2022-02-01 02:53:07.123000+00:00  "
      ]
     },
     "execution_count": 3,
     "metadata": {},
     "output_type": "execute_result"
    }
   ],
   "source": [
    "print(f\"number of instances: {df_loans.shape[0]:,}\")\n",
    "\n",
    "df_loans.head(5)"
   ]
  },
  {
   "cell_type": "code",
   "execution_count": 4,
   "id": "c2b7c7be-9516-49ed-b4f5-59672051a8b5",
   "metadata": {},
   "outputs": [
    {
     "name": "stdout",
     "output_type": "stream",
     "text": [
      "number of instances: 172,445\n"
     ]
    },
    {
     "data": {
      "text/html": [
       "<div>\n",
       "<style scoped>\n",
       "    .dataframe tbody tr th:only-of-type {\n",
       "        vertical-align: middle;\n",
       "    }\n",
       "\n",
       "    .dataframe tbody tr th {\n",
       "        vertical-align: top;\n",
       "    }\n",
       "\n",
       "    .dataframe thead th {\n",
       "        text-align: right;\n",
       "    }\n",
       "</style>\n",
       "<table border=\"1\" class=\"dataframe\">\n",
       "  <thead>\n",
       "    <tr style=\"text-align: right;\">\n",
       "      <th></th>\n",
       "      <th>id</th>\n",
       "      <th>loan_id</th>\n",
       "      <th>type</th>\n",
       "      <th>amount</th>\n",
       "      <th>status</th>\n",
       "      <th>created_at</th>\n",
       "    </tr>\n",
       "  </thead>\n",
       "  <tbody>\n",
       "    <tr>\n",
       "      <th>0</th>\n",
       "      <td>1</td>\n",
       "      <td>2</td>\n",
       "      <td>autopilot</td>\n",
       "      <td>269.7</td>\n",
       "      <td>paid</td>\n",
       "      <td>2022-02-01 00:10:08.057000+00:00</td>\n",
       "    </tr>\n",
       "    <tr>\n",
       "      <th>1</th>\n",
       "      <td>2</td>\n",
       "      <td>4</td>\n",
       "      <td>autopilot</td>\n",
       "      <td>2550.0</td>\n",
       "      <td>paid</td>\n",
       "      <td>2022-02-01 00:10:08.102000+00:00</td>\n",
       "    </tr>\n",
       "    <tr>\n",
       "      <th>2</th>\n",
       "      <td>3</td>\n",
       "      <td>53</td>\n",
       "      <td>pix</td>\n",
       "      <td>1500.0</td>\n",
       "      <td>defaulted</td>\n",
       "      <td>2022-02-01 13:09:53.757000+00:00</td>\n",
       "    </tr>\n",
       "    <tr>\n",
       "      <th>3</th>\n",
       "      <td>4</td>\n",
       "      <td>22</td>\n",
       "      <td>autopilot</td>\n",
       "      <td>630.0</td>\n",
       "      <td>paid</td>\n",
       "      <td>2022-02-02 01:21:34.278000+00:00</td>\n",
       "    </tr>\n",
       "    <tr>\n",
       "      <th>4</th>\n",
       "      <td>5</td>\n",
       "      <td>70</td>\n",
       "      <td>autopilot</td>\n",
       "      <td>120.0</td>\n",
       "      <td>paid</td>\n",
       "      <td>2022-02-02 01:21:34.449000+00:00</td>\n",
       "    </tr>\n",
       "  </tbody>\n",
       "</table>\n",
       "</div>"
      ],
      "text/plain": [
       "   id  loan_id       type  amount     status                        created_at\n",
       "0   1        2  autopilot   269.7       paid  2022-02-01 00:10:08.057000+00:00\n",
       "1   2        4  autopilot  2550.0       paid  2022-02-01 00:10:08.102000+00:00\n",
       "2   3       53        pix  1500.0  defaulted  2022-02-01 13:09:53.757000+00:00\n",
       "3   4       22  autopilot   630.0       paid  2022-02-02 01:21:34.278000+00:00\n",
       "4   5       70  autopilot   120.0       paid  2022-02-02 01:21:34.449000+00:00"
      ]
     },
     "execution_count": 4,
     "metadata": {},
     "output_type": "execute_result"
    }
   ],
   "source": [
    "print(f\"number of instances: {df_loan_repayments.shape[0]:,}\")\n",
    "\n",
    "df_loan_repayments.head(5)"
   ]
  },
  {
   "cell_type": "code",
   "execution_count": 5,
   "id": "922f9b69-b647-4781-93b1-fcc7d297595b",
   "metadata": {},
   "outputs": [
    {
     "name": "stdout",
     "output_type": "stream",
     "text": [
      "number of instances: 1,448,684\n"
     ]
    },
    {
     "data": {
      "text/html": [
       "<div>\n",
       "<style scoped>\n",
       "    .dataframe tbody tr th:only-of-type {\n",
       "        vertical-align: middle;\n",
       "    }\n",
       "\n",
       "    .dataframe tbody tr th {\n",
       "        vertical-align: top;\n",
       "    }\n",
       "\n",
       "    .dataframe thead th {\n",
       "        text-align: right;\n",
       "    }\n",
       "</style>\n",
       "<table border=\"1\" class=\"dataframe\">\n",
       "  <thead>\n",
       "    <tr style=\"text-align: right;\">\n",
       "      <th></th>\n",
       "      <th>id</th>\n",
       "      <th>user_id</th>\n",
       "      <th>amount</th>\n",
       "      <th>status</th>\n",
       "      <th>capture_method</th>\n",
       "      <th>payment_method</th>\n",
       "      <th>installments</th>\n",
       "      <th>card_brand</th>\n",
       "      <th>created_at</th>\n",
       "    </tr>\n",
       "  </thead>\n",
       "  <tbody>\n",
       "    <tr>\n",
       "      <th>0</th>\n",
       "      <td>1</td>\n",
       "      <td>2546</td>\n",
       "      <td>449.6</td>\n",
       "      <td>approved</td>\n",
       "      <td>emv</td>\n",
       "      <td>credit</td>\n",
       "      <td>1</td>\n",
       "      <td>mastercard</td>\n",
       "      <td>2021-12-02 13:41:53.548000+00:00</td>\n",
       "    </tr>\n",
       "    <tr>\n",
       "      <th>1</th>\n",
       "      <td>2</td>\n",
       "      <td>2546</td>\n",
       "      <td>269.8</td>\n",
       "      <td>approved</td>\n",
       "      <td>emv</td>\n",
       "      <td>credit</td>\n",
       "      <td>2</td>\n",
       "      <td>mastercard</td>\n",
       "      <td>2021-12-02 15:57:58.742000+00:00</td>\n",
       "    </tr>\n",
       "    <tr>\n",
       "      <th>2</th>\n",
       "      <td>3</td>\n",
       "      <td>2546</td>\n",
       "      <td>149.9</td>\n",
       "      <td>approved</td>\n",
       "      <td>contactless</td>\n",
       "      <td>debit</td>\n",
       "      <td>1</td>\n",
       "      <td>visa</td>\n",
       "      <td>2021-12-02 19:36:31.859000+00:00</td>\n",
       "    </tr>\n",
       "    <tr>\n",
       "      <th>3</th>\n",
       "      <td>4</td>\n",
       "      <td>2546</td>\n",
       "      <td>142.0</td>\n",
       "      <td>approved</td>\n",
       "      <td>contactless</td>\n",
       "      <td>credit</td>\n",
       "      <td>1</td>\n",
       "      <td>visa</td>\n",
       "      <td>2021-12-02 19:37:11.442000+00:00</td>\n",
       "    </tr>\n",
       "    <tr>\n",
       "      <th>4</th>\n",
       "      <td>5</td>\n",
       "      <td>2546</td>\n",
       "      <td>156.0</td>\n",
       "      <td>approved</td>\n",
       "      <td>emv</td>\n",
       "      <td>debit</td>\n",
       "      <td>1</td>\n",
       "      <td>mastercard</td>\n",
       "      <td>2021-12-02 20:20:26.648000+00:00</td>\n",
       "    </tr>\n",
       "  </tbody>\n",
       "</table>\n",
       "</div>"
      ],
      "text/plain": [
       "   id  user_id  amount    status capture_method payment_method  installments  \\\n",
       "0   1     2546   449.6  approved            emv         credit             1   \n",
       "1   2     2546   269.8  approved            emv         credit             2   \n",
       "2   3     2546   149.9  approved    contactless          debit             1   \n",
       "3   4     2546   142.0  approved    contactless         credit             1   \n",
       "4   5     2546   156.0  approved            emv          debit             1   \n",
       "\n",
       "   card_brand                        created_at  \n",
       "0  mastercard  2021-12-02 13:41:53.548000+00:00  \n",
       "1  mastercard  2021-12-02 15:57:58.742000+00:00  \n",
       "2        visa  2021-12-02 19:36:31.859000+00:00  \n",
       "3        visa  2021-12-02 19:37:11.442000+00:00  \n",
       "4  mastercard  2021-12-02 20:20:26.648000+00:00  "
      ]
     },
     "execution_count": 5,
     "metadata": {},
     "output_type": "execute_result"
    }
   ],
   "source": [
    "print(f\"number of instances: {df_transactions.shape[0]:,}\")\n",
    "\n",
    "df_transactions.head(5)"
   ]
  },
  {
   "cell_type": "markdown",
   "id": "2f670d2e-8af8-420a-8d62-e715be7182c2",
   "metadata": {
    "jp-MarkdownHeadingCollapsed": true
   },
   "source": [
    "# Data Exploration\n",
    "\n",
    "- Data Types\n",
    "- Missing Data\n",
    "- Variable Content"
   ]
  },
  {
   "cell_type": "markdown",
   "id": "eececcff-fdc1-4ac9-9f7b-89b281b6b418",
   "metadata": {
    "jp-MarkdownHeadingCollapsed": true
   },
   "source": [
    "## Data Types"
   ]
  },
  {
   "cell_type": "code",
   "execution_count": 6,
   "id": "4a604872-05bc-456d-82b4-0ec674106a56",
   "metadata": {},
   "outputs": [
    {
     "name": "stdout",
     "output_type": "stream",
     "text": [
      "id                int64\n",
      "user_id           int64\n",
      "amount          float64\n",
      "total_amount    float64\n",
      "due_amount        int64\n",
      "due_date         object\n",
      "status           object\n",
      "created_at       object\n",
      "dtype: object\n",
      "\n",
      "id                       int64\n",
      "user_id                  int64\n",
      "amount                 float64\n",
      "total_amount           float64\n",
      "due_amount               int64\n",
      "due_date        datetime64[ns]\n",
      "status                  object\n",
      "created_at      datetime64[ns]\n",
      "dtype: object\n"
     ]
    }
   ],
   "source": [
    "print(f\"{df_loans.dtypes}\\n\")\n",
    "\n",
    "df_loans[\"due_date\"] = pd.to_datetime(df_loans[\"due_date\"])\n",
    "df_loans[\"created_at\"] = pd.to_datetime(pd.to_datetime(df_loans[\"created_at\"], format='ISO8601').dt.strftime('%Y-%m-%d'))\n",
    "\n",
    "print(df_loans.dtypes)"
   ]
  },
  {
   "cell_type": "code",
   "execution_count": 7,
   "id": "9338c19e-feed-4b1b-9de3-7dc7ad454647",
   "metadata": {},
   "outputs": [
    {
     "name": "stdout",
     "output_type": "stream",
     "text": [
      "id              int64\n",
      "loan_id         int64\n",
      "type           object\n",
      "amount        float64\n",
      "status         object\n",
      "created_at     object\n",
      "dtype: object\n",
      "\n",
      "id                     int64\n",
      "loan_id                int64\n",
      "type                  object\n",
      "amount               float64\n",
      "status                object\n",
      "created_at    datetime64[ns]\n",
      "dtype: object\n"
     ]
    }
   ],
   "source": [
    "print(f\"{df_loan_repayments.dtypes}\\n\")\n",
    "\n",
    "df_loan_repayments[\"created_at\"] = pd.to_datetime(pd.to_datetime(df_loan_repayments[\"created_at\"], format='ISO8601').dt.strftime('%Y-%m-%d'))\n",
    "\n",
    "print(df_loan_repayments.dtypes)"
   ]
  },
  {
   "cell_type": "code",
   "execution_count": 8,
   "id": "7c3ab98b-bc7f-4729-bd85-22d6dc808b43",
   "metadata": {},
   "outputs": [
    {
     "name": "stdout",
     "output_type": "stream",
     "text": [
      "id                  int64\n",
      "user_id             int64\n",
      "amount            float64\n",
      "status             object\n",
      "capture_method     object\n",
      "payment_method     object\n",
      "installments        int64\n",
      "card_brand         object\n",
      "created_at         object\n",
      "dtype: object\n",
      "\n",
      "id                         int64\n",
      "user_id                    int64\n",
      "amount                   float64\n",
      "status                    object\n",
      "capture_method            object\n",
      "payment_method            object\n",
      "installments               int64\n",
      "card_brand                object\n",
      "created_at        datetime64[ns]\n",
      "dtype: object\n"
     ]
    }
   ],
   "source": [
    "print(f\"{df_transactions.dtypes}\\n\")\n",
    "\n",
    "df_transactions[\"created_at\"] = pd.to_datetime(pd.to_datetime(df_transactions[\"created_at\"], format='ISO8601').dt.strftime('%Y-%m-%d'))\n",
    "\n",
    "print(df_transactions.dtypes)"
   ]
  },
  {
   "cell_type": "markdown",
   "id": "b5feb3c9-41fe-41fe-9d7e-16df1853a78d",
   "metadata": {
    "jp-MarkdownHeadingCollapsed": true
   },
   "source": [
    "## Missing Data"
   ]
  },
  {
   "cell_type": "code",
   "execution_count": 9,
   "id": "212cb257-e2ff-451d-a99a-52cb0d8bbde4",
   "metadata": {},
   "outputs": [
    {
     "data": {
      "text/plain": [
       "id              0\n",
       "user_id         0\n",
       "amount          0\n",
       "total_amount    0\n",
       "due_amount      0\n",
       "due_date        0\n",
       "status          0\n",
       "created_at      0\n",
       "dtype: int64"
      ]
     },
     "execution_count": 9,
     "metadata": {},
     "output_type": "execute_result"
    }
   ],
   "source": [
    "df_loans.isnull().sum()"
   ]
  },
  {
   "cell_type": "code",
   "execution_count": 10,
   "id": "a6a6ba44-6036-44ed-bf60-59143b11169b",
   "metadata": {},
   "outputs": [
    {
     "data": {
      "text/plain": [
       "id            0\n",
       "loan_id       0\n",
       "type          0\n",
       "amount        0\n",
       "status        0\n",
       "created_at    0\n",
       "dtype: int64"
      ]
     },
     "execution_count": 10,
     "metadata": {},
     "output_type": "execute_result"
    }
   ],
   "source": [
    "df_loan_repayments.isnull().sum()"
   ]
  },
  {
   "cell_type": "code",
   "execution_count": 11,
   "id": "b6f5baf5-9b13-4213-96f5-8b7869163509",
   "metadata": {},
   "outputs": [
    {
     "data": {
      "text/plain": [
       "id                0\n",
       "user_id           0\n",
       "amount            0\n",
       "status            0\n",
       "capture_method    0\n",
       "payment_method    0\n",
       "installments      0\n",
       "card_brand        0\n",
       "created_at        0\n",
       "dtype: int64"
      ]
     },
     "execution_count": 11,
     "metadata": {},
     "output_type": "execute_result"
    }
   ],
   "source": [
    "df_transactions.isnull().sum()"
   ]
  },
  {
   "cell_type": "markdown",
   "id": "ba88f9bb-54ad-4e5e-8db5-cceb95f97485",
   "metadata": {
    "jp-MarkdownHeadingCollapsed": true
   },
   "source": [
    "## Variable Content"
   ]
  },
  {
   "cell_type": "code",
   "execution_count": 12,
   "id": "c67610ec-cb2e-4e6d-b45e-39bed870f85f",
   "metadata": {},
   "outputs": [
    {
     "name": "stdout",
     "output_type": "stream",
     "text": [
      "number of loans: 6,746\n",
      "number of users: 3,154\n",
      "loans originating (years): [2022]\n"
     ]
    }
   ],
   "source": [
    "print(f\"number of loans: {df_loans['id'].nunique():,}\")\n",
    "print(f\"number of users: {df_loans['user_id'].nunique():,}\")\n",
    "print(f\"loans originating (years): {df_loans['created_at'].dt.year.unique()}\")"
   ]
  },
  {
   "cell_type": "code",
   "execution_count": 13,
   "id": "f0380774-a006-49a5-ac44-29ac03412479",
   "metadata": {},
   "outputs": [
    {
     "name": "stdout",
     "output_type": "stream",
     "text": [
      "number of loans being repayed: 6,598\n",
      "repayments originating (years): [2022 2023]\n"
     ]
    }
   ],
   "source": [
    "print(f\"number of loans being repayed: {df_loan_repayments['loan_id'].nunique():,}\")\n",
    "print(f\"repayments originating (years): {df_loan_repayments['created_at'].dt.year.unique()}\")"
   ]
  },
  {
   "cell_type": "code",
   "execution_count": 14,
   "id": "c17da299-3f56-4382-a499-2371e066fe48",
   "metadata": {},
   "outputs": [
    {
     "name": "stdout",
     "output_type": "stream",
     "text": [
      "number of user: 3,150\n",
      "transactions originating (years): [2021 2022 2023]\n"
     ]
    }
   ],
   "source": [
    "print(f\"number of user: {df_transactions['user_id'].nunique():,}\")\n",
    "print(f\"transactions originating (years): {df_transactions['created_at'].dt.year.unique()}\")"
   ]
  },
  {
   "cell_type": "markdown",
   "id": "10800e06-0f11-4fb9-b575-7a1900d1adf4",
   "metadata": {},
   "source": [
    "**Notes:**\n",
    "\n",
    "- `table_transactions` is missings information about 4 users who have taken a loan\n",
    "- `table_loan_repayments` is missing information about 148 loans"
   ]
  },
  {
   "cell_type": "code",
   "execution_count": 15,
   "id": "d97ed245-bbf2-4c63-ab43-cb122736dc3e",
   "metadata": {},
   "outputs": [
    {
     "data": {
      "text/plain": [
       "array(['emv', 'contactless', 'payment_link', 'ecommerce', 'mpos',\n",
       "       'payment_link_web'], dtype=object)"
      ]
     },
     "execution_count": 15,
     "metadata": {},
     "output_type": "execute_result"
    }
   ],
   "source": [
    "df_transactions[\"capture_method\"].unique()"
   ]
  },
  {
   "cell_type": "markdown",
   "id": "7131e84a-e625-474c-a246-211e077bb700",
   "metadata": {},
   "source": [
    "**Notes:**\n",
    "\n",
    "- emv: Europay, Mastercard and Visa\n",
    "- mpos: Mobile Point of Sale"
   ]
  },
  {
   "cell_type": "code",
   "execution_count": 16,
   "id": "cc496d01-90c5-444c-9e35-24e81334cc93",
   "metadata": {},
   "outputs": [
    {
     "data": {
      "text/plain": [
       "array(['mastercard', 'visa', 'elo', 'hipercard', 'amex'], dtype=object)"
      ]
     },
     "execution_count": 16,
     "metadata": {},
     "output_type": "execute_result"
    }
   ],
   "source": [
    "df_transactions[\"card_brand\"].unique()"
   ]
  },
  {
   "cell_type": "markdown",
   "id": "672d53fa-470e-4673-8b34-4d9abfd28c7e",
   "metadata": {},
   "source": [
    "**Notes:**\n",
    "\n",
    "- Elo and Hipercard are specific to Brazil"
   ]
  },
  {
   "cell_type": "markdown",
   "id": "992e050f-7f0f-44cb-83a7-cbdb0118dff8",
   "metadata": {
    "jp-MarkdownHeadingCollapsed": true
   },
   "source": [
    "# Data Preprocessing \n",
    "\n",
    "- **Handle invalid data**\n",
    "    - exclude loans that were cancelled or created by error both from `table_loans` and `table_loan_repayments`\n",
    "    - `table_loan_repayments` is missing information about 148 loans, thus cannot derive information of whether it is a good/bad loan\n",
    "        - remove these loans from `table_loans`\n",
    "        - check if there are inconcistences with the users, and if yes repeat the previous step\n",
    "    - due_amount in table_loans needs to be converted to a float amount\n",
    "- **Misc**\n",
    "    - auxiliary repayment status feature, where `refunded` is merged with `paid` (refunded: a loan repayment that happened but was fully refunded to the user)\n",
    "    - auxiliary loan status features, where `debt_collection` and `debt_repaid` are merged together as `debt` \n",
    "- **Notes**\n",
    "    - `table_transactions` is missing information about 4 users who have taken a loan\n",
    "        - keep and consider the cold start problem (unavailable purchasing and lending behavior)"
   ]
  },
  {
   "cell_type": "code",
   "execution_count": 17,
   "id": "40f2cf95-f55c-406f-95b8-82b56f0b3354",
   "metadata": {},
   "outputs": [],
   "source": [
    "exclude = [\"error\", \"cancelled\"]\n",
    "excluded_ids = set(df_loans[df_loans[\"status\"].isin(exclude)][\"id\"])\n",
    "\n",
    "# exclude loans that were cancelled or created by error\n",
    "df_loans = df_loans[~df_loans[\"id\"].isin(excluded_ids)]\n",
    "df_loan_repayments = df_loan_repayments[~df_loan_repayments[\"loan_id\"].isin(excluded_ids)]"
   ]
  },
  {
   "cell_type": "code",
   "execution_count": 18,
   "id": "ef330a08-c530-4dd6-b6e1-9538db4b2832",
   "metadata": {},
   "outputs": [],
   "source": [
    "# table_loan_repayments is missing information about some loans\n",
    "# remove these loans from table_loans\n",
    "missing_loans = set(df_loans['id']) - set(df_loan_repayments['loan_id'])\n",
    "\n",
    "df_loans = df_loans[~df_loans['id'].isin(missing_loans)]"
   ]
  },
  {
   "cell_type": "code",
   "execution_count": 19,
   "id": "86ab5b7f-9b96-4c5d-9b24-07c9cdf35f0f",
   "metadata": {},
   "outputs": [],
   "source": [
    "# table_transactions contains information about users who aren't present in table_loans\n",
    "# remove these users from table_transactions\n",
    "missing_users = set(df_transactions['user_id']) - set(df_loans['user_id'])\n",
    "\n",
    "df_transactions = df_transactions[~df_transactions['user_id'].isin(missing_users)]"
   ]
  },
  {
   "cell_type": "code",
   "execution_count": 20,
   "id": "c312349b-be22-4877-9ab6-8dd3ed988284",
   "metadata": {},
   "outputs": [
    {
     "name": "stdout",
     "output_type": "stream",
     "text": [
      "number of loans: 6,588\n",
      "number of users: 3,046\n",
      "loans originating (years): [2022]\n",
      "\n",
      "number of loans being repayed: 6,588\n",
      "repayments originating (years): [2022 2023]\n",
      "\n",
      "number of user: 3,043\n",
      "transactions originating (years): [2021 2022 2023]\n"
     ]
    }
   ],
   "source": [
    "print(f\"number of loans: {df_loans['id'].nunique():,}\")\n",
    "print(f\"number of users: {df_loans['user_id'].nunique():,}\")\n",
    "print(f\"loans originating (years): {df_loans['created_at'].dt.year.unique()}\\n\")\n",
    "\n",
    "print(f\"number of loans being repayed: {df_loan_repayments['loan_id'].nunique():,}\")\n",
    "print(f\"repayments originating (years): {df_loan_repayments['created_at'].dt.year.unique()}\\n\")\n",
    "\n",
    "print(f\"number of user: {df_transactions['user_id'].nunique():,}\")\n",
    "print(f\"transactions originating (years): {df_transactions['created_at'].dt.year.unique()}\")"
   ]
  },
  {
   "cell_type": "code",
   "execution_count": 21,
   "id": "040ad1af-3b8a-4e22-b38f-f662d4ee40f6",
   "metadata": {},
   "outputs": [],
   "source": [
    "# due_amount converted to a float amount\n",
    "df_loans[\"due_amount\"] = df_loans[\"due_amount\"] / 1_000_000"
   ]
  },
  {
   "cell_type": "code",
   "execution_count": 22,
   "id": "028e0b6f-0102-4be5-b410-bec774183635",
   "metadata": {},
   "outputs": [],
   "source": [
    "# merge debt_collection and debt_repaid to debt\n",
    "df_loans[\"status_cleaned\"] = df_loans[\"status\"].replace({\"debt_collection\": \"debt\", \"debt_repaid\": \"debt\"})"
   ]
  },
  {
   "cell_type": "code",
   "execution_count": 23,
   "id": "276589d9-3797-41cb-8c4b-184883f9ff72",
   "metadata": {},
   "outputs": [],
   "source": [
    "# merge refunded with paid, since refunded is a repayment that happened but was fully refunded to the user\n",
    "df_loan_repayments[\"status_cleaned\"] = df_loan_repayments[\"status\"].replace({\"refunded\": \"paid\"})"
   ]
  },
  {
   "cell_type": "markdown",
   "id": "7d3f68d7-4700-4637-a133-c04f79198682",
   "metadata": {
    "jp-MarkdownHeadingCollapsed": true
   },
   "source": [
    "## ✅ checkpoint"
   ]
  },
  {
   "cell_type": "code",
   "execution_count": 24,
   "id": "dfd0719e-40f5-4b4f-b253-ba53df33d349",
   "metadata": {},
   "outputs": [],
   "source": [
    "df_loans.to_pickle(\"../data/processed/df_loans.pkl\")\n",
    "df_loan_repayments.to_pickle(\"../data/processed/df_loan_repayments.pkl\")\n",
    "df_transactions.to_pickle(\"../data/processed/df_transactions.pkl\")"
   ]
  },
  {
   "cell_type": "markdown",
   "id": "6cecc4e8-1594-4416-bfee-459942f74872",
   "metadata": {
    "jp-MarkdownHeadingCollapsed": true
   },
   "source": [
    "# Feature Engineering\n",
    "\n",
    "- **Loan Related**\n",
    "    - *loan term:* length of time over which a loan is to be repaid (days)\n",
    "    - *loan fees:* charges that have incurred when the loan was taken\n",
    "    - *loan amount bins* & *loan due amount bins* & *loan fees bins*\n",
    "    - *loan amount sizes* & *loan due amount sizes*\n",
    "    - *interest rate* & *interest rate bins*\n",
    "    - *default ratio:* number of defaulted repayments to total number repayments\n",
    "    - *median repayment amount*\n",
    "    - *number of repayments*\n",
    "    - *ratio of repaid amount to total amount*\n",
    "    - *max repayment delay:*  maximum number of days taken for a loan to be repayed after due date has been exceeded\n",
    "    - *due date exceeded*\n",
    "    - *number of late repayments*\n",
    "    - *median repayment lag*\n",
    "- **User Related**\n",
    "    - *recency:* time since the user's last transaction\n",
    "    - *frequency:* how often users make a purchase\n",
    "    - *monetary:* total amount spent on purchases\n",
    "    - *median number of installments*\n",
    "    - *median transaction lag:* median time between transactions per user\n",
    "    - *denied rate:* number of denied transactions to total number of transactions\n",
    "    - *transactions with installments ratio:* proportion of transactions with installments\n",
    "    - *credit to debit ratio:* number of credit transactions to number of debit transactions\n",
    "    - *online to in-person purchases ratio:* number of online purchases to number of in-person purchases\n",
    "    - *card brand preference:* determine whether an International or Brazil-based card provider is prefered    "
   ]
  },
  {
   "cell_type": "markdown",
   "id": "752c9a8f-04f0-49d3-b641-4c55fe0006ae",
   "metadata": {
    "jp-MarkdownHeadingCollapsed": true
   },
   "source": [
    "## Loan Related"
   ]
  },
  {
   "cell_type": "code",
   "execution_count": 25,
   "id": "efb48339-e08f-470f-a456-32f4b5168dc1",
   "metadata": {},
   "outputs": [],
   "source": [
    "# Loan Term: difference between due_date and created_at\n",
    "# longer loan terms might correlate with higher risk of default.\n",
    "df_loans[\"loan_term\"] = (df_loans[\"due_date\"] - df_loans[\"created_at\"]).dt.days"
   ]
  },
  {
   "cell_type": "code",
   "execution_count": 26,
   "id": "4ba4e785-d50b-4777-94de-b8dd704599e7",
   "metadata": {},
   "outputs": [],
   "source": [
    "# loan amount bins\n",
    "for i in range(0, 10_000, 1_000):\n",
    "    label = f\"{int(i/1_000)}k - {int((i+1_000)/1_000)}k\"\n",
    "    df_loans.loc[df_loans[\"amount\"].between(i, i+1_000), \"amount_bin\"] = label\n",
    "\n",
    "# loan amount sizes\n",
    "df_loans.loc[df_loans[\"amount_bin\"].isin([\"1k - 2k\", \"2k - 3k\"]), \"amount_cat\"] = \"small\"\n",
    "df_loans.loc[df_loans[\"amount_bin\"].isin([\"3k - 4k\", \"4k - 5k\"]), \"amount_cat\"] = \"medium\"\n",
    "df_loans.loc[df_loans[\"amount_bin\"].isin([\"5k - 6k\", \"6k - 7k\"]), \"amount_cat\"] = \"large\""
   ]
  },
  {
   "cell_type": "code",
   "execution_count": 27,
   "id": "6248647f-3597-4c8b-a321-fe0861c38e27",
   "metadata": {},
   "outputs": [],
   "source": [
    "# loan due amount bins\n",
    "for i in range(0, 15_000, 1_000):\n",
    "    label = f\"{int(i/1_000)}k - {int((i+1_000)/1_000)}k\"\n",
    "    df_loans.loc[df_loans[\"due_amount\"].between(i, i+1_000), \"due_amount_bin\"] = label\n",
    "\n",
    "# loan due amount sizes\n",
    "df_loans.loc[df_loans[\"due_amount_bin\"].isin([\"1k - 2k\", \"2k - 3k\"]), \"due_amount_cat\"] = \"small\"\n",
    "df_loans.loc[df_loans[\"due_amount_bin\"].isin([\"3k - 4k\", \"4k - 5k\"]), \"due_amount_cat\"] = \"medium\"\n",
    "df_loans.loc[df_loans[\"due_amount_bin\"].isin([\"5k - 6k\", \"6k - 7k\", \"7k - 8k\", \"8k - 9k\"]), \"due_amount_cat\"] = \"large\""
   ]
  },
  {
   "cell_type": "code",
   "execution_count": 28,
   "id": "34b50bd6-519c-499d-bba6-70e636b766ce",
   "metadata": {},
   "outputs": [],
   "source": [
    "# Loan Fees: difference between total_amount and (net) amount \n",
    "# higher fees might correlate with higher risk of default\n",
    "df_loans[\"loan_fees\"] = df_loans[\"total_amount\"] - df_loans[\"amount\"]\n",
    "\n",
    "# loan fees bins\n",
    "for i in range(0, 60, 10):\n",
    "    label = f\"{i} - {i+10}\"\n",
    "    df_loans.loc[df_loans[\"loan_fees\"].between(i, i+10), \"loan_fees_bin\"] = label"
   ]
  },
  {
   "cell_type": "code",
   "execution_count": 29,
   "id": "f4132def-9817-4685-b12a-593dc16e89c3",
   "metadata": {},
   "outputs": [],
   "source": [
    "# Interest Rate: based on the formula A=P*(1+r*t) where\n",
    "# P = Principal Amount\n",
    "# R = Rate of interest\n",
    "# t = Number of years\n",
    "# A = Total accrued amount (both principal and the interest)\n",
    "df_loans[\"interest_rate\"] = (\n",
    "    (df_loans[\"due_amount\"] - df_loans[\"amount\"] * 1) / (df_loans[\"amount\"] * df_loans[\"loan_term\"] / 365)  *100\n",
    ").round()\n",
    "\n",
    "# interest rate bins\n",
    "df_loans.loc[df_loans[\"interest_rate\"] < 40, \"interest_rate_bin\"] = \"small\"\n",
    "df_loans.loc[df_loans[\"interest_rate\"].between(40, 100), \"interest_rate_bin\"] = \"medium\"\n",
    "df_loans.loc[df_loans[\"interest_rate\"] > 100, \"interest_rate_bin\"] = \"large\""
   ]
  },
  {
   "cell_type": "code",
   "execution_count": 30,
   "id": "8a27b808-e231-41d9-b865-55a42d43d54c",
   "metadata": {},
   "outputs": [],
   "source": [
    "df_temp = (\n",
    "    pd.get_dummies(df_loan_repayments['status_cleaned'])\n",
    "    .rename(columns={\"defaulted\": \"status_defaulted\", \"paid\": \"status_paid\", \"loan_id\": \"id\"})\n",
    ")\n",
    "df_loan_repayments = pd.concat([df_loan_repayments, df_temp], axis=1)\n",
    "df_temp = df_loan_repayments.groupby([\"loan_id\"], as_index=False).agg(\n",
    "    {\n",
    "        \"status_defaulted\": lambda repayment : repayment.sum(),\n",
    "        \"status_paid\": lambda repayment : repayment.sum(),\n",
    "    }\n",
    ").rename(columns={\"loan_id\": \"id\"})\n",
    "df_loans = df_loans.merge(df_temp, how=\"left\", on=\"id\")\n",
    "\n",
    "# Default Ratio: number of defaulted repayments to total number repayments\n",
    "df_loans[\"rate_default\"] = df_loans[\"status_defaulted\"] / (df_loans[\"status_defaulted\"] + df_loans[\"status_paid\"]) # smoothing\n",
    "\n",
    "df_loan_repayments = df_loan_repayments.drop(columns=[\"status_defaulted\", \"status_paid\"])"
   ]
  },
  {
   "cell_type": "code",
   "execution_count": 31,
   "id": "78bca155-cc8c-4533-925a-f21f7f0bda58",
   "metadata": {},
   "outputs": [],
   "source": [
    "# Median Repayment Amount\n",
    "# Number of Repayments\n",
    "df_temp = df_loan_repayments.groupby([\"loan_id\"], as_index=False).agg(\n",
    "    {\n",
    "        \"amount\": lambda repayment : repayment.median(),\n",
    "        \"id\": lambda repayment : len(repayment),\n",
    "    }\n",
    ").rename(columns={\"loan_id\": \"id\", \"amount\": \"median_repayment_amount\", \"id\": \"num_repayments\"})\n",
    "df_loans = df_loans.merge(df_temp, how=\"left\", on=\"id\")"
   ]
  },
  {
   "cell_type": "code",
   "execution_count": 32,
   "id": "15bf4472-65a5-4b69-9149-7404fc6e6395",
   "metadata": {},
   "outputs": [],
   "source": [
    "# auxiliary amount column to account for defaulted and refunded payments\n",
    "df_loan_repayments[\"temp_amount\"] = 0  # defaulted and refunded repayments should be excluded in sum\n",
    "df_loan_repayments.loc[df_loan_repayments[\"status\"] == \"paid\", \"temp_amount\"] = (\n",
    "    df_loan_repayments.loc[df_loan_repayments[\"status\"] == \"paid\", \"amount\"]\n",
    ")\n",
    "\n",
    "# Repaid Amount\n",
    "df_temp = df_loan_repayments.groupby(\"loan_id\", as_index=False)[\"temp_amount\"].sum().rename(columns={\"loan_id\": \"id\", \"temp_amount\": \"repaid_amount\"})\n",
    "df_loans = df_loans.merge(df_temp, how=\"left\", on=\"id\")\n",
    "\n",
    "# Ratio of Repaid Amount to Loan Amount: can be a good indicator of the borrower's repayment behavior\n",
    "df_loans[\"ratio_repaid_total\"] = df_loans[\"repaid_amount\"] / df_loans[\"total_amount\"]\n",
    "\n",
    "df_loans = df_loans.drop(columns=[\"repaid_amount\"])\n",
    "df_loan_repayments = df_loan_repayments.drop(columns=[\"temp_amount\"])"
   ]
  },
  {
   "cell_type": "markdown",
   "id": "91427896-2242-45ad-abca-a065cfa63bcd",
   "metadata": {
    "jp-MarkdownHeadingCollapsed": true
   },
   "source": [
    "## Loan Related (Repayment History)"
   ]
  },
  {
   "cell_type": "code",
   "execution_count": 33,
   "id": "b241e410-0319-4448-b08a-301031bcb90b",
   "metadata": {},
   "outputs": [],
   "source": [
    "df_temp = (\n",
    "    df_loans[[\"id\", \"created_at\", \"due_date\"]]\n",
    "    .rename(columns={\"id\": \"loan_id\", \"created_at\": \"loan_created_at\"})\n",
    ")\n",
    "df_loan_repayments = df_loan_repayments.merge(df_temp, how=\"left\", on=\"loan_id\")\n",
    "df_loan_repayments = df_loan_repayments.sort_values([\"loan_id\", \"created_at\"])"
   ]
  },
  {
   "cell_type": "code",
   "execution_count": 34,
   "id": "835fb158-c042-4b55-87e7-c98741e45fba",
   "metadata": {},
   "outputs": [],
   "source": [
    "# Time Since Due Date: length of time between due date and repayment\n",
    "df_loan_repayments[\"days_since_due_date\"] = (df_loan_repayments[\"created_at\"] - df_loan_repayments[\"due_date\"]).dt.days\n",
    "# in case the due date hasn't been exceeded the values will be negative\n",
    "# default to 0 represent that the due date hasn't been exceeded\n",
    "df_loan_repayments.loc[df_loan_repayments[\"days_since_due_date\"] < 0, \"days_since_due_date\"] = 0\n",
    "\n",
    "# Max Repayment Delay (per loan): maximum number of days taken for a loan to be repayed after due date has been exceeded\n",
    "df_temp = (\n",
    "    df_loan_repayments\n",
    "    .groupby(\"loan_id\", as_index=False)\n",
    "    [\"days_since_due_date\"].max()\n",
    "    .rename(columns={\"loan_id\": \"id\", \"days_since_due_date\": \"max_repayment_delay\"})\n",
    ")\n",
    "df_loans = df_loans.merge(df_temp, how=\"left\", on=\"id\")"
   ]
  },
  {
   "cell_type": "code",
   "execution_count": 35,
   "id": "bd4bd5bb-4ebd-4100-a52c-438980c25aad",
   "metadata": {},
   "outputs": [],
   "source": [
    "# Due Date Exceeded: if due date has been exceeded\n",
    "df_loan_repayments[\"due_date_exceeded\"] = 0\n",
    "df_loan_repayments.loc[df_loan_repayments[\"days_since_due_date\"] > 0, \"due_date_exceeded\"] = 1\n",
    "\n",
    "df_temp = (\n",
    "    df_loan_repayments\n",
    "    .groupby(\"loan_id\", as_index=False)\n",
    "    [\"due_date_exceeded\"].max()\n",
    "    .rename(columns={\"loan_id\": \"id\"})\n",
    ")\n",
    "df_loans = df_loans.merge(df_temp, how=\"left\", on=\"id\")"
   ]
  },
  {
   "cell_type": "code",
   "execution_count": 36,
   "id": "5e8c28d8-4f88-446e-8bca-7eb85de2ef48",
   "metadata": {},
   "outputs": [],
   "source": [
    "# Number of Late Repayments (per loan): this can indicate the borrower's tendency to miss deadlines\n",
    "df_temp = (\n",
    "    df_loan_repayments\n",
    "    .groupby(\"loan_id\", as_index=False)\n",
    "    [\"due_date_exceeded\"].sum()\n",
    "    .rename(columns={\"loan_id\": \"id\", \"due_date_exceeded\": \"num_late_repayment\"})\n",
    ")\n",
    "df_loans = df_loans.merge(df_temp, how=\"left\", on=\"id\")"
   ]
  },
  {
   "cell_type": "code",
   "execution_count": 37,
   "id": "72106665-bf70-4b5c-93be-a2b7230370af",
   "metadata": {},
   "outputs": [],
   "source": [
    "# Repayment Lag: difference between current repayment date and previous repayment date \n",
    "# first repayment date should be compared to the loan creation date\n",
    "# this can indicate whether the borrower is keeping up with the repayment schedule.\n",
    "df_loan_repayments[\"days_lag_repayment\"] = df_loan_repayments.groupby([\"loan_id\"], as_index=False)[\"created_at\"].diff().dt.days\n",
    "df_loan_repayments.loc[df_loan_repayments[\"days_lag_repayment\"].isna(), \"days_lag_repayment\"] = (\n",
    "    df_loan_repayments[df_loan_repayments[\"days_lag_repayment\"].isna()][\"created_at\"] - \\\n",
    "    df_loan_repayments[df_loan_repayments[\"days_lag_repayment\"].isna()][\"loan_created_at\"]\n",
    ").dt.days\n",
    "\n",
    "# Median Repayment Lag (per loan)\n",
    "df_temp = (\n",
    "    df_loan_repayments\n",
    "    .groupby(\"loan_id\", as_index=False)\n",
    "    [\"days_lag_repayment\"].median()\n",
    "    .apply(np.ceil)\n",
    "    .rename(columns={\"loan_id\": \"id\", \"days_lag_repayment\": \"median_days_lag_repayment\"})\n",
    ")\n",
    "df_loans = df_loans.merge(df_temp, how=\"left\", on=\"id\")\n",
    "\n",
    "df_loan_repayments = df_loan_repayments.drop(columns=[\"loan_created_at\", \"due_date\"])"
   ]
  },
  {
   "cell_type": "markdown",
   "id": "d9570f4d-c716-4c32-9037-fa8b2a2ddb5e",
   "metadata": {
    "jp-MarkdownHeadingCollapsed": true
   },
   "source": [
    "## User Related"
   ]
  },
  {
   "cell_type": "code",
   "execution_count": 38,
   "id": "eccf7a2d-57f0-4208-9bae-239679bb9cb1",
   "metadata": {},
   "outputs": [],
   "source": [
    "# Recency: Time since the user's last transaction \n",
    "# Active users might be more financially active and potentially better candidates for loan repayment\n",
    "\n",
    "# Frequency: How often user make a purchase\n",
    "# Users who have a higher frequency of transactions might be more financially active \n",
    "# and potentially better candidates for loan repayment\n",
    "\n",
    "# Monetary: Total amount spent on purchases\n",
    "# Users who typically make larger transactions or have more consistent transaction amounts \n",
    "# might be more likely to repay loans\n",
    "\n",
    "# to calculte Recency, the current date that will be used for comparison will be the max date of the sample\n",
    "date_current = df_transactions[\"created_at\"].max()\n",
    "\n",
    "df_users = df_transactions.groupby(\"user_id\", as_index=False).agg(\n",
    "    {\n",
    "        \"created_at\": lambda date : (date_current - date.max()).days,\n",
    "        \"id\": lambda transaction : len(transaction),\n",
    "        \"amount\": lambda amount : amount.sum(),\n",
    "    }\n",
    ").rename(columns={\"created_at\": \"recency\", \"id\": \"frequency\", \"amount\": \"monetary\"})"
   ]
  },
  {
   "cell_type": "code",
   "execution_count": 39,
   "id": "63ca6bcd-98ef-4690-8bbf-ed9d7e8cb637",
   "metadata": {},
   "outputs": [],
   "source": [
    "# Median Number of Installments\n",
    "df_temp = df_transactions.groupby(\"user_id\", as_index=False)[\"installments\"].median().rename(columns={\"installments\": \"median_intallments\"})\n",
    "df_users = df_users.merge(df_temp, how=\"left\", on=\"user_id\")"
   ]
  },
  {
   "cell_type": "code",
   "execution_count": 40,
   "id": "d0de3ced-c34c-4c39-86f6-e727634525ce",
   "metadata": {},
   "outputs": [],
   "source": [
    "# Median Transaction Lag: median time between transactions per user\n",
    "df_transactions[\"days_lag_transaction\"] = df_transactions.groupby([\"user_id\"], as_index=False)[\"created_at\"].diff().dt.days\n",
    "\n",
    "df_temp = (\n",
    "    df_transactions.groupby([\"user_id\"], as_index=False)\n",
    "    [\"days_lag_transaction\"].median()\n",
    "    .rename(columns={\"days_lag_transaction\": \"median_lag_transaction\"})\n",
    ")\n",
    "\n",
    "df_users = df_users.merge(df_temp, how=\"left\", on=\"user_id\")"
   ]
  },
  {
   "cell_type": "code",
   "execution_count": 41,
   "id": "fa170a7b-0b67-4e2d-9df2-85e7deba4cb3",
   "metadata": {},
   "outputs": [],
   "source": [
    "df_temp = (\n",
    "    pd.get_dummies(df_transactions['status'])\n",
    "    .rename(columns={\"approved\": \"transaction_approved\", \"denied\": \"transaction_denied\"})\n",
    ")\n",
    "df_transactions = pd.concat([df_transactions, df_temp], axis=1)\n",
    "df_temp = df_transactions.groupby([\"user_id\"], as_index=False).agg(\n",
    "    {\n",
    "        \"transaction_approved\": lambda transaction : transaction.sum(),\n",
    "        \"transaction_denied\": lambda transaction : transaction.sum(),\n",
    "    }\n",
    ")\n",
    "df_users = df_users.merge(df_temp, how=\"left\", on=\"user_id\")\n",
    "\n",
    "# Denied Ratio: number of denied transactions to total number of transactions \n",
    "# Users with a higher denied rate might demonstrate worse financial behavior\n",
    "df_users[\"rate_denied\"] = df_users[\"transaction_denied\"] / df_users[\"frequency\"]\n",
    "\n",
    "df_users = df_users.drop(columns=[\"transaction_approved\", \"transaction_denied\"])\n",
    "df_transactions = df_transactions.drop(columns=[\"transaction_approved\", \"transaction_denied\"])"
   ]
  },
  {
   "cell_type": "code",
   "execution_count": 42,
   "id": "9d5c7ae8-f025-45c2-b930-9a590684940c",
   "metadata": {},
   "outputs": [],
   "source": [
    "df_transactions.loc[df_transactions[\"installments\"] == 1, \"with_installment\"] = False\n",
    "df_transactions.loc[df_transactions[\"installments\"] > 1, \"with_installment\"] = True\n",
    "\n",
    "df_temp = df_transactions.groupby([\"user_id\"], as_index=False)[\"with_installment\"].sum()\n",
    "df_users = df_users.merge(df_temp, how=\"left\", on=\"user_id\")\n",
    "\n",
    "# Transactions with Installments Ratio: proportion of transactions with installments\n",
    "# Users who frequently opt for installment payments might have better financial planning and repayment capabilities\n",
    "df_users[\"rate_transactions_installment\"] = df_users[\"with_installment\"] / df_users[\"frequency\"]\n",
    "\n",
    "df_users = df_users.drop(columns=[\"with_installment\"])\n",
    "df_transactions = df_transactions.drop(columns=[\"with_installment\"])"
   ]
  },
  {
   "cell_type": "code",
   "execution_count": 43,
   "id": "1bd64c42-128b-4b81-8ef7-8eec19ca23b4",
   "metadata": {},
   "outputs": [],
   "source": [
    "df_temp = (\n",
    "    pd.get_dummies(df_transactions['payment_method'])\n",
    "    .rename(columns={\"credit\": \"payment_method_credit\", \"debit\": \"payment_method_debit\"})\n",
    ")\n",
    "df_transactions = pd.concat([df_transactions, df_temp], axis=1)\n",
    "df_temp = df_transactions.groupby([\"user_id\"], as_index=False).agg(\n",
    "    {\n",
    "        \"payment_method_credit\": lambda payment_method : payment_method.sum(),\n",
    "        \"payment_method_debit\": lambda payment_method : payment_method.sum(),\n",
    "    }\n",
    ")\n",
    "df_users = df_users.merge(df_temp, how=\"left\", on=\"user_id\")\n",
    "\n",
    "# Credit to Debit Ratio: number of credit transactions to number of debit transactions \n",
    "# Users who rely on credit cards might be more likely to repay loans\n",
    "df_users[\"rate_credit_debit\"] = (1 + df_users[\"payment_method_credit\"]) / (1 + df_users[\"payment_method_debit\"])  # smoothing\n",
    "\n",
    "df_users = df_users.drop(columns=[\"payment_method_credit\", \"payment_method_debit\"])\n",
    "df_transactions = df_transactions.drop(columns=[\"payment_method_credit\", \"payment_method_debit\"])"
   ]
  },
  {
   "cell_type": "code",
   "execution_count": 44,
   "id": "5ad43578-165f-4fa7-923e-16a70e1eeb88",
   "metadata": {},
   "outputs": [],
   "source": [
    "# Based on the capture method, derive whether a purchase was made in-person or online\n",
    "purchase_in_person, purchase_online = [\"emv\", \"contactless\", \"mpos\"], [\"payment_link\", \"ecommerce\", \"payment_link_web\"]\n",
    "df_transactions.loc[df_transactions[\"capture_method\"].isin(purchase_in_person), \"purchase_type\"] = \"in_person\"\n",
    "df_transactions.loc[df_transactions[\"capture_method\"].isin(purchase_online), \"purchase_type\"] = \"online\"\n",
    "\n",
    "df_temp = (\n",
    "    pd.get_dummies(df_transactions['purchase_type'])\n",
    "    .rename(columns={\"in_person\": \"purchase_in_person\", \"online\": \"purchase_online\"})\n",
    ")\n",
    "df_transactions = pd.concat([df_transactions, df_temp], axis=1)\n",
    "df_temp = df_transactions.groupby([\"user_id\"], as_index=False).agg(\n",
    "    {\n",
    "        \"purchase_in_person\": lambda purchase_type : purchase_type.sum(),\n",
    "        \"purchase_online\": lambda purchase_type : purchase_type.sum(),\n",
    "    }\n",
    ")\n",
    "df_users = df_users.merge(df_temp, how=\"left\", on=\"user_id\")\n",
    "\n",
    "# Online to In-Person Purchases Ratio: number of online purchases to number of in-person purchases\n",
    "# This ratio indicates users' financial habits\n",
    "df_users[\"ratio_online_person\"] = (1 + df_users[\"purchase_online\"]) / (1 + df_users[\"purchase_in_person\"])  # smoothing\n",
    "\n",
    "df_users = df_users.drop(columns=[\"purchase_in_person\", \"purchase_online\"])\n",
    "df_transactions = df_transactions.drop(columns=[\"purchase_type\", \"purchase_in_person\", \"purchase_online\"])"
   ]
  },
  {
   "cell_type": "code",
   "execution_count": 45,
   "id": "a9f43ac4-e006-4f0e-a358-5d1c1bc56820",
   "metadata": {},
   "outputs": [],
   "source": [
    "# Based on the card brand, derive whether an International or Brazil-based card provider is being used\n",
    "card_internation, card_brazil = [\"mastercard\", \"visa\", \"amex\"], [\"elo\", \"hipercard\"]\n",
    "df_transactions.loc[df_transactions[\"card_brand\"].isin(card_internation), \"card_type\"] = \"card_internation\"\n",
    "df_transactions.loc[df_transactions[\"card_brand\"].isin(card_brazil), \"card_type\"] = \"card_brazil\"\n",
    "\n",
    "# Card Brand Preference: determine whether an International or Brazil-based card provider is prefered\n",
    "df_temp = (\n",
    "    df_transactions\n",
    "    .groupby([\"user_id\"], as_index=False)\n",
    "    [\"card_type\"].value_counts()\n",
    "    .sort_values(['user_id', 'count'], ascending=False)\n",
    "    .drop_duplicates(['user_id'])\n",
    ")\n",
    "df_users = (\n",
    "    df_users\n",
    "    .merge(df_temp[[\"user_id\", \"card_type\"]], how=\"left\", on=\"user_id\")\n",
    "    .rename(columns={\"card_type\": \"card_preference\"})\n",
    ")\n",
    "\n",
    "df_transactions = df_transactions.drop(columns=[\"card_type\"])"
   ]
  },
  {
   "cell_type": "markdown",
   "id": "d4f8ebe4-ee0e-4ca4-bf86-161145359d92",
   "metadata": {
    "jp-MarkdownHeadingCollapsed": true
   },
   "source": [
    "## ✅ checkpoint"
   ]
  },
  {
   "cell_type": "code",
   "execution_count": 46,
   "id": "92d2d596-8ad2-4cc6-ae29-781ee3612754",
   "metadata": {},
   "outputs": [],
   "source": [
    "df_loans.to_pickle(\"../data/processed/df_loans.pkl\")\n",
    "df_users.to_pickle(\"../data/processed/df_users.pkl\")"
   ]
  },
  {
   "cell_type": "markdown",
   "id": "786ec450-1883-4dcd-92a4-75695a9a5eb3",
   "metadata": {
    "jp-MarkdownHeadingCollapsed": true
   },
   "source": [
    "# Good-Bad Loans\n",
    "\n",
    "**Definition:**\n",
    "- To define the goodness of a loan, we need to separate the ones that were paid from the ones that resulted in debt.\n",
    "- **Loan Debt**\n",
    "    - Loans resulting in debt are considered bad loans.\n",
    "- **Paid Loans**\n",
    "    - The goodness of a paid loan is assessed based on the default rate of that loan benchmarked to the median default rate across all paid loans.\n",
    "    - However, loans vary, amongst other characteristics, in amount and interest rate, factors that impact the profile of the loan and the user repayment behavior.\n",
    "    - Thus, to define the goodness of a paid loan we need to benchmark the default rate of a paid loan to the median default rate of the category that it belongs to. The category is defined based on the principal amount (small, medium, large) and the interest rate (small, medium, large).\n",
    "\n",
    "**Notes:**\n",
    "- Principal Amount\n",
    "    - small: R\\\\$ 1k-3k\n",
    "    - medium: R\\\\$ 3k-5k\n",
    "    - large: R\\\\$ 5k-7k\n",
    "- Interest Rate\n",
    "    - small: < 40%\n",
    "    - medium: 40% - 100%\n",
    "    - large: > 100%"
   ]
  },
  {
   "cell_type": "code",
   "execution_count": 47,
   "id": "c653fdd4-c50c-474b-a087-e70a68c2a4bf",
   "metadata": {},
   "outputs": [
    {
     "name": "stderr",
     "output_type": "stream",
     "text": [
      "C:\\Users\\lampr\\AppData\\Local\\Temp\\ipykernel_3284\\1799892317.py:2: SettingWithCopyWarning: \n",
      "A value is trying to be set on a copy of a slice from a DataFrame.\n",
      "Try using .loc[row_indexer,col_indexer] = value instead\n",
      "\n",
      "See the caveats in the documentation: https://pandas.pydata.org/pandas-docs/stable/user_guide/indexing.html#returning-a-view-versus-a-copy\n",
      "  df_loans_debt[\"loan_quality\"] = \"bad_loan\"\n"
     ]
    }
   ],
   "source": [
    "df_loans_debt = df_loans[df_loans[\"status_cleaned\"] == \"debt\"]\n",
    "df_loans_debt[\"loan_quality\"] = \"bad_loan\"\n",
    "\n",
    "df_loans_repaid = df_loans[df_loans[\"status_cleaned\"] == \"repaid\"]"
   ]
  },
  {
   "cell_type": "code",
   "execution_count": 48,
   "id": "114d8c32-bd15-4832-8232-311fd85d2745",
   "metadata": {},
   "outputs": [
    {
     "data": {
      "text/html": [
       "<div>\n",
       "<style scoped>\n",
       "    .dataframe tbody tr th:only-of-type {\n",
       "        vertical-align: middle;\n",
       "    }\n",
       "\n",
       "    .dataframe tbody tr th {\n",
       "        vertical-align: top;\n",
       "    }\n",
       "\n",
       "    .dataframe thead th {\n",
       "        text-align: right;\n",
       "    }\n",
       "</style>\n",
       "<table border=\"1\" class=\"dataframe\">\n",
       "  <thead>\n",
       "    <tr style=\"text-align: right;\">\n",
       "      <th></th>\n",
       "      <th>amount_cat</th>\n",
       "      <th>interest_rate_bin</th>\n",
       "      <th>count</th>\n",
       "      <th>mean</th>\n",
       "      <th>std</th>\n",
       "      <th>min</th>\n",
       "      <th>25%</th>\n",
       "      <th>50%</th>\n",
       "      <th>75%</th>\n",
       "      <th>max</th>\n",
       "    </tr>\n",
       "  </thead>\n",
       "  <tbody>\n",
       "    <tr>\n",
       "      <th>0</th>\n",
       "      <td>large</td>\n",
       "      <td>large</td>\n",
       "      <td>857.0</td>\n",
       "      <td>0.043818</td>\n",
       "      <td>0.070628</td>\n",
       "      <td>0.0</td>\n",
       "      <td>0.0</td>\n",
       "      <td>0.021277</td>\n",
       "      <td>0.057692</td>\n",
       "      <td>0.642857</td>\n",
       "    </tr>\n",
       "    <tr>\n",
       "      <th>1</th>\n",
       "      <td>large</td>\n",
       "      <td>medium</td>\n",
       "      <td>126.0</td>\n",
       "      <td>0.045592</td>\n",
       "      <td>0.082751</td>\n",
       "      <td>0.0</td>\n",
       "      <td>0.0</td>\n",
       "      <td>0.014709</td>\n",
       "      <td>0.048942</td>\n",
       "      <td>0.400000</td>\n",
       "    </tr>\n",
       "    <tr>\n",
       "      <th>2</th>\n",
       "      <td>large</td>\n",
       "      <td>small</td>\n",
       "      <td>3487.0</td>\n",
       "      <td>0.055616</td>\n",
       "      <td>0.087893</td>\n",
       "      <td>0.0</td>\n",
       "      <td>0.0</td>\n",
       "      <td>0.030303</td>\n",
       "      <td>0.071429</td>\n",
       "      <td>0.800000</td>\n",
       "    </tr>\n",
       "    <tr>\n",
       "      <th>3</th>\n",
       "      <td>medium</td>\n",
       "      <td>large</td>\n",
       "      <td>48.0</td>\n",
       "      <td>0.064868</td>\n",
       "      <td>0.115035</td>\n",
       "      <td>0.0</td>\n",
       "      <td>0.0</td>\n",
       "      <td>0.035714</td>\n",
       "      <td>0.090909</td>\n",
       "      <td>0.714286</td>\n",
       "    </tr>\n",
       "    <tr>\n",
       "      <th>4</th>\n",
       "      <td>medium</td>\n",
       "      <td>medium</td>\n",
       "      <td>11.0</td>\n",
       "      <td>0.064028</td>\n",
       "      <td>0.084505</td>\n",
       "      <td>0.0</td>\n",
       "      <td>0.0</td>\n",
       "      <td>0.046154</td>\n",
       "      <td>0.077853</td>\n",
       "      <td>0.235294</td>\n",
       "    </tr>\n",
       "    <tr>\n",
       "      <th>5</th>\n",
       "      <td>medium</td>\n",
       "      <td>small</td>\n",
       "      <td>212.0</td>\n",
       "      <td>0.073365</td>\n",
       "      <td>0.121575</td>\n",
       "      <td>0.0</td>\n",
       "      <td>0.0</td>\n",
       "      <td>0.036700</td>\n",
       "      <td>0.081219</td>\n",
       "      <td>0.769231</td>\n",
       "    </tr>\n",
       "    <tr>\n",
       "      <th>6</th>\n",
       "      <td>small</td>\n",
       "      <td>large</td>\n",
       "      <td>56.0</td>\n",
       "      <td>0.063119</td>\n",
       "      <td>0.103677</td>\n",
       "      <td>0.0</td>\n",
       "      <td>0.0</td>\n",
       "      <td>0.000000</td>\n",
       "      <td>0.080103</td>\n",
       "      <td>0.392857</td>\n",
       "    </tr>\n",
       "    <tr>\n",
       "      <th>7</th>\n",
       "      <td>small</td>\n",
       "      <td>medium</td>\n",
       "      <td>21.0</td>\n",
       "      <td>0.051298</td>\n",
       "      <td>0.069516</td>\n",
       "      <td>0.0</td>\n",
       "      <td>0.0</td>\n",
       "      <td>0.000000</td>\n",
       "      <td>0.080000</td>\n",
       "      <td>0.266667</td>\n",
       "    </tr>\n",
       "    <tr>\n",
       "      <th>8</th>\n",
       "      <td>small</td>\n",
       "      <td>small</td>\n",
       "      <td>229.0</td>\n",
       "      <td>0.102287</td>\n",
       "      <td>0.136684</td>\n",
       "      <td>0.0</td>\n",
       "      <td>0.0</td>\n",
       "      <td>0.045455</td>\n",
       "      <td>0.166667</td>\n",
       "      <td>0.882353</td>\n",
       "    </tr>\n",
       "  </tbody>\n",
       "</table>\n",
       "</div>"
      ],
      "text/plain": [
       "  amount_cat interest_rate_bin   count      mean       std  min  25%  \\\n",
       "0      large             large   857.0  0.043818  0.070628  0.0  0.0   \n",
       "1      large            medium   126.0  0.045592  0.082751  0.0  0.0   \n",
       "2      large             small  3487.0  0.055616  0.087893  0.0  0.0   \n",
       "3     medium             large    48.0  0.064868  0.115035  0.0  0.0   \n",
       "4     medium            medium    11.0  0.064028  0.084505  0.0  0.0   \n",
       "5     medium             small   212.0  0.073365  0.121575  0.0  0.0   \n",
       "6      small             large    56.0  0.063119  0.103677  0.0  0.0   \n",
       "7      small            medium    21.0  0.051298  0.069516  0.0  0.0   \n",
       "8      small             small   229.0  0.102287  0.136684  0.0  0.0   \n",
       "\n",
       "        50%       75%       max  \n",
       "0  0.021277  0.057692  0.642857  \n",
       "1  0.014709  0.048942  0.400000  \n",
       "2  0.030303  0.071429  0.800000  \n",
       "3  0.035714  0.090909  0.714286  \n",
       "4  0.046154  0.077853  0.235294  \n",
       "5  0.036700  0.081219  0.769231  \n",
       "6  0.000000  0.080103  0.392857  \n",
       "7  0.000000  0.080000  0.266667  \n",
       "8  0.045455  0.166667  0.882353  "
      ]
     },
     "execution_count": 48,
     "metadata": {},
     "output_type": "execute_result"
    }
   ],
   "source": [
    "# calculate 5-number summary of default rate per loan amount and interest rate combination\n",
    "stats = df_loans_repaid.groupby([\"amount_cat\", \"interest_rate_bin\"], as_index=False)[\"rate_default\"].describe()\n",
    "stats"
   ]
  },
  {
   "cell_type": "code",
   "execution_count": 49,
   "id": "916fc22b-66ef-496b-b0fc-759cfca4a20f",
   "metadata": {},
   "outputs": [],
   "source": [
    "# to assess the quality of a loan, the default rate should meet or exceed the third quartile (Q3) \n",
    "# of its corresponding category, determined by loan amount and interest rate\n",
    "df_loans_repaid = df_loans_repaid.merge(\n",
    "    (\n",
    "        stats[[\"amount_cat\", \"interest_rate_bin\", \"75%\"]]\n",
    "        .rename(columns={\"75%\": \"goodness_thres\"})\n",
    "    ), \n",
    "    how=\"left\", \n",
    "    on=[\"amount_cat\", \"interest_rate_bin\"]\n",
    ")\n",
    "df_loans_repaid[\"loan_quality\"] = (df_loans_repaid[\"rate_default\"] >= df_loans_repaid[\"goodness_thres\"])\n",
    "df_loans_repaid[\"loan_quality\"] = df_loans_repaid[\"loan_quality\"].replace({True: \"bad_loan\", False: \"good_loan\"})\n",
    "\n",
    "df_loans_repaid = df_loans_repaid.drop(columns=[\"goodness_thres\"])"
   ]
  },
  {
   "cell_type": "code",
   "execution_count": 50,
   "id": "5c4c444c-7294-4205-8e6d-f5345b64ff6e",
   "metadata": {},
   "outputs": [],
   "source": [
    "df_loans = pd.concat([df_loans_debt, df_loans_repaid])"
   ]
  },
  {
   "cell_type": "markdown",
   "id": "2ad34497-417d-4831-8d3c-a3b772c37594",
   "metadata": {
    "jp-MarkdownHeadingCollapsed": true
   },
   "source": [
    "# Train-Test Split\n",
    "\n",
    "**Note:** \n",
    "- We split before calculating the statistics about the repayment behavior of the users, since these need to be based on the training set to avoid data leakage.\n",
    "- **Existing Users**\n",
    "    - When evaluating a user on a new loan at timestamp $t$, the repayment behavior of the user is the one observed up until timestamp $t-1$.\n",
    "- **New Users**\n",
    "    - When evaluating a user on a new loan at timestamp $t$, the repayment behavior of the user is the one observed up until timestamp $t-1$ of the segment that it belongs to if we have the transaction history of the user, otherwise of the Recent customers segment."
   ]
  },
  {
   "cell_type": "code",
   "execution_count": 51,
   "id": "34df33fd-8089-452c-bd33-c7bc79df7507",
   "metadata": {},
   "outputs": [],
   "source": [
    "def multi_time_series_split(\n",
    "    df: pd.DataFrame, \n",
    "    primary_key: str, \n",
    "    test_size_frac: float, \n",
    "    stratify_key: str, \n",
    "    random_state: int,\n",
    ") -> tuple:\n",
    "    \"\"\" Split multiple time-series data into train and test subsets.\n",
    "\n",
    "    Test set contains the newest records of each time-series.\n",
    "\n",
    "    Args:\n",
    "        df:\n",
    "            Input datataset.\n",
    "        primary_key:\n",
    "            Feature that distinguishes the time-series.\n",
    "        test_size_frac:\n",
    "            Proportion of the dataset to include in the test split.\n",
    "        stratify_key:\n",
    "            Feature to split in a stratified fashion.\n",
    "        random_state:\n",
    "            Controls the shuffling applied to the data before applying the split.\n",
    "    \n",
    "    Returns:\n",
    "        Train and test set features and target.\n",
    "    \"\"\"\n",
    "    test_size = round(df.shape[0] * test_size_frac)\n",
    "    \n",
    "    df_slice = df.groupby(primary_key, as_index=False).last()\n",
    "\n",
    "    _, test = train_test_split(df_slice, test_size=test_size, stratify=df_slice[stratify_key], random_state=random_state)\n",
    "\n",
    "    X_train, X_test = df[~df.index.isin(test.index)], df[df.index.isin(test.index)]\n",
    "    \n",
    "    return X_train, X_test"
   ]
  },
  {
   "cell_type": "code",
   "execution_count": 52,
   "id": "aadbfef3-1595-497c-9cf8-8953403294dd",
   "metadata": {},
   "outputs": [],
   "source": [
    "# sort by user and date of loan to get latest loan in test set per user\n",
    "df_loans = df_loans.sort_values(by=[\"user_id\", \"created_at\"])\n",
    "\n",
    "# single_loan flag is used for stratification purposes\n",
    "# it is important to have in the test set user with only 1 loan because these will be evaluated as new users\n",
    "# meaning that information related to their lending habits will be erased\n",
    "df_temp = df_loans.groupby(\"user_id\", as_index=False)[\"id\"].count().rename(columns={\"id\": \"num_loans\"})\n",
    "df_loans = df_loans.merge(df_temp, how=\"left\", on=\"user_id\")\n",
    "df_loans[\"single_loan\"] = (df_loans[\"num_loans\"] == 1)\n",
    "\n",
    "df_loans_train, df_loans_test = multi_time_series_split(df_loans, primary_key=\"user_id\", test_size_frac=.2, stratify_key=\"single_loan\", random_state=42)"
   ]
  },
  {
   "cell_type": "code",
   "execution_count": 53,
   "id": "640b1e8e-c3f8-42a6-9048-40064299abb7",
   "metadata": {},
   "outputs": [
    {
     "name": "stdout",
     "output_type": "stream",
     "text": [
      "Train: number of loans: 5,270\n",
      "Test: number of loans: 1,318\n"
     ]
    }
   ],
   "source": [
    "print(f\"Train: number of loans: {df_loans_train['id'].unique().shape[0]:,}\\nTest: number of loans: {df_loans_test['id'].unique().shape[0]:,}\")"
   ]
  },
  {
   "cell_type": "code",
   "execution_count": 54,
   "id": "d119801d-0973-4d97-8fdb-b5655ca405e4",
   "metadata": {},
   "outputs": [
    {
     "name": "stdout",
     "output_type": "stream",
     "text": [
      "Train:\n",
      "\tnumber of good loans: 3,008\n",
      "\tnumber of bad loans: 2,262\n",
      "Test:\n",
      "\tnumber of good loans: 760\n",
      "\tnumber of bad loans: 558\n"
     ]
    }
   ],
   "source": [
    "single_loan, multi_loan = df_loans_train[df_loans_train[\"loan_quality\"] == \"good_loan\"].shape[0], df_loans_train[df_loans_train[\"loan_quality\"] == \"bad_loan\"].shape[0]\n",
    "print(f\"Train:\\n\\tnumber of good loans: {single_loan:,}\\n\\tnumber of bad loans: {multi_loan:,}\")\n",
    "\n",
    "single_loan, multi_loan = df_loans_test[df_loans_test[\"loan_quality\"] == \"good_loan\"].shape[0], df_loans_test[df_loans_test[\"loan_quality\"] == \"bad_loan\"].shape[0]\n",
    "print(f\"Test:\\n\\tnumber of good loans: {single_loan:,}\\n\\tnumber of bad loans: {multi_loan:,}\")"
   ]
  },
  {
   "cell_type": "code",
   "execution_count": 55,
   "id": "2a6ce76e-a6cb-49dd-88a8-7722b1bf00f8",
   "metadata": {},
   "outputs": [
    {
     "name": "stdout",
     "output_type": "stream",
     "text": [
      "Train:\n",
      "\tnumber of users with one loan: 1,188\n",
      "\tnumber of users with multiple loans: 4,082\n",
      "Test:\n",
      "\tnumber of users with one loan: 293\n",
      "\tnumber of users with multiple loans: 1,025\n"
     ]
    }
   ],
   "source": [
    "single_loan, multi_loan = df_loans_train[df_loans_train[\"single_loan\"] == True].shape[0], df_loans_train[df_loans_train[\"single_loan\"] == False].shape[0]\n",
    "print(f\"Train:\\n\\tnumber of users with one loan: {single_loan:,}\\n\\tnumber of users with multiple loans: {multi_loan:,}\")\n",
    "\n",
    "single_loan, multi_loan = df_loans_test[df_loans_test[\"single_loan\"] == True].shape[0], df_loans_test[df_loans_test[\"single_loan\"] == False].shape[0]\n",
    "print(f\"Test:\\n\\tnumber of users with one loan: {single_loan:,}\\n\\tnumber of users with multiple loans: {multi_loan:,}\")"
   ]
  },
  {
   "cell_type": "code",
   "execution_count": 56,
   "id": "bb109abe-7c8d-40b7-a504-fc425f3be163",
   "metadata": {},
   "outputs": [],
   "source": [
    "# drop auxiliary features\n",
    "df_loans = df_loans.drop(columns=[\"num_loans\", \"single_loan\"])\n",
    "df_loans_train, df_loans_test = df_loans_train.drop(columns=[\"num_loans\", \"single_loan\"]), df_loans_test.drop(columns=[\"num_loans\", \"single_loan\"])"
   ]
  },
  {
   "cell_type": "markdown",
   "id": "6c1ca1da-6e06-4d7c-b413-ee53727e1668",
   "metadata": {
    "jp-MarkdownHeadingCollapsed": true
   },
   "source": [
    "## ✅ checkpoint"
   ]
  },
  {
   "cell_type": "code",
   "execution_count": 57,
   "id": "312a1dce-4738-46e1-b5a4-580acc728ebb",
   "metadata": {},
   "outputs": [],
   "source": [
    "df_loans_train.to_pickle(\"../data/interim/df_loans_train_raw.pkl\")\n",
    "df_loans_test.to_pickle(\"../data/interim/df_loans_test_raw.pkl\")"
   ]
  },
  {
   "cell_type": "markdown",
   "id": "04ee6bc3-a295-49a8-be4c-b25a14d1bbc9",
   "metadata": {
    "jp-MarkdownHeadingCollapsed": true
   },
   "source": [
    "# Feature Engineering\n",
    "\n",
    "**Note:** Statistics about the repayment behavior of the user need to be calculated based on the training set to avoid data leakage. Users not contained in the training set won't have any statistics regarding their repayment behavior (cold start problem).\n",
    "\n",
    "**User Repayment Related**\n",
    "- *default ratio:* number of defaulted repayments to total number repayments across all loans\n",
    "- *median repayment amount:* across all loans\n",
    "- *maximum repayment delay:* across all loans\n",
    "- *median repayment lag:* across all loans\n",
    "- *number of loans*\n",
    "- *due date exceeded ratio:* number of loans who were repayed outside of deadline to the total number of loans\n",
    "- *late repayments ratio:* ratio of late repayments to total repayments across all loans\n",
    "- *manual to automated repayments:* measures the preference of manual repayments over scheduled repayments across all loans\n",
    "- *repaid loans ratio:* number of fully repaid loans to number of loans"
   ]
  },
  {
   "cell_type": "code",
   "execution_count": 58,
   "id": "f0df1e2e-4146-4d22-aa73-705e15e37011",
   "metadata": {},
   "outputs": [],
   "source": [
    "df_temp = df_loans_train.groupby(\"user_id\", as_index=False).agg(\n",
    "    {\n",
    "        \"status_defaulted\": lambda loan : loan.sum(),\n",
    "        \"status_paid\": lambda loan : loan.sum(),\n",
    "    }\n",
    ")\n",
    "df_users = df_users.merge(df_temp, how=\"left\", on=\"user_id\")\n",
    "\n",
    "# Default Ratio: number of defaulted repayments to total number of repayments\n",
    "# Users with a higher rate demonstrate worse financial behavior\n",
    "df_users[\"rate_default\"] = df_users[\"status_defaulted\"] / (df_users[\"status_defaulted\"] + df_users[\"status_paid\"])  \n",
    "\n",
    "df_users = df_users.drop(columns=[\"status_defaulted\", \"status_paid\"])"
   ]
  },
  {
   "cell_type": "code",
   "execution_count": 59,
   "id": "482071a3-ffaa-4fb9-a6a4-451a323505a1",
   "metadata": {},
   "outputs": [],
   "source": [
    "# Median Repayment Amount: across all loans\n",
    "df_temp = df_loans_train.groupby(\"user_id\", as_index=False)['median_repayment_amount'].median()\n",
    "df_users = df_users.merge(df_temp, how=\"left\", on=\"user_id\")"
   ]
  },
  {
   "cell_type": "code",
   "execution_count": 60,
   "id": "a5ac764f-6859-4198-90e5-eb70418a1620",
   "metadata": {},
   "outputs": [],
   "source": [
    "# Maximum Repayment Delay: across all loans\n",
    "df_temp = df_loans_train.groupby(\"user_id\", as_index=False)['max_repayment_delay'].max()\n",
    "df_users = df_users.merge(df_temp, how=\"left\", on=\"user_id\")"
   ]
  },
  {
   "cell_type": "code",
   "execution_count": 61,
   "id": "ac1f44cf-867d-4aa9-b53c-8992a10ee254",
   "metadata": {},
   "outputs": [],
   "source": [
    "# Median Repayment Lag: across all loans\n",
    "df_temp = df_loans_train.groupby(\"user_id\", as_index=False)['median_days_lag_repayment'].median()\n",
    "df_users = df_users.merge(df_temp, how=\"left\", on=\"user_id\")"
   ]
  },
  {
   "cell_type": "code",
   "execution_count": 62,
   "id": "fa0e7d94-0b06-4034-87e4-f4e7534804f4",
   "metadata": {},
   "outputs": [],
   "source": [
    "# Number of Loans\n",
    "# Times Due Date Exceeded: number of loans who were repayed outside of deadline\n",
    "df_temp = df_loans_train.groupby(\"user_id\", as_index=False).agg(\n",
    "    {\n",
    "        \"due_date_exceeded\": lambda loan : loan.sum(),\n",
    "        \"id\": lambda loan : len(loan),\n",
    "    }\n",
    ").rename(columns={\"id\": \"num_loans\", \"due_date_exceeded\": \"times_due_date_exceeded\"})\n",
    "df_users = df_users.merge(df_temp, how=\"left\", on=\"user_id\")\n",
    "\n",
    "# Due Data Exceeded Ratio: number of loans who were repayed outside of deadline to the total number of loans\n",
    "df_users[\"rate_due_date_exceeded\"] = df_users[\"times_due_date_exceeded\"] / df_users[\"num_loans\"]\n",
    "\n",
    "df_users = df_users.drop(columns=[\"times_due_date_exceeded\"])"
   ]
  },
  {
   "cell_type": "code",
   "execution_count": 63,
   "id": "0e758793-a177-4d36-a140-882e78b76d05",
   "metadata": {},
   "outputs": [],
   "source": [
    "# Late Repayments Ratio: ratio of late repayments to total repayments\n",
    "df_temp = df_loans_train.groupby(\"user_id\", as_index=False).agg(\n",
    "    {\n",
    "        \"num_repayments\": lambda loan : loan.sum(),\n",
    "        \"num_late_repayment\": lambda loan : loan.sum(),\n",
    "    }\n",
    ").rename(columns={\"id\": \"num_loans\", \"due_date_exceeded\": \"times_due_date_exceeded\"})\n",
    "df_users = df_users.merge(df_temp, how=\"left\", on=\"user_id\")\n",
    "df_users[\"rate_late_repayment\"] = df_users[\"num_late_repayment\"] / df_users[\"num_repayments\"]\n",
    "\n",
    "df_users = df_users.drop(columns=[\"num_repayments\", \"num_late_repayment\"])"
   ]
  },
  {
   "cell_type": "code",
   "execution_count": 64,
   "id": "521a605e-8221-4f07-b4b1-6f9aacab1a84",
   "metadata": {},
   "outputs": [],
   "source": [
    "# Manual to Automated Repayments: measures the preference of manual repayments over scheduled repayments\n",
    "# Calculated as number times pix was used over autopilot across all loans\n",
    "\n",
    "# Per loan, calculate the number of repayments made with pix and autopilot\n",
    "df_temp = (\n",
    "    pd.get_dummies(df_loan_repayments['type'])\n",
    "    .rename(columns={\"autopilot\": \"type_autopilot\", \"pix\": \"type_pix\"})\n",
    ")\n",
    "df_loan_repayments = pd.concat([df_loan_repayments, df_temp], axis=1)\n",
    "df_temp = df_loan_repayments.groupby(\"loan_id\", as_index=False).agg(\n",
    "    {\n",
    "        \"type_autopilot\": lambda payment_type : payment_type.sum(),\n",
    "        \"type_pix\": lambda payment_type : payment_type.sum(),\n",
    "    }\n",
    ").rename(columns={\"loan_id\": \"id\", \"type_autopilot\": \"times_autopilot\", \"type_pix\": \"times_pix\"})\n",
    "df_loans_train = df_loans_train.merge(df_temp, how=\"left\", on=\"id\")\n",
    "\n",
    "\n",
    "# Per user, calculate the number of repayments made with pix and autopilot and calculate the ratio\n",
    "df_temp = df_loans_train.groupby(\"user_id\", as_index=False).agg(\n",
    "    {\n",
    "        \"times_autopilot\": lambda payment_type : payment_type.sum(),\n",
    "        \"times_pix\": lambda payment_type : payment_type.sum(),\n",
    "    }\n",
    ")\n",
    "df_temp[\"rate_manual_auto_repayments\"] = (1 + df_temp[\"times_pix\"]) / (1 + df_temp[\"times_autopilot\"])  # smoothing\n",
    "df_users = df_users.merge(df_temp[[\"user_id\", \"rate_manual_auto_repayments\"]], how=\"left\", on=\"user_id\")\n",
    "\n",
    "df_loan_repayments = df_loan_repayments.drop(columns=[\"type_autopilot\", \"type_pix\"])\n",
    "df_loans_train = df_loans_train.drop(columns=[\"times_autopilot\", \"times_pix\"])"
   ]
  },
  {
   "cell_type": "code",
   "execution_count": 65,
   "id": "254c1678-4b8c-4837-81bb-16d66864bb11",
   "metadata": {},
   "outputs": [],
   "source": [
    "# Loan fully repaid binary indicator \n",
    "# If ratio_repaid_total is less than 100% then loan hasn't been fully repaid\n",
    "df_loans_train[\"loan_repaied\"] = df_loans_train[\"ratio_repaid_total\"].apply(np.floor)\n",
    "\n",
    "# Repaid Loans Ratio: number of fully repaid loans to number of loans\n",
    "df_temp = df_loans_train.groupby(\"user_id\", as_index=False).agg(\n",
    "    {\n",
    "        \"loan_repaied\": lambda payment_type : payment_type.sum(),\n",
    "        \"id\": lambda payment_type : len(payment_type),\n",
    "    }\n",
    ").rename(columns={\"id\": \"num_loans\", \"loan_repaied\": \"num_loans_repaied\"})\n",
    "df_temp[\"rate_repaid_loans\"] = df_temp[\"num_loans_repaied\"] / df_temp[\"num_loans\"]\n",
    "df_users = df_users.merge(df_temp[[\"user_id\", \"rate_repaid_loans\"]], how=\"left\", on=\"user_id\")\n",
    "\n",
    "df_loans_train = df_loans_train.drop(columns=[\"loan_repaied\"])"
   ]
  },
  {
   "cell_type": "markdown",
   "id": "9d6307e3-76dc-4e91-adb7-c73a519c3125",
   "metadata": {
    "jp-MarkdownHeadingCollapsed": true
   },
   "source": [
    "## ✅ checkpoint"
   ]
  },
  {
   "cell_type": "code",
   "execution_count": 66,
   "id": "f1028f0e-fd24-4354-80f1-16bc349e02a7",
   "metadata": {},
   "outputs": [],
   "source": [
    "df_users.to_pickle(\"../data/processed/df_users.pkl\")"
   ]
  }
 ],
 "metadata": {
  "kernelspec": {
   "display_name": "cloudwalk",
   "language": "python",
   "name": "cloudwalk"
  },
  "language_info": {
   "codemirror_mode": {
    "name": "ipython",
    "version": 3
   },
   "file_extension": ".py",
   "mimetype": "text/x-python",
   "name": "python",
   "nbconvert_exporter": "python",
   "pygments_lexer": "ipython3",
   "version": "3.8.19"
  },
  "widgets": {
   "application/vnd.jupyter.widget-state+json": {
    "state": {},
    "version_major": 2,
    "version_minor": 0
   }
  }
 },
 "nbformat": 4,
 "nbformat_minor": 5
}
