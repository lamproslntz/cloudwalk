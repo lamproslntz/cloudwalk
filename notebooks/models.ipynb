{
 "cells": [
  {
   "cell_type": "markdown",
   "id": "5acb8cd0-b9d8-4972-82e3-a7b02ecd6161",
   "metadata": {},
   "source": [
    "# Models\n",
    "\n",
    "## Table of Contents\n",
    "- Load Data\n",
    "- Sample and Feature Preparation\n",
    "    - Missing Data\n",
    "    - One-Hot Encoding\n",
    "    - Output Encoding\n",
    "- Train-Test Split\n",
    "- Utils\n",
    "- Model Selection\n",
    "    - LightGBM\n",
    "        - Hyperparameter Tuning\n",
    "        - Correlation Between Models\n",
    "        - Pairwise Comparison of Models\n",
    "        - Final Model Evaluation\n",
    "- Final Model\n",
    "    - Final Model\n",
    "    - Metrics\n",
    "    - Model Analysis\n",
    "    - Feature Importance"
   ]
  },
  {
   "cell_type": "code",
   "execution_count": 1,
   "id": "a96e23e8-dcda-4af2-9459-3221f54d7eaa",
   "metadata": {},
   "outputs": [
    {
     "name": "stderr",
     "output_type": "stream",
     "text": [
      "IProgress not found. Please update jupyter and ipywidgets. See https://ipywidgets.readthedocs.io/en/stable/user_install.html\n"
     ]
    }
   ],
   "source": [
    "import joblib\n",
    "from copy import deepcopy\n",
    "from itertools import combinations\n",
    "import random\n",
    "from math import factorial\n",
    "from scipy import stats\n",
    "from scipy.stats import t\n",
    "import numpy as np\n",
    "import pandas as pd\n",
    "\n",
    "# visualization\n",
    "%matplotlib inline\n",
    "import matplotlib.pyplot as plt\n",
    "import seaborn as sns\n",
    "import plotly.express as px\n",
    "import plotly.graph_objects as go\n",
    "\n",
    "# utils\n",
    "from sklearn.pipeline import Pipeline\n",
    "from sklearn.model_selection import train_test_split, RandomizedSearchCV\n",
    "\n",
    "# models\n",
    "# logistic ?\n",
    "from sklearn.ensemble import RandomForestClassifier\n",
    "from xgboost import XGBClassifier\n",
    "from lightgbm import LGBMClassifier\n",
    "\n",
    "# metrics\n",
    "from sklearn.metrics import (\n",
    "    classification_report, \n",
    "    f1_score, \n",
    "    precision_score, \n",
    "    recall_score, \n",
    "    confusion_matrix,\n",
    "    PrecisionRecallDisplay\n",
    ") \n",
    "import shap"
   ]
  },
  {
   "cell_type": "code",
   "execution_count": 2,
   "id": "8b87e518-e34a-4e68-a430-e5ff6edb00b4",
   "metadata": {},
   "outputs": [],
   "source": [
    "# sns config\n",
    "sns.set_style(\"whitegrid\")\n",
    "sns.set_palette(\"Blues_r\")"
   ]
  },
  {
   "cell_type": "code",
   "execution_count": 3,
   "id": "1443fbfd-3a56-4270-95d7-9ce94f6fb761",
   "metadata": {},
   "outputs": [],
   "source": [
    "# plotly config\n",
    "import plotly.io as pio\n",
    "pio.renderers.default = \"browser\"\n",
    "\n",
    "template = \"plotly_white\"\n",
    "colors = {\n",
    "    \"red\": \"rgb(255,0,0)\",\n",
    "    \"dark_blue\": \"rgb(30,144,255)\",\n",
    "    \"medium_blue\": \"rgb(0,191,255)\",\n",
    "    \"light_blue\": \"rgb(135,206,250)\",\n",
    "    \"dark_purple\": \"rgb(202, 105, 157)\",\n",
    "    \"medium_purple\": \"rgb(221, 136, 172)\",\n",
    "    \"light_purple\": \"rgb(234, 169, 189)\",\n",
    "    \"dark_gray\": \"rgb(169,169,169)\",\n",
    "    \"medium_gray\": \"rgb(192,192,192)\",\n",
    "    \"light_gray\": \"rgb(211,211,211)\"\n",
    "}\n",
    "title_font_size = 22\n",
    "font_size = 18"
   ]
  },
  {
   "cell_type": "markdown",
   "id": "d9fda14b-bcd3-4d4e-9571-6b781b5df477",
   "metadata": {
    "jp-MarkdownHeadingCollapsed": true
   },
   "source": [
    "# Load Data\n",
    "\n",
    "- TODO: explain\n",
    "- information not available at prediction time (new user being evaluated)"
   ]
  },
  {
   "cell_type": "code",
   "execution_count": 4,
   "id": "e5b821f6-09ee-4598-896d-ff7261e00c91",
   "metadata": {},
   "outputs": [
    {
     "data": {
      "text/html": [
       "<div>\n",
       "<style scoped>\n",
       "    .dataframe tbody tr th:only-of-type {\n",
       "        vertical-align: middle;\n",
       "    }\n",
       "\n",
       "    .dataframe tbody tr th {\n",
       "        vertical-align: top;\n",
       "    }\n",
       "\n",
       "    .dataframe thead th {\n",
       "        text-align: right;\n",
       "    }\n",
       "</style>\n",
       "<table border=\"1\" class=\"dataframe\">\n",
       "  <thead>\n",
       "    <tr style=\"text-align: right;\">\n",
       "      <th></th>\n",
       "      <th>id</th>\n",
       "      <th>user_id</th>\n",
       "      <th>amount_bin</th>\n",
       "      <th>interest_rate_bin</th>\n",
       "    </tr>\n",
       "  </thead>\n",
       "  <tbody>\n",
       "    <tr>\n",
       "      <th>0</th>\n",
       "      <td>0</td>\n",
       "      <td>3070</td>\n",
       "      <td>6k - 7k</td>\n",
       "      <td>small</td>\n",
       "    </tr>\n",
       "    <tr>\n",
       "      <th>1</th>\n",
       "      <td>1</td>\n",
       "      <td>2546</td>\n",
       "      <td>6k - 7k</td>\n",
       "      <td>small</td>\n",
       "    </tr>\n",
       "    <tr>\n",
       "      <th>2</th>\n",
       "      <td>2</td>\n",
       "      <td>2413</td>\n",
       "      <td>6k - 7k</td>\n",
       "      <td>small</td>\n",
       "    </tr>\n",
       "    <tr>\n",
       "      <th>3</th>\n",
       "      <td>3</td>\n",
       "      <td>2585</td>\n",
       "      <td>6k - 7k</td>\n",
       "      <td>small</td>\n",
       "    </tr>\n",
       "    <tr>\n",
       "      <th>4</th>\n",
       "      <td>4</td>\n",
       "      <td>2556</td>\n",
       "      <td>6k - 7k</td>\n",
       "      <td>small</td>\n",
       "    </tr>\n",
       "    <tr>\n",
       "      <th>...</th>\n",
       "      <td>...</td>\n",
       "      <td>...</td>\n",
       "      <td>...</td>\n",
       "      <td>...</td>\n",
       "    </tr>\n",
       "    <tr>\n",
       "      <th>6741</th>\n",
       "      <td>6741</td>\n",
       "      <td>2130</td>\n",
       "      <td>2k - 3k</td>\n",
       "      <td>large</td>\n",
       "    </tr>\n",
       "    <tr>\n",
       "      <th>6742</th>\n",
       "      <td>6742</td>\n",
       "      <td>549</td>\n",
       "      <td>6k - 7k</td>\n",
       "      <td>large</td>\n",
       "    </tr>\n",
       "    <tr>\n",
       "      <th>6743</th>\n",
       "      <td>6743</td>\n",
       "      <td>1414</td>\n",
       "      <td>6k - 7k</td>\n",
       "      <td>large</td>\n",
       "    </tr>\n",
       "    <tr>\n",
       "      <th>6744</th>\n",
       "      <td>6744</td>\n",
       "      <td>2070</td>\n",
       "      <td>6k - 7k</td>\n",
       "      <td>large</td>\n",
       "    </tr>\n",
       "    <tr>\n",
       "      <th>6745</th>\n",
       "      <td>6745</td>\n",
       "      <td>898</td>\n",
       "      <td>6k - 7k</td>\n",
       "      <td>large</td>\n",
       "    </tr>\n",
       "  </tbody>\n",
       "</table>\n",
       "<p>6598 rows × 4 columns</p>\n",
       "</div>"
      ],
      "text/plain": [
       "        id  user_id amount_bin interest_rate_bin\n",
       "0        0     3070    6k - 7k             small\n",
       "1        1     2546    6k - 7k             small\n",
       "2        2     2413    6k - 7k             small\n",
       "3        3     2585    6k - 7k             small\n",
       "4        4     2556    6k - 7k             small\n",
       "...    ...      ...        ...               ...\n",
       "6741  6741     2130    2k - 3k             large\n",
       "6742  6742      549    6k - 7k             large\n",
       "6743  6743     1414    6k - 7k             large\n",
       "6744  6744     2070    6k - 7k             large\n",
       "6745  6745      898    6k - 7k             large\n",
       "\n",
       "[6598 rows x 4 columns]"
      ]
     },
     "execution_count": 4,
     "metadata": {},
     "output_type": "execute_result"
    }
   ],
   "source": [
    "df_loans = pd.read_pickle(\"../data/processed/df_loans.pkl\")\n",
    "df_loans = df_loans[[\"id\", \"user_id\", \"amount_bin\", \"interest_rate_bin\"]]\n",
    "\n",
    "df_loans"
   ]
  },
  {
   "cell_type": "code",
   "execution_count": 5,
   "id": "d6e64b9d-dca9-409a-9b6a-2ef42fccffe6",
   "metadata": {},
   "outputs": [
    {
     "data": {
      "text/html": [
       "<div>\n",
       "<style scoped>\n",
       "    .dataframe tbody tr th:only-of-type {\n",
       "        vertical-align: middle;\n",
       "    }\n",
       "\n",
       "    .dataframe tbody tr th {\n",
       "        vertical-align: top;\n",
       "    }\n",
       "\n",
       "    .dataframe thead th {\n",
       "        text-align: right;\n",
       "    }\n",
       "</style>\n",
       "<table border=\"1\" class=\"dataframe\">\n",
       "  <thead>\n",
       "    <tr style=\"text-align: right;\">\n",
       "      <th></th>\n",
       "      <th>repayment_id</th>\n",
       "      <th>loan_id</th>\n",
       "      <th>created_at</th>\n",
       "      <th>repayment_amount</th>\n",
       "      <th>status_cleaned</th>\n",
       "      <th>days_since_loan_created</th>\n",
       "      <th>days_since_due_date</th>\n",
       "      <th>due_date_exceeded</th>\n",
       "      <th>days_lag_repayment</th>\n",
       "      <th>num_late_repayments</th>\n",
       "      <th>prev_status</th>\n",
       "      <th>prev_amount</th>\n",
       "      <th>cumsum_amount</th>\n",
       "      <th>ratio_repaid_total</th>\n",
       "    </tr>\n",
       "  </thead>\n",
       "  <tbody>\n",
       "    <tr>\n",
       "      <th>50</th>\n",
       "      <td>51</td>\n",
       "      <td>0</td>\n",
       "      <td>2022-02-03</td>\n",
       "      <td>9.75</td>\n",
       "      <td>paid</td>\n",
       "      <td>2</td>\n",
       "      <td>0</td>\n",
       "      <td>0</td>\n",
       "      <td>2.0</td>\n",
       "      <td>0</td>\n",
       "      <td>init</td>\n",
       "      <td>0.00</td>\n",
       "      <td>9.75</td>\n",
       "      <td>0.001613</td>\n",
       "    </tr>\n",
       "    <tr>\n",
       "      <th>112</th>\n",
       "      <td>113</td>\n",
       "      <td>0</td>\n",
       "      <td>2022-02-04</td>\n",
       "      <td>45.30</td>\n",
       "      <td>paid</td>\n",
       "      <td>3</td>\n",
       "      <td>0</td>\n",
       "      <td>0</td>\n",
       "      <td>1.0</td>\n",
       "      <td>0</td>\n",
       "      <td>paid</td>\n",
       "      <td>9.75</td>\n",
       "      <td>55.05</td>\n",
       "      <td>0.009106</td>\n",
       "    </tr>\n",
       "    <tr>\n",
       "      <th>216</th>\n",
       "      <td>217</td>\n",
       "      <td>0</td>\n",
       "      <td>2022-02-05</td>\n",
       "      <td>25.50</td>\n",
       "      <td>paid</td>\n",
       "      <td>4</td>\n",
       "      <td>0</td>\n",
       "      <td>0</td>\n",
       "      <td>1.0</td>\n",
       "      <td>0</td>\n",
       "      <td>paid</td>\n",
       "      <td>45.30</td>\n",
       "      <td>80.55</td>\n",
       "      <td>0.013324</td>\n",
       "    </tr>\n",
       "    <tr>\n",
       "      <th>496</th>\n",
       "      <td>497</td>\n",
       "      <td>0</td>\n",
       "      <td>2022-02-08</td>\n",
       "      <td>10.50</td>\n",
       "      <td>paid</td>\n",
       "      <td>7</td>\n",
       "      <td>0</td>\n",
       "      <td>0</td>\n",
       "      <td>3.0</td>\n",
       "      <td>0</td>\n",
       "      <td>paid</td>\n",
       "      <td>25.50</td>\n",
       "      <td>91.05</td>\n",
       "      <td>0.015061</td>\n",
       "    </tr>\n",
       "    <tr>\n",
       "      <th>645</th>\n",
       "      <td>646</td>\n",
       "      <td>0</td>\n",
       "      <td>2022-02-09</td>\n",
       "      <td>226.50</td>\n",
       "      <td>paid</td>\n",
       "      <td>8</td>\n",
       "      <td>0</td>\n",
       "      <td>0</td>\n",
       "      <td>1.0</td>\n",
       "      <td>0</td>\n",
       "      <td>paid</td>\n",
       "      <td>10.50</td>\n",
       "      <td>317.55</td>\n",
       "      <td>0.052529</td>\n",
       "    </tr>\n",
       "    <tr>\n",
       "      <th>...</th>\n",
       "      <td>...</td>\n",
       "      <td>...</td>\n",
       "      <td>...</td>\n",
       "      <td>...</td>\n",
       "      <td>...</td>\n",
       "      <td>...</td>\n",
       "      <td>...</td>\n",
       "      <td>...</td>\n",
       "      <td>...</td>\n",
       "      <td>...</td>\n",
       "      <td>...</td>\n",
       "      <td>...</td>\n",
       "      <td>...</td>\n",
       "      <td>...</td>\n",
       "    </tr>\n",
       "    <tr>\n",
       "      <th>171446</th>\n",
       "      <td>171447</td>\n",
       "      <td>6745</td>\n",
       "      <td>2022-12-14</td>\n",
       "      <td>6.00</td>\n",
       "      <td>paid</td>\n",
       "      <td>72</td>\n",
       "      <td>0</td>\n",
       "      <td>0</td>\n",
       "      <td>1.0</td>\n",
       "      <td>0</td>\n",
       "      <td>paid</td>\n",
       "      <td>36.00</td>\n",
       "      <td>6387.14</td>\n",
       "      <td>1.056550</td>\n",
       "    </tr>\n",
       "    <tr>\n",
       "      <th>171543</th>\n",
       "      <td>171544</td>\n",
       "      <td>6745</td>\n",
       "      <td>2022-12-15</td>\n",
       "      <td>93.00</td>\n",
       "      <td>paid</td>\n",
       "      <td>73</td>\n",
       "      <td>0</td>\n",
       "      <td>0</td>\n",
       "      <td>1.0</td>\n",
       "      <td>0</td>\n",
       "      <td>paid</td>\n",
       "      <td>6.00</td>\n",
       "      <td>6480.14</td>\n",
       "      <td>1.071934</td>\n",
       "    </tr>\n",
       "    <tr>\n",
       "      <th>171881</th>\n",
       "      <td>171882</td>\n",
       "      <td>6745</td>\n",
       "      <td>2022-12-20</td>\n",
       "      <td>126.74</td>\n",
       "      <td>paid</td>\n",
       "      <td>78</td>\n",
       "      <td>0</td>\n",
       "      <td>0</td>\n",
       "      <td>5.0</td>\n",
       "      <td>0</td>\n",
       "      <td>paid</td>\n",
       "      <td>93.00</td>\n",
       "      <td>6606.88</td>\n",
       "      <td>1.092899</td>\n",
       "    </tr>\n",
       "    <tr>\n",
       "      <th>171963</th>\n",
       "      <td>171964</td>\n",
       "      <td>6745</td>\n",
       "      <td>2022-12-21</td>\n",
       "      <td>203.37</td>\n",
       "      <td>paid</td>\n",
       "      <td>79</td>\n",
       "      <td>0</td>\n",
       "      <td>0</td>\n",
       "      <td>1.0</td>\n",
       "      <td>0</td>\n",
       "      <td>paid</td>\n",
       "      <td>126.74</td>\n",
       "      <td>6810.25</td>\n",
       "      <td>1.126540</td>\n",
       "    </tr>\n",
       "    <tr>\n",
       "      <th>172000</th>\n",
       "      <td>172001</td>\n",
       "      <td>6745</td>\n",
       "      <td>2022-12-21</td>\n",
       "      <td>0.53</td>\n",
       "      <td>paid</td>\n",
       "      <td>79</td>\n",
       "      <td>0</td>\n",
       "      <td>0</td>\n",
       "      <td>0.0</td>\n",
       "      <td>0</td>\n",
       "      <td>paid</td>\n",
       "      <td>203.37</td>\n",
       "      <td>6810.78</td>\n",
       "      <td>1.126628</td>\n",
       "    </tr>\n",
       "  </tbody>\n",
       "</table>\n",
       "<p>172445 rows × 14 columns</p>\n",
       "</div>"
      ],
      "text/plain": [
       "        repayment_id  loan_id created_at  repayment_amount status_cleaned  \\\n",
       "50                51        0 2022-02-03              9.75           paid   \n",
       "112              113        0 2022-02-04             45.30           paid   \n",
       "216              217        0 2022-02-05             25.50           paid   \n",
       "496              497        0 2022-02-08             10.50           paid   \n",
       "645              646        0 2022-02-09            226.50           paid   \n",
       "...              ...      ...        ...               ...            ...   \n",
       "171446        171447     6745 2022-12-14              6.00           paid   \n",
       "171543        171544     6745 2022-12-15             93.00           paid   \n",
       "171881        171882     6745 2022-12-20            126.74           paid   \n",
       "171963        171964     6745 2022-12-21            203.37           paid   \n",
       "172000        172001     6745 2022-12-21              0.53           paid   \n",
       "\n",
       "        days_since_loan_created  days_since_due_date  due_date_exceeded  \\\n",
       "50                            2                    0                  0   \n",
       "112                           3                    0                  0   \n",
       "216                           4                    0                  0   \n",
       "496                           7                    0                  0   \n",
       "645                           8                    0                  0   \n",
       "...                         ...                  ...                ...   \n",
       "171446                       72                    0                  0   \n",
       "171543                       73                    0                  0   \n",
       "171881                       78                    0                  0   \n",
       "171963                       79                    0                  0   \n",
       "172000                       79                    0                  0   \n",
       "\n",
       "        days_lag_repayment  num_late_repayments prev_status  prev_amount  \\\n",
       "50                     2.0                    0        init         0.00   \n",
       "112                    1.0                    0        paid         9.75   \n",
       "216                    1.0                    0        paid        45.30   \n",
       "496                    3.0                    0        paid        25.50   \n",
       "645                    1.0                    0        paid        10.50   \n",
       "...                    ...                  ...         ...          ...   \n",
       "171446                 1.0                    0        paid        36.00   \n",
       "171543                 1.0                    0        paid         6.00   \n",
       "171881                 5.0                    0        paid        93.00   \n",
       "171963                 1.0                    0        paid       126.74   \n",
       "172000                 0.0                    0        paid       203.37   \n",
       "\n",
       "        cumsum_amount  ratio_repaid_total  \n",
       "50               9.75            0.001613  \n",
       "112             55.05            0.009106  \n",
       "216             80.55            0.013324  \n",
       "496             91.05            0.015061  \n",
       "645            317.55            0.052529  \n",
       "...               ...                 ...  \n",
       "171446        6387.14            1.056550  \n",
       "171543        6480.14            1.071934  \n",
       "171881        6606.88            1.092899  \n",
       "171963        6810.25            1.126540  \n",
       "172000        6810.78            1.126628  \n",
       "\n",
       "[172445 rows x 14 columns]"
      ]
     },
     "execution_count": 5,
     "metadata": {},
     "output_type": "execute_result"
    }
   ],
   "source": [
    "df_loan_repayments = pd.read_pickle(\"../data/processed/df_loan_repayments.pkl\")\n",
    "\n",
    "df_loan_repayments = df_loan_repayments[[\"id\", \"loan_id\", \"created_at\", \"amount\", \"status_cleaned\", \"days_since_loan_created\", \n",
    "                                         \"days_since_due_date\", \"due_date_exceeded\", \"days_lag_repayment\", \"num_late_repayments\", \n",
    "                                         'prev_status', \"prev_amount\", \"cumsum_amount\", \"ratio_repaid_total\"]]\n",
    "df_loan_repayments = df_loan_repayments.rename(columns={\"id\": \"repayment_id\", \"amount\": \"repayment_amount\"})\n",
    "\n",
    "df_loan_repayments"
   ]
  },
  {
   "cell_type": "code",
   "execution_count": 6,
   "id": "cd53a18b-8529-42e8-b0d9-276a8d175c2e",
   "metadata": {},
   "outputs": [
    {
     "data": {
      "text/html": [
       "<div>\n",
       "<style scoped>\n",
       "    .dataframe tbody tr th:only-of-type {\n",
       "        vertical-align: middle;\n",
       "    }\n",
       "\n",
       "    .dataframe tbody tr th {\n",
       "        vertical-align: top;\n",
       "    }\n",
       "\n",
       "    .dataframe thead th {\n",
       "        text-align: right;\n",
       "    }\n",
       "</style>\n",
       "<table border=\"1\" class=\"dataframe\">\n",
       "  <thead>\n",
       "    <tr style=\"text-align: right;\">\n",
       "      <th></th>\n",
       "      <th>user_id</th>\n",
       "      <th>median_spending</th>\n",
       "      <th>avg_intallments</th>\n",
       "      <th>rate_denied</th>\n",
       "      <th>rate_transactions_installment</th>\n",
       "      <th>rate_credit_debit</th>\n",
       "      <th>ratio_online_person</th>\n",
       "    </tr>\n",
       "  </thead>\n",
       "  <tbody>\n",
       "    <tr>\n",
       "      <th>0</th>\n",
       "      <td>1</td>\n",
       "      <td>270.0</td>\n",
       "      <td>4.500000</td>\n",
       "      <td>0.300000</td>\n",
       "      <td>0.700000</td>\n",
       "      <td>4.500000</td>\n",
       "      <td>0.000000</td>\n",
       "    </tr>\n",
       "    <tr>\n",
       "      <th>1</th>\n",
       "      <td>2</td>\n",
       "      <td>1130.0</td>\n",
       "      <td>8.257143</td>\n",
       "      <td>0.057143</td>\n",
       "      <td>0.971429</td>\n",
       "      <td>17.000000</td>\n",
       "      <td>0.000000</td>\n",
       "    </tr>\n",
       "    <tr>\n",
       "      <th>2</th>\n",
       "      <td>3</td>\n",
       "      <td>1000.0</td>\n",
       "      <td>5.551282</td>\n",
       "      <td>0.115385</td>\n",
       "      <td>1.000000</td>\n",
       "      <td>78.000000</td>\n",
       "      <td>0.012821</td>\n",
       "    </tr>\n",
       "    <tr>\n",
       "      <th>3</th>\n",
       "      <td>4</td>\n",
       "      <td>307.5</td>\n",
       "      <td>2.646853</td>\n",
       "      <td>0.090909</td>\n",
       "      <td>0.419580</td>\n",
       "      <td>1.657407</td>\n",
       "      <td>0.003497</td>\n",
       "    </tr>\n",
       "    <tr>\n",
       "      <th>4</th>\n",
       "      <td>5</td>\n",
       "      <td>172.0</td>\n",
       "      <td>1.952081</td>\n",
       "      <td>0.083228</td>\n",
       "      <td>0.480454</td>\n",
       "      <td>131.333333</td>\n",
       "      <td>0.000000</td>\n",
       "    </tr>\n",
       "    <tr>\n",
       "      <th>...</th>\n",
       "      <td>...</td>\n",
       "      <td>...</td>\n",
       "      <td>...</td>\n",
       "      <td>...</td>\n",
       "      <td>...</td>\n",
       "      <td>...</td>\n",
       "      <td>...</td>\n",
       "    </tr>\n",
       "    <tr>\n",
       "      <th>3043</th>\n",
       "      <td>3149</td>\n",
       "      <td>240.0</td>\n",
       "      <td>1.935065</td>\n",
       "      <td>0.069264</td>\n",
       "      <td>0.333333</td>\n",
       "      <td>2.052632</td>\n",
       "      <td>0.004329</td>\n",
       "    </tr>\n",
       "    <tr>\n",
       "      <th>3044</th>\n",
       "      <td>3150</td>\n",
       "      <td>105.0</td>\n",
       "      <td>1.618375</td>\n",
       "      <td>0.174323</td>\n",
       "      <td>0.398115</td>\n",
       "      <td>2.586498</td>\n",
       "      <td>0.289833</td>\n",
       "    </tr>\n",
       "    <tr>\n",
       "      <th>3045</th>\n",
       "      <td>3151</td>\n",
       "      <td>207.0</td>\n",
       "      <td>2.687225</td>\n",
       "      <td>0.092511</td>\n",
       "      <td>0.568282</td>\n",
       "      <td>2.257143</td>\n",
       "      <td>0.017857</td>\n",
       "    </tr>\n",
       "    <tr>\n",
       "      <th>3046</th>\n",
       "      <td>3152</td>\n",
       "      <td>240.1</td>\n",
       "      <td>3.213775</td>\n",
       "      <td>0.135063</td>\n",
       "      <td>0.952594</td>\n",
       "      <td>61.166667</td>\n",
       "      <td>0.028493</td>\n",
       "    </tr>\n",
       "    <tr>\n",
       "      <th>3047</th>\n",
       "      <td>3153</td>\n",
       "      <td>540.0</td>\n",
       "      <td>4.815668</td>\n",
       "      <td>0.278802</td>\n",
       "      <td>0.647465</td>\n",
       "      <td>3.780220</td>\n",
       "      <td>0.013986</td>\n",
       "    </tr>\n",
       "  </tbody>\n",
       "</table>\n",
       "<p>3048 rows × 7 columns</p>\n",
       "</div>"
      ],
      "text/plain": [
       "      user_id  median_spending  avg_intallments  rate_denied  \\\n",
       "0           1            270.0         4.500000     0.300000   \n",
       "1           2           1130.0         8.257143     0.057143   \n",
       "2           3           1000.0         5.551282     0.115385   \n",
       "3           4            307.5         2.646853     0.090909   \n",
       "4           5            172.0         1.952081     0.083228   \n",
       "...       ...              ...              ...          ...   \n",
       "3043     3149            240.0         1.935065     0.069264   \n",
       "3044     3150            105.0         1.618375     0.174323   \n",
       "3045     3151            207.0         2.687225     0.092511   \n",
       "3046     3152            240.1         3.213775     0.135063   \n",
       "3047     3153            540.0         4.815668     0.278802   \n",
       "\n",
       "      rate_transactions_installment  rate_credit_debit  ratio_online_person  \n",
       "0                          0.700000           4.500000             0.000000  \n",
       "1                          0.971429          17.000000             0.000000  \n",
       "2                          1.000000          78.000000             0.012821  \n",
       "3                          0.419580           1.657407             0.003497  \n",
       "4                          0.480454         131.333333             0.000000  \n",
       "...                             ...                ...                  ...  \n",
       "3043                       0.333333           2.052632             0.004329  \n",
       "3044                       0.398115           2.586498             0.289833  \n",
       "3045                       0.568282           2.257143             0.017857  \n",
       "3046                       0.952594          61.166667             0.028493  \n",
       "3047                       0.647465           3.780220             0.013986  \n",
       "\n",
       "[3048 rows x 7 columns]"
      ]
     },
     "execution_count": 6,
     "metadata": {},
     "output_type": "execute_result"
    }
   ],
   "source": [
    "df_users = pd.read_pickle(\"../data/processed/df_users.pkl\")\n",
    "\n",
    "df_users = df_users[[\"user_id\", \"median_spending\", \"avg_intallments\", \"rate_denied\", \n",
    "                     \"rate_transactions_installment\", \"rate_credit_debit\", \"ratio_online_person\"]]\n",
    "df_users[\"rate_transactions_installment\"] = df_users[\"rate_transactions_installment\"].astype(float)\n",
    "\n",
    "df_users"
   ]
  },
  {
   "cell_type": "code",
   "execution_count": 7,
   "id": "78dfba91-357c-4b3e-a876-9658099dfe5b",
   "metadata": {},
   "outputs": [
    {
     "data": {
      "text/html": [
       "<div>\n",
       "<style scoped>\n",
       "    .dataframe tbody tr th:only-of-type {\n",
       "        vertical-align: middle;\n",
       "    }\n",
       "\n",
       "    .dataframe tbody tr th {\n",
       "        vertical-align: top;\n",
       "    }\n",
       "\n",
       "    .dataframe thead th {\n",
       "        text-align: right;\n",
       "    }\n",
       "</style>\n",
       "<table border=\"1\" class=\"dataframe\">\n",
       "  <thead>\n",
       "    <tr style=\"text-align: right;\">\n",
       "      <th></th>\n",
       "      <th>user_id</th>\n",
       "      <th>rfm_segment_desc</th>\n",
       "    </tr>\n",
       "  </thead>\n",
       "  <tbody>\n",
       "    <tr>\n",
       "      <th>0</th>\n",
       "      <td>1</td>\n",
       "      <td>Inactive</td>\n",
       "    </tr>\n",
       "    <tr>\n",
       "      <th>1</th>\n",
       "      <td>2</td>\n",
       "      <td>Inactive</td>\n",
       "    </tr>\n",
       "    <tr>\n",
       "      <th>2</th>\n",
       "      <td>3</td>\n",
       "      <td>Inactive</td>\n",
       "    </tr>\n",
       "    <tr>\n",
       "      <th>3</th>\n",
       "      <td>4</td>\n",
       "      <td>Promising</td>\n",
       "    </tr>\n",
       "    <tr>\n",
       "      <th>4</th>\n",
       "      <td>5</td>\n",
       "      <td>Promising</td>\n",
       "    </tr>\n",
       "    <tr>\n",
       "      <th>...</th>\n",
       "      <td>...</td>\n",
       "      <td>...</td>\n",
       "    </tr>\n",
       "    <tr>\n",
       "      <th>3043</th>\n",
       "      <td>3149</td>\n",
       "      <td>Inactive</td>\n",
       "    </tr>\n",
       "    <tr>\n",
       "      <th>3044</th>\n",
       "      <td>3150</td>\n",
       "      <td>Champions</td>\n",
       "    </tr>\n",
       "    <tr>\n",
       "      <th>3045</th>\n",
       "      <td>3151</td>\n",
       "      <td>Inactive</td>\n",
       "    </tr>\n",
       "    <tr>\n",
       "      <th>3046</th>\n",
       "      <td>3152</td>\n",
       "      <td>Promising</td>\n",
       "    </tr>\n",
       "    <tr>\n",
       "      <th>3047</th>\n",
       "      <td>3153</td>\n",
       "      <td>Promising</td>\n",
       "    </tr>\n",
       "  </tbody>\n",
       "</table>\n",
       "<p>3048 rows × 2 columns</p>\n",
       "</div>"
      ],
      "text/plain": [
       "      user_id rfm_segment_desc\n",
       "0           1         Inactive\n",
       "1           2         Inactive\n",
       "2           3         Inactive\n",
       "3           4        Promising\n",
       "4           5        Promising\n",
       "...       ...              ...\n",
       "3043     3149         Inactive\n",
       "3044     3150        Champions\n",
       "3045     3151         Inactive\n",
       "3046     3152        Promising\n",
       "3047     3153        Promising\n",
       "\n",
       "[3048 rows x 2 columns]"
      ]
     },
     "execution_count": 7,
     "metadata": {},
     "output_type": "execute_result"
    }
   ],
   "source": [
    "df_users_segments = pd.read_pickle(\"../data/processed/df_users_segments.pkl\")\n",
    "\n",
    "df_users_segments"
   ]
  },
  {
   "cell_type": "markdown",
   "id": "bb47696a-3508-4023-a501-fa5919c5106e",
   "metadata": {
    "jp-MarkdownHeadingCollapsed": true
   },
   "source": [
    "# Sample and Feature Preparation\n",
    "\n",
    "- Missing Data\n",
    "- One-Hot Encoding\n",
    "- Output Encoding"
   ]
  },
  {
   "cell_type": "code",
   "execution_count": 8,
   "id": "5a07bc05-04d1-4dfe-a08e-5c8a10840eed",
   "metadata": {},
   "outputs": [],
   "source": [
    "# merge tables\n",
    "df_users = df_users.merge(df_users_segments, how=\"left\", on=\"user_id\")\n",
    "df_loans_users = df_loans.merge(df_users, how=\"left\", on=\"user_id\").rename(columns={\"id\": \"loan_id\"})\n",
    "df_data = df_loan_repayments.merge(df_loans_users, how=\"left\", on=\"loan_id\")"
   ]
  },
  {
   "cell_type": "code",
   "execution_count": 9,
   "id": "2109a69d-de15-4be4-8afd-ea3d22f370a9",
   "metadata": {},
   "outputs": [],
   "source": [
    "# sort by loan_id and repayment date (ascending)\n",
    "df_data = df_data.sort_values(by=[\"loan_id\", \"created_at\"])"
   ]
  },
  {
   "cell_type": "code",
   "execution_count": 10,
   "id": "c115d39d-31df-4258-ae48-213f3a07da01",
   "metadata": {},
   "outputs": [],
   "source": [
    "df_data = df_data.drop(columns=[\"created_at\", \"user_id\"]) "
   ]
  },
  {
   "cell_type": "markdown",
   "id": "bbf2d637-02d9-4ab3-876b-7441df23f85f",
   "metadata": {
    "jp-MarkdownHeadingCollapsed": true
   },
   "source": [
    "## Missing Data\n",
    "\n",
    "TODO: new users"
   ]
  },
  {
   "cell_type": "code",
   "execution_count": 11,
   "id": "7793ab0e-d229-4607-97a5-c5c110e666c9",
   "metadata": {},
   "outputs": [],
   "source": [
    "df_data.loc[df_data[\"rfm_segment_desc\"].isna(), \"rfm_segment_desc\"] = \"Recent\"\n",
    "\n",
    "# input missing values for user-related features by taking values \n",
    "# (median here) that are related to Recent customers' behavior\n",
    "df_data.loc[df_data[\"ratio_online_person\"].isna(), \"ratio_online_person\"] = df_data[df_data[\"rfm_segment_desc\"] == \"Recent\"][\"ratio_online_person\"].median()\n",
    "df_data.loc[df_data[\"rate_credit_debit\"].isna(), \"rate_credit_debit\"] = df_data[df_data[\"rfm_segment_desc\"] == \"Recent\"][\"rate_credit_debit\"].median()\n",
    "df_data.loc[df_data[\"rate_transactions_installment\"].isna(), \"rate_transactions_installment\"] = df_data[df_data[\"rfm_segment_desc\"] == \"Recent\"][\"rate_transactions_installment\"].median()\n",
    "df_data.loc[df_data[\"rate_denied\"].isna(), \"rate_denied\"] = df_data[df_data[\"rfm_segment_desc\"] == \"Recent\"][\"rate_denied\"].median()\n",
    "df_data.loc[df_data[\"avg_intallments\"].isna(), \"avg_intallments\"] = df_data[df_data[\"rfm_segment_desc\"] == \"Recent\"][\"avg_intallments\"].median()\n",
    "df_data.loc[df_data[\"median_spending\"].isna(), \"median_spending\"] = df_data[df_data[\"rfm_segment_desc\"] == \"Recent\"][\"median_spending\"].median()"
   ]
  },
  {
   "cell_type": "markdown",
   "id": "d5a07cbd-c62e-4d56-bdb0-c7764fe13992",
   "metadata": {
    "jp-MarkdownHeadingCollapsed": true
   },
   "source": [
    "## One-Hot Encoding"
   ]
  },
  {
   "cell_type": "code",
   "execution_count": 12,
   "id": "3de471d4-3e33-455b-aea8-ac32851ec0cb",
   "metadata": {},
   "outputs": [],
   "source": [
    "df_data = pd.concat([df_data, pd.get_dummies(df_data[\"prev_status\"], prefix='prev_status')], axis=1)\n",
    "df_data = df_data.drop(['prev_status'], axis=1)"
   ]
  },
  {
   "cell_type": "code",
   "execution_count": 13,
   "id": "1c0f179a-bf24-445b-ab3c-5509b51abac0",
   "metadata": {},
   "outputs": [],
   "source": [
    "df_data = pd.concat([df_data, pd.get_dummies(df_data[\"amount_bin\"], prefix='amount_bin')], axis=1)\n",
    "df_data = df_data.drop(['amount_bin'], axis=1)"
   ]
  },
  {
   "cell_type": "code",
   "execution_count": 14,
   "id": "5b2bb79a-ae09-49e0-97e6-9dc99c0577ef",
   "metadata": {},
   "outputs": [
    {
     "data": {
      "text/plain": [
       "array(['paid', 'defaulted'], dtype=object)"
      ]
     },
     "execution_count": 14,
     "metadata": {},
     "output_type": "execute_result"
    }
   ],
   "source": [
    "df_data.status_cleaned.unique()"
   ]
  },
  {
   "cell_type": "code",
   "execution_count": 15,
   "id": "4761df75-1708-44d1-b5d6-c935c59a93e5",
   "metadata": {},
   "outputs": [],
   "source": [
    "df_data = pd.concat([df_data, pd.get_dummies(df_data[\"interest_rate_bin\"], prefix='interest_rate_bin')], axis=1)\n",
    "df_data = df_data.drop(['interest_rate_bin'], axis=1)"
   ]
  },
  {
   "cell_type": "code",
   "execution_count": 16,
   "id": "f06fd830-87d4-4374-8fdb-8168f327f967",
   "metadata": {},
   "outputs": [],
   "source": [
    "df_data = pd.concat([df_data, pd.get_dummies(df_data[\"rfm_segment_desc\"], prefix='rfm_segment')], axis=1)\n",
    "df_data = df_data.drop(['rfm_segment_desc'], axis=1)"
   ]
  },
  {
   "cell_type": "markdown",
   "id": "53195847-f951-4af8-9295-069987649e52",
   "metadata": {
    "jp-MarkdownHeadingCollapsed": true
   },
   "source": [
    "## Output Encoding"
   ]
  },
  {
   "cell_type": "code",
   "execution_count": 17,
   "id": "0ec02ea8-5c6d-47fa-b118-32f3641c3b2c",
   "metadata": {},
   "outputs": [],
   "source": [
    "mapping = {\n",
    "    \"defaulted\": 1,\n",
    "    \"paid\": 0,\n",
    "}\n",
    "df_data[\"status_cleaned\"] = df_data[\"status_cleaned\"].replace(mapping)"
   ]
  },
  {
   "cell_type": "markdown",
   "id": "141f3f27-4807-4ceb-92fc-e25ff973b6d6",
   "metadata": {
    "jp-MarkdownHeadingCollapsed": true
   },
   "source": [
    "# Train-Test Split\n",
    "\n",
    "TODO: explain + print"
   ]
  },
  {
   "cell_type": "code",
   "execution_count": 18,
   "id": "41f2ba39-af70-4d89-b2e0-c307f3985d94",
   "metadata": {},
   "outputs": [],
   "source": [
    "def custom_train_test_split(data, primary_key, output_key, split_key, test_size, random_state):\n",
    "    \"\"\"\n",
    "\n",
    "    Args:\n",
    "    \n",
    "    Returns:\n",
    "    \n",
    "    \"\"\"\n",
    "    train_ids, test_ids = train_test_split(list(set(data[split_key])), test_size=test_size, random_state=random_state)\n",
    "\n",
    "    train, test = df_data[df_data[split_key].isin(train_ids)], df_data[df_data[split_key].isin(test_ids)]\n",
    "\n",
    "    X_train, y_train = train.loc[:, ~train.columns.isin([primary_key, output_key])], train.loc[:, train.columns == output_key]\n",
    "    X_test, y_test = test.loc[:, ~test.columns.isin([primary_key, output_key])], test.loc[:, test.columns == output_key]\n",
    "\n",
    "    return X_train, y_train, X_test, y_test"
   ]
  },
  {
   "cell_type": "code",
   "execution_count": 19,
   "id": "8793ad78-16d6-4785-b067-ec9cc2d8153e",
   "metadata": {},
   "outputs": [],
   "source": [
    "X_train, y_train, X_test, y_test = custom_train_test_split(\n",
    "    df_data, \n",
    "    primary_key=\"repayment_id\", \n",
    "    output_key=\"status_cleaned\", \n",
    "    split_key=\"loan_id\", \n",
    "    test_size=0.2, \n",
    "    random_state=42\n",
    ")"
   ]
  },
  {
   "cell_type": "code",
   "execution_count": 20,
   "id": "b9342719-db15-4c66-bb12-a1e7ae4c1967",
   "metadata": {},
   "outputs": [
    {
     "name": "stdout",
     "output_type": "stream",
     "text": [
      "Train: number of loans: 5,278\n",
      "Test: number of loans: 1,320\n"
     ]
    }
   ],
   "source": [
    "print(f\"Train: number of loans: {X_train['loan_id'].unique().shape[0]:,}\\nTest: number of loans: {X_test['loan_id'].unique().shape[0]:,}\")"
   ]
  },
  {
   "cell_type": "code",
   "execution_count": 21,
   "id": "a546df10-755e-4f61-b7a0-073745889ff1",
   "metadata": {},
   "outputs": [
    {
     "name": "stdout",
     "output_type": "stream",
     "text": [
      "Train: number of loan repayments: 138,204\n",
      "Test: number of loan repayments: 34,241\n"
     ]
    }
   ],
   "source": [
    "print(f\"Train: number of loan repayments: {X_train.shape[0]:,}\\nTest: number of loan repayments: {X_test.shape[0]:,}\")"
   ]
  },
  {
   "cell_type": "code",
   "execution_count": 22,
   "id": "5e29d994-1b35-44eb-858b-90fb9dc1b4dc",
   "metadata": {},
   "outputs": [
    {
     "name": "stdout",
     "output_type": "stream",
     "text": [
      "Train:\n",
      "\tnumber of paid repayments: 131,220\n",
      "\tnumber of defaulted repayments: 6,984\n",
      "Test:\n",
      "\tnumber of paid repayments: 32,485\n",
      "\tnumber of defaulted repayments: 1,756\n"
     ]
    }
   ],
   "source": [
    "paid, defaulted = y_train[y_train[\"status_cleaned\"] == 0].shape[0], y_train[y_train[\"status_cleaned\"] == 1].shape[0]\n",
    "print(f\"Train:\\n\\tnumber of paid repayments: {paid:,}\\n\\tnumber of defaulted repayments: {defaulted:,}\")\n",
    "\n",
    "paid, defaulted = y_test[y_test[\"status_cleaned\"] == 0].shape[0], y_test[y_test[\"status_cleaned\"] == 1].shape[0]\n",
    "print(f\"Test:\\n\\tnumber of paid repayments: {paid:,}\\n\\tnumber of defaulted repayments: {defaulted:,}\")"
   ]
  },
  {
   "cell_type": "code",
   "execution_count": 23,
   "id": "8d001ebf-82d9-4824-ad91-bf170be03145",
   "metadata": {},
   "outputs": [],
   "source": [
    "X_train, y_train = X_train.reset_index(drop=True), y_train.reset_index(drop=True)\n",
    "X_test, y_test = X_test.reset_index(drop=True), y_test.reset_index(drop=True)"
   ]
  },
  {
   "cell_type": "markdown",
   "id": "4d36255f-2f5d-4357-b8c1-b6374c4100ff",
   "metadata": {
    "jp-MarkdownHeadingCollapsed": true
   },
   "source": [
    "# Utils\n",
    "\n",
    "TODO: talk about cv and why (add comments)"
   ]
  },
  {
   "cell_type": "code",
   "execution_count": 24,
   "id": "a4ec9800-1d08-4311-85f9-d4d3e6edf4ae",
   "metadata": {},
   "outputs": [],
   "source": [
    "def corrected_std(differences, n_train, n_test):\n",
    "    \"\"\" Corrects standard deviation using Nadeau and Bengio's approach.\n",
    "\n",
    "    Parameters:\n",
    "        differences:\n",
    "            Vector containing the differences in the score metrics of two models.\n",
    "        n_train:\n",
    "            Number of samples in the training set.\n",
    "        n_test:\n",
    "            Number of samples in the testing set.\n",
    "\n",
    "    Returns:\n",
    "        corrected_std:\n",
    "            Variance-corrected standard deviation of the set of differences.\n",
    "    \"\"\"\n",
    "    kr = len(differences)  # number of times the model was evaluated\n",
    "    corrected_var = np.var(differences, ddof=1) * (1 / kr + n_test / n_train)\n",
    "    corrected_std = np.sqrt(corrected_var)\n",
    "    return corrected_std"
   ]
  },
  {
   "cell_type": "code",
   "execution_count": 25,
   "id": "81345d48-3b98-4919-b894-2772028705b2",
   "metadata": {},
   "outputs": [],
   "source": [
    "def compute_corrected_ttest(differences, df, n_train, n_test):\n",
    "    \"\"\" Computes right-tailed paired t-test with corrected variance.\n",
    "\n",
    "    Parameters:\n",
    "        differences:\n",
    "            Vector containing the differences in the score metrics of two models.\n",
    "        df:\n",
    "            Degrees of freedom.\n",
    "        n_train:\n",
    "            Number of samples in the training set.\n",
    "        n_test:\n",
    "            Number of samples in the testing set.\n",
    "\n",
    "    Returns:\n",
    "        t_stat:\n",
    "            Variance-corrected t-statistic.\n",
    "        p_val:\n",
    "            Variance-corrected p-value.\n",
    "    \"\"\"\n",
    "    mean = np.mean(differences)\n",
    "    std = corrected_std(differences, n_train, n_test)\n",
    "    t_stat = mean / std\n",
    "    p_val = t.sf(np.abs(t_stat), df)  # right-tailed t-test\n",
    "    return t_stat, p_val"
   ]
  },
  {
   "cell_type": "code",
   "execution_count": 26,
   "id": "9b7bcba1-ca0e-425f-88a7-751b049e213f",
   "metadata": {},
   "outputs": [],
   "source": [
    "def k_fold(X, primary_key, folds):\n",
    "    \"\"\"\n",
    "    \n",
    "    Args:\n",
    "    \n",
    "    Returns:\n",
    "    \n",
    "    \"\"\"\n",
    "    ids = list(set(X[primary_key]))\n",
    "    random.shuffle(ids)\n",
    "\n",
    "    fold_ids = np.array_split(ids, folds)\n",
    "\n",
    "    cv = []\n",
    "    for fold in range(folds):\n",
    "        train_ids = fold_ids[fold].tolist()\n",
    "        test_ids = []\n",
    "        for i in range(folds):\n",
    "            if i != fold:\n",
    "                test_ids.extend(fold_ids[i].tolist())\n",
    "                \n",
    "        train_indexes = X_train[X_train[\"loan_id\"].isin(train_ids)].index.values\n",
    "        test_indexes = X_train[X_train[\"loan_id\"].isin(test_ids)].index.values\n",
    "        cv.append((train_indexes, test_indexes))\n",
    "        \n",
    "    return cv"
   ]
  },
  {
   "cell_type": "code",
   "execution_count": 27,
   "id": "68422e14-d054-40ce-a2a6-cd475c50ff9a",
   "metadata": {},
   "outputs": [],
   "source": [
    "folds = 10\n",
    "\n",
    "cv = k_fold(X_train, primary_key=\"loan_id\", folds=10)"
   ]
  },
  {
   "cell_type": "code",
   "execution_count": 28,
   "id": "bc3777bd-746c-4ce0-9845-3bf976d3a86d",
   "metadata": {},
   "outputs": [],
   "source": [
    "X_train_aux, X_test_aux = X_train.drop(columns=[\"loan_id\"]), X_test.drop(columns=[\"loan_id\"])"
   ]
  },
  {
   "cell_type": "markdown",
   "id": "cc57962f-91fb-4610-9c94-d4a92a07d309",
   "metadata": {},
   "source": [
    "# Model Selection"
   ]
  },
  {
   "cell_type": "code",
   "execution_count": 29,
   "id": "dbd35b05-bdae-4e57-bec3-882c7fc81c41",
   "metadata": {},
   "outputs": [],
   "source": [
    "labels = [\"paid\", \"defaulted\"]"
   ]
  },
  {
   "cell_type": "markdown",
   "id": "0877c04c-5b92-4591-9a72-8c7f84cfd781",
   "metadata": {},
   "source": [
    "## Random Forest"
   ]
  },
  {
   "cell_type": "markdown",
   "id": "9c3479d5-c666-43d7-9653-4b1263a3e226",
   "metadata": {},
   "source": [
    "### Hyperparameter Tuning"
   ]
  },
  {
   "cell_type": "code",
   "execution_count": 46,
   "id": "9185ef0d-411c-4a91-b342-b82060bc55d9",
   "metadata": {},
   "outputs": [],
   "source": [
    "pipe = Pipeline([\n",
    "    ('clf', RandomForestClassifier(random_state=42))\n",
    "])\n",
    "\n",
    "# hyperparameter space\n",
    "parameters = {\n",
    "    'clf__n_estimators': list(range(50, 550, 50)),\n",
    "    'clf__max_depth': list(range(5, 55, 5)) + [None],\n",
    "    'clf__class_weight': [\"balanced\", \"balanced_subsample\"]\n",
    "}"
   ]
  },
  {
   "cell_type": "code",
   "execution_count": null,
   "id": "fbf9303a-fa88-407b-a6f9-b4656bc8f2db",
   "metadata": {
    "scrolled": true
   },
   "outputs": [],
   "source": [
    "# hyperparameter tuning\n",
    "search = RandomizedSearchCV(pipe,\n",
    "                            parameters,\n",
    "                            n_iter=60,\n",
    "                            scoring=[\"f1_weighted\", \"precision_weighted\", \"recall_weighted\"],\n",
    "                            refit=\"f1_weighted\",\n",
    "                            cv=cv,\n",
    "                            return_train_score=True,\n",
    "                            random_state=42,\n",
    "                            verbose=10)\n",
    "\n",
    "search.fit(X_train, np.ravel(y_train))\n"
   ]
  },
  {
   "cell_type": "code",
   "execution_count": null,
   "id": "0a1fd032-9349-4398-936b-7b8247dae202",
   "metadata": {},
   "outputs": [],
   "source": [
    "print(f'Best search train weighted F1-score: {search.cv_results_[\"mean_train_f1_weighted\"][search.best_index_]:,.2f}')\n",
    "print(f'Best search eval weighted F1-score: {search.cv_results_[\"mean_test_f1_weighted\"][search.best_index_]:,.2f}\\n')\n",
    "\n",
    "print(f'Best search train weighted Precision: {search.cv_results_[\"mean_train_precision_weighted\"][search.best_index_]:.2f}')\n",
    "print(f'Best search eval weighted Precision: {search.cv_results_[\"mean_test_precision_weighted\"][search.best_index_]:.2f}\\n')\n",
    "\n",
    "print(f'Best search train weighted Recall: {search.cv_results_[\"mean_train_recall_weighted\"][search.best_index_]:.2f}')\n",
    "print(f'Best search eval weighted Recall: {search.cv_results_[\"mean_test_recall_weighted\"][search.best_index_]:.2f}\\n')\n",
    "\n",
    "print(f'Best search parameters:\\n{search.best_params_}')"
   ]
  },
  {
   "cell_type": "markdown",
   "id": "47e2d467-ac8e-46c9-8d1d-55d5cb22fae9",
   "metadata": {},
   "source": [
    "### Correlation Between Models\n",
    "\n",
    "We can observe tha **tthe performance of the models highly depends on the fold**.\n",
    "\n",
    "As a consequence, if we assume independence between samples we will be underestimating the variance computed in our statistical tests, increasing the number of false positive errors (i.e. detecting a significant difference between models when such does not exist)"
   ]
  },
  {
   "cell_type": "code",
   "execution_count": null,
   "id": "553da410-68c9-4cf5-a512-c527687575d3",
   "metadata": {},
   "outputs": [],
   "source": [
    "df_results = pd.DataFrame(search.cv_results_).sort_values(by=[\"rank_test_f1_weighted\"])\n",
    "df_results = df_results.set_index(\n",
    "    df_results[\"params\"].apply(lambda x: \"_\".join(str(val) for val in x.values()))\n",
    ").rename_axis(\"iter\")\n",
    "df_results[[\"params\", \"rank_test_f1_weighted\", \"mean_train_f1_weighted\", \"mean_test_f1_weighted\", \n",
    "            \"rank_test_precision_weighted\", \"mean_train_precision_weighted\", \"mean_test_precision_weighted\", \n",
    "            \"rank_test_recall_weighted\", \"mean_train_recall_weighted\", \"mean_test_recall_weighted\"]].head(3)"
   ]
  },
  {
   "cell_type": "code",
   "execution_count": null,
   "id": "f2e67f75-76c5-4d80-8bef-e9f838e22b7d",
   "metadata": {},
   "outputs": [],
   "source": [
    "# model scores ordered by performance\n",
    "model_f1 = df_results.filter(regex=r\"split\\d*_test_f1_weighted\").iloc[:3]\n",
    "\n",
    "fig, ax = plt.subplots()\n",
    "\n",
    "sns.lineplot(\n",
    "    data=model_f1.transpose(),\n",
    "    dashes=False,\n",
    "    marker=\"o\",\n",
    "    ax=ax,\n",
    ")\n",
    "\n",
    "ax.set_title('Eval weighted F1-score of top 3 models in each fold')\n",
    "ax.set_xlabel(\"cv eval fold\", size=12, labelpad=10)\n",
    "ax.set_ylabel(\"model eval weighted F1-score\", size=12)\n",
    "ax.tick_params(bottom=True, labelbottom=False)\n",
    "plt.legend(title='iter', bbox_to_anchor=(1.05, 1), loc=2, borderaxespad=0.)\n",
    "\n",
    "plt.show()"
   ]
  },
  {
   "cell_type": "code",
   "execution_count": null,
   "id": "ad7092ca-e867-42dd-b49e-f36e54dd8783",
   "metadata": {},
   "outputs": [],
   "source": [
    "# correlation of weighted F1-score across folds\n",
    "print(f\"Correlation of models based on weighted F1-score:\\n\")\n",
    "model_f1.transpose().corr()"
   ]
  },
  {
   "cell_type": "markdown",
   "id": "d28738d7-7451-4591-8f2c-053824607b71",
   "metadata": {},
   "source": [
    "### Pairwise Comparison of Models\n",
    "\n",
    "[Frequentist Approach](https://scikit-learn.org/stable/auto_examples/model_selection/plot_grid_search_stats.html#): Run a paired t-test and compute the p-value.\n",
    "\n",
    "We observe that the models **don't significantly differ** from each other, thus we can select the proposed model from hyperaparameter tuning."
   ]
  },
  {
   "cell_type": "code",
   "execution_count": null,
   "id": "2ff38cfa-2133-4096-be50-c254d7ef0c37",
   "metadata": {},
   "outputs": [],
   "source": [
    "# pairwise comparison of models based on weighted F1-score\n",
    "\n",
    "n_train = len(cv[0][0])\n",
    "n_test = len(cv[0][1])\n",
    "\n",
    "n_comparisons = factorial(len(model_f1)) / (factorial(2) * factorial(len(model_f1) - 2))\n",
    "pairwise_t_test = []\n",
    "\n",
    "for model_i, model_k in combinations(range(len(model_f1)), 2):\n",
    "    model_i_scores = model_f1.iloc[model_i].values\n",
    "    model_k_scores = model_f1.iloc[model_k].values\n",
    "    differences = model_i_scores - model_k_scores\n",
    "    n = differences.shape[0]  # number of test sets\n",
    "    df = n - 1\n",
    "    t_stat, p_val = compute_corrected_ttest(differences, df, n_train, n_test)\n",
    "    p_val *= n_comparisons  # Bonferroni correction\n",
    "    p_val = 1 if p_val > 1 else p_val  # Bonferroni can output p-values higher than 1\n",
    "    pairwise_t_test.append([model_f1.index[model_i], model_f1.index[model_k], t_stat, p_val])\n",
    "\n",
    "pairwise_comp_df = pd.DataFrame(pairwise_t_test, \n",
    "                                columns=[\"model_1\", \"model_2\", \"t_stat\", \"p_val\"]).round(3)\n",
    "pairwise_comp_df"
   ]
  },
  {
   "cell_type": "markdown",
   "id": "f738c05b-d9e3-4f09-b8f9-60b9765a1964",
   "metadata": {},
   "source": [
    "### Final Model Evaluation"
   ]
  },
  {
   "cell_type": "code",
   "execution_count": null,
   "id": "5b2fcc33-f8cc-439d-bd2a-22b1462e0d8a",
   "metadata": {},
   "outputs": [],
   "source": [
    "X_temp, y_temp, X_eval, y_eval = custom_train_test_split(\n",
    "    pd.concat([X_train, y_train], axis=1), \n",
    "    primary_key=\"repayment_id\", \n",
    "    output_key=\"status_cleaned\", \n",
    "    split_key=\"loan_id\", \n",
    "    test_size=0.2, \n",
    "    random_state=42\n",
    ")\n",
    "\n",
    "X_temp, X_eval = X_temp.drop(columns=[\"loan_id\"]), X_eval.drop(columns=[\"loan_id\"])"
   ]
  },
  {
   "cell_type": "code",
   "execution_count": null,
   "id": "b624b4a5-3de1-4cfa-b4cc-78144d384ee2",
   "metadata": {},
   "outputs": [],
   "source": [
    "clf = RandomForestClassifier(\n",
    "    n_estimators=...,\n",
    "    max_depth=...,\n",
    "    class_weight=...,\n",
    "    random_state=42\n",
    ")\n",
    "\n",
    "clf.fit(X_temp, np.ravel(y_temp))"
   ]
  },
  {
   "cell_type": "code",
   "execution_count": null,
   "id": "c3ce43e5-81ac-4e2d-85e0-87c7c51abad1",
   "metadata": {},
   "outputs": [],
   "source": [
    "display = PrecisionRecallDisplay.from_estimator(\n",
    "    clf, \n",
    "    X_eval, \n",
    "    y_eval, \n",
    "    plot_chance_level=True\n",
    ")\n",
    "_ = display.ax_.set_title(\"Precision-Recall curve\")"
   ]
  },
  {
   "cell_type": "code",
   "execution_count": null,
   "id": "780a8111-ae7b-4694-b63d-b83f114f11bf",
   "metadata": {},
   "outputs": [],
   "source": [
    "y_train_pred = clf.predict(X_temp)\n",
    "y_eval_pred = clf.predict(X_eval)"
   ]
  },
  {
   "cell_type": "code",
   "execution_count": null,
   "id": "80bc8a6e-9228-4cb7-801b-c981d23810b2",
   "metadata": {},
   "outputs": [],
   "source": [
    "print(f\"Train:\\n{classification_report(y_temp, y_train_pred, target_names=labels)}\")\n",
    "print(f\"Eval:\\n{classification_report(y_eval, y_eval_pred, target_names=labels)}\")"
   ]
  },
  {
   "cell_type": "code",
   "execution_count": null,
   "id": "e6f5617f-c5f5-4ca4-afb4-7479176d307a",
   "metadata": {},
   "outputs": [],
   "source": [
    "cm = confusion_matrix(y_eval, y_eval_pred)\n",
    "\n",
    "sns.heatmap(cm, annot=True, fmt='g', cmap='Blues', xticklabels=labels, yticklabels=labels)\n",
    "\n",
    "plt.title('Confusion Matrix', fontsize=14)\n",
    "plt.xlabel(\"\\npredicted label\", fontsize=14)\n",
    "plt.ylabel(\"actual label\\n\", fontsize=14)\n",
    "\n",
    "plt.show()"
   ]
  },
  {
   "cell_type": "markdown",
   "id": "e052e351-8414-4324-a1a1-cdd10b39b636",
   "metadata": {
    "jp-MarkdownHeadingCollapsed": true
   },
   "source": [
    "## LightGBM\n",
    "\n",
    "todo: conclusion"
   ]
  },
  {
   "cell_type": "markdown",
   "id": "ecfca7b9-614a-4d59-bbe8-db780226ae9b",
   "metadata": {
    "jp-MarkdownHeadingCollapsed": true
   },
   "source": [
    "### Hyperparameter Tuning\n",
    "\n",
    "---\n",
    "\n",
    "**Best search train weighted F1-score:** 97%\n",
    "\n",
    "**Best search eval weighted F1-score:** 95%\n",
    "\n",
    "---\n",
    "\n",
    "**Best search train weighted Precision:** 97%\n",
    "\n",
    "**Best search eval weighted Precision:** 96%\n",
    "\n",
    "---\n",
    "\n",
    "**Best search train weighted Recall:** 97%\n",
    "\n",
    "**Best search eval weighted Recall:** 96%\n",
    "\n",
    "---\n",
    "\n",
    "**Best search parameters:** n_estimators: 450, max_depth: 50, learning_rate: 0.01, colsample_bytree: 0.8, booster: 'gbdt'"
   ]
  },
  {
   "cell_type": "code",
   "execution_count": 30,
   "id": "35d3c2dc-0f4a-4835-8a71-bec5d2243d14",
   "metadata": {},
   "outputs": [],
   "source": [
    "pipe = Pipeline([\n",
    "    ('clf', LGBMClassifier(random_state=42))\n",
    "])\n",
    "\n",
    "# hyperparameter space\n",
    "parameters = {\n",
    "    'clf__n_estimators': list(range(50, 550, 50)),\n",
    "    'clf__max_depth': list(range(5, 55, 5)),\n",
    "    'clf__colsample_bytree': [.4, .5, .6, .8, 1],\n",
    "    'clf__learning_rate': [1, 1e-1, 1e-2, 1e-3],\n",
    "    'clf__boosting_type': ['gbdt', 'dart']\n",
    "}"
   ]
  },
  {
   "cell_type": "code",
   "execution_count": null,
   "id": "059b0fc2-83df-4c40-ad0a-a65a36e72426",
   "metadata": {
    "scrolled": true
   },
   "outputs": [],
   "source": [
    "# hyperparameter tuning\n",
    "search = RandomizedSearchCV(pipe,\n",
    "                            parameters,\n",
    "                            n_iter=60,\n",
    "                            scoring=[\"f1_weighted\", \"precision_weighted\", \"recall_weighted\"],\n",
    "                            refit=\"f1_weighted\",\n",
    "                            cv=cv,\n",
    "                            return_train_score=True,\n",
    "                            random_state=42,\n",
    "                            verbose=10)\n",
    "\n",
    "search.fit(X_train_aux, np.ravel(y_train))"
   ]
  },
  {
   "cell_type": "code",
   "execution_count": 32,
   "id": "9fcbe034-d131-434f-9780-19ea9dbf9ece",
   "metadata": {},
   "outputs": [
    {
     "name": "stdout",
     "output_type": "stream",
     "text": [
      "Best search train weighted F1-score: 0.97\n",
      "Best search eval weighted F1-score: 0.95\n",
      "\n",
      "Best search train weighted Precision: 0.97\n",
      "Best search eval weighted Precision: 0.96\n",
      "\n",
      "Best search train weighted Recall: 0.97\n",
      "Best search eval weighted Recall: 0.96\n",
      "\n",
      "Best search parameters:\n",
      "{'clf__n_estimators': 450, 'clf__max_depth': 50, 'clf__learning_rate': 0.01, 'clf__colsample_bytree': 0.8, 'clf__boosting_type': 'gbdt'}\n"
     ]
    }
   ],
   "source": [
    "print(f'Best search train weighted F1-score: {search.cv_results_[\"mean_train_f1_weighted\"][search.best_index_]:,.2f}')\n",
    "print(f'Best search eval weighted F1-score: {search.cv_results_[\"mean_test_f1_weighted\"][search.best_index_]:,.2f}\\n')\n",
    "\n",
    "print(f'Best search train weighted Precision: {search.cv_results_[\"mean_train_precision_weighted\"][search.best_index_]:.2f}')\n",
    "print(f'Best search eval weighted Precision: {search.cv_results_[\"mean_test_precision_weighted\"][search.best_index_]:.2f}\\n')\n",
    "\n",
    "print(f'Best search train weighted Recall: {search.cv_results_[\"mean_train_recall_weighted\"][search.best_index_]:.2f}')\n",
    "print(f'Best search eval weighted Recall: {search.cv_results_[\"mean_test_recall_weighted\"][search.best_index_]:.2f}\\n')\n",
    "\n",
    "print(f'Best search parameters:\\n{search.best_params_}')"
   ]
  },
  {
   "cell_type": "markdown",
   "id": "d371b248-8c95-49c4-b7ff-038bac581c54",
   "metadata": {
    "jp-MarkdownHeadingCollapsed": true
   },
   "source": [
    "### Correlation Between Models\n",
    "\n",
    "We can observe tha **tthe performance of the models highly depends on the fold**.\n",
    "\n",
    "As a consequence, if we assume independence between samples we will be underestimating the variance computed in our statistical tests, increasing the number of false positive errors (i.e. detecting a significant difference between models when such does not exist)"
   ]
  },
  {
   "cell_type": "code",
   "execution_count": 33,
   "id": "2fd5a88b-a550-429d-8f72-268bbb09470e",
   "metadata": {},
   "outputs": [
    {
     "data": {
      "text/html": [
       "<div>\n",
       "<style scoped>\n",
       "    .dataframe tbody tr th:only-of-type {\n",
       "        vertical-align: middle;\n",
       "    }\n",
       "\n",
       "    .dataframe tbody tr th {\n",
       "        vertical-align: top;\n",
       "    }\n",
       "\n",
       "    .dataframe thead th {\n",
       "        text-align: right;\n",
       "    }\n",
       "</style>\n",
       "<table border=\"1\" class=\"dataframe\">\n",
       "  <thead>\n",
       "    <tr style=\"text-align: right;\">\n",
       "      <th></th>\n",
       "      <th>params</th>\n",
       "      <th>rank_test_f1_weighted</th>\n",
       "      <th>mean_train_f1_weighted</th>\n",
       "      <th>mean_test_f1_weighted</th>\n",
       "      <th>rank_test_precision_weighted</th>\n",
       "      <th>mean_train_precision_weighted</th>\n",
       "      <th>mean_test_precision_weighted</th>\n",
       "      <th>rank_test_recall_weighted</th>\n",
       "      <th>mean_train_recall_weighted</th>\n",
       "      <th>mean_test_recall_weighted</th>\n",
       "    </tr>\n",
       "    <tr>\n",
       "      <th>iter</th>\n",
       "      <th></th>\n",
       "      <th></th>\n",
       "      <th></th>\n",
       "      <th></th>\n",
       "      <th></th>\n",
       "      <th></th>\n",
       "      <th></th>\n",
       "      <th></th>\n",
       "      <th></th>\n",
       "      <th></th>\n",
       "    </tr>\n",
       "  </thead>\n",
       "  <tbody>\n",
       "    <tr>\n",
       "      <th>450_50_0.01_0.8_gbdt</th>\n",
       "      <td>{'clf__n_estimators': 450, 'clf__max_depth': 5...</td>\n",
       "      <td>1</td>\n",
       "      <td>0.968350</td>\n",
       "      <td>0.953170</td>\n",
       "      <td>2</td>\n",
       "      <td>0.972810</td>\n",
       "      <td>0.957935</td>\n",
       "      <td>1</td>\n",
       "      <td>0.972831</td>\n",
       "      <td>0.961837</td>\n",
       "    </tr>\n",
       "    <tr>\n",
       "      <th>400_10_0.01_0.8_gbdt</th>\n",
       "      <td>{'clf__n_estimators': 400, 'clf__max_depth': 1...</td>\n",
       "      <td>2</td>\n",
       "      <td>0.967116</td>\n",
       "      <td>0.953020</td>\n",
       "      <td>3</td>\n",
       "      <td>0.971750</td>\n",
       "      <td>0.957686</td>\n",
       "      <td>2</td>\n",
       "      <td>0.971911</td>\n",
       "      <td>0.961695</td>\n",
       "    </tr>\n",
       "    <tr>\n",
       "      <th>200_5_0.1_1_gbdt</th>\n",
       "      <td>{'clf__n_estimators': 200, 'clf__max_depth': 5...</td>\n",
       "      <td>3</td>\n",
       "      <td>0.978374</td>\n",
       "      <td>0.952798</td>\n",
       "      <td>23</td>\n",
       "      <td>0.980711</td>\n",
       "      <td>0.955615</td>\n",
       "      <td>7</td>\n",
       "      <td>0.980524</td>\n",
       "      <td>0.960962</td>\n",
       "    </tr>\n",
       "  </tbody>\n",
       "</table>\n",
       "</div>"
      ],
      "text/plain": [
       "                                                                 params  \\\n",
       "iter                                                                      \n",
       "450_50_0.01_0.8_gbdt  {'clf__n_estimators': 450, 'clf__max_depth': 5...   \n",
       "400_10_0.01_0.8_gbdt  {'clf__n_estimators': 400, 'clf__max_depth': 1...   \n",
       "200_5_0.1_1_gbdt      {'clf__n_estimators': 200, 'clf__max_depth': 5...   \n",
       "\n",
       "                      rank_test_f1_weighted  mean_train_f1_weighted  \\\n",
       "iter                                                                  \n",
       "450_50_0.01_0.8_gbdt                      1                0.968350   \n",
       "400_10_0.01_0.8_gbdt                      2                0.967116   \n",
       "200_5_0.1_1_gbdt                          3                0.978374   \n",
       "\n",
       "                      mean_test_f1_weighted  rank_test_precision_weighted  \\\n",
       "iter                                                                        \n",
       "450_50_0.01_0.8_gbdt               0.953170                             2   \n",
       "400_10_0.01_0.8_gbdt               0.953020                             3   \n",
       "200_5_0.1_1_gbdt                   0.952798                            23   \n",
       "\n",
       "                      mean_train_precision_weighted  \\\n",
       "iter                                                  \n",
       "450_50_0.01_0.8_gbdt                       0.972810   \n",
       "400_10_0.01_0.8_gbdt                       0.971750   \n",
       "200_5_0.1_1_gbdt                           0.980711   \n",
       "\n",
       "                      mean_test_precision_weighted  rank_test_recall_weighted  \\\n",
       "iter                                                                            \n",
       "450_50_0.01_0.8_gbdt                      0.957935                          1   \n",
       "400_10_0.01_0.8_gbdt                      0.957686                          2   \n",
       "200_5_0.1_1_gbdt                          0.955615                          7   \n",
       "\n",
       "                      mean_train_recall_weighted  mean_test_recall_weighted  \n",
       "iter                                                                         \n",
       "450_50_0.01_0.8_gbdt                    0.972831                   0.961837  \n",
       "400_10_0.01_0.8_gbdt                    0.971911                   0.961695  \n",
       "200_5_0.1_1_gbdt                        0.980524                   0.960962  "
      ]
     },
     "execution_count": 33,
     "metadata": {},
     "output_type": "execute_result"
    }
   ],
   "source": [
    "df_results = pd.DataFrame(search.cv_results_).sort_values(by=[\"rank_test_f1_weighted\"])\n",
    "df_results = df_results.set_index(\n",
    "    df_results[\"params\"].apply(lambda x: \"_\".join(str(val) for val in x.values()))\n",
    ").rename_axis(\"iter\")\n",
    "df_results[[\"params\", \"rank_test_f1_weighted\", \"mean_train_f1_weighted\", \"mean_test_f1_weighted\", \n",
    "            \"rank_test_precision_weighted\", \"mean_train_precision_weighted\", \"mean_test_precision_weighted\", \n",
    "            \"rank_test_recall_weighted\", \"mean_train_recall_weighted\", \"mean_test_recall_weighted\"]].head(3)"
   ]
  },
  {
   "cell_type": "code",
   "execution_count": 34,
   "id": "7f9b7e62-8312-47ea-ac7c-78e118d5debe",
   "metadata": {},
   "outputs": [
    {
     "data": {
      "image/png": "[encoded data removed]",
      "text/plain": [
       "<Figure size 640x480 with 1 Axes>"
      ]
     },
     "metadata": {},
     "output_type": "display_data"
    }
   ],
   "source": [
    "# model scores ordered by performance\n",
    "model_f1 = df_results.filter(regex=r\"split\\d*_test_f1_weighted\").iloc[:3]\n",
    "\n",
    "fig, ax = plt.subplots()\n",
    "\n",
    "sns.lineplot(\n",
    "    data=model_f1.transpose(),\n",
    "    dashes=False,\n",
    "    marker=\"o\",\n",
    "    ax=ax,\n",
    ")\n",
    "\n",
    "ax.set_title('Eval weighted F1-score of top 3 models in each fold')\n",
    "ax.set_xlabel(\"cv eval fold\", size=12, labelpad=10)\n",
    "ax.set_ylabel(\"model eval weighted F1-score\", size=12)\n",
    "ax.tick_params(bottom=True, labelbottom=False)\n",
    "plt.legend(title='iter', bbox_to_anchor=(1.05, 1), loc=2, borderaxespad=0.)\n",
    "\n",
    "plt.show()"
   ]
  },
  {
   "cell_type": "code",
   "execution_count": 35,
   "id": "e70994d8-76da-45dd-a1bc-bcd7210d215b",
   "metadata": {},
   "outputs": [
    {
     "name": "stdout",
     "output_type": "stream",
     "text": [
      "Correlation of models based on weighted F1-score:\n",
      "\n"
     ]
    },
    {
     "data": {
      "text/html": [
       "<div>\n",
       "<style scoped>\n",
       "    .dataframe tbody tr th:only-of-type {\n",
       "        vertical-align: middle;\n",
       "    }\n",
       "\n",
       "    .dataframe tbody tr th {\n",
       "        vertical-align: top;\n",
       "    }\n",
       "\n",
       "    .dataframe thead th {\n",
       "        text-align: right;\n",
       "    }\n",
       "</style>\n",
       "<table border=\"1\" class=\"dataframe\">\n",
       "  <thead>\n",
       "    <tr style=\"text-align: right;\">\n",
       "      <th>iter</th>\n",
       "      <th>450_50_0.01_0.8_gbdt</th>\n",
       "      <th>400_10_0.01_0.8_gbdt</th>\n",
       "      <th>200_5_0.1_1_gbdt</th>\n",
       "    </tr>\n",
       "    <tr>\n",
       "      <th>iter</th>\n",
       "      <th></th>\n",
       "      <th></th>\n",
       "      <th></th>\n",
       "    </tr>\n",
       "  </thead>\n",
       "  <tbody>\n",
       "    <tr>\n",
       "      <th>450_50_0.01_0.8_gbdt</th>\n",
       "      <td>1.000000</td>\n",
       "      <td>0.987041</td>\n",
       "      <td>0.736836</td>\n",
       "    </tr>\n",
       "    <tr>\n",
       "      <th>400_10_0.01_0.8_gbdt</th>\n",
       "      <td>0.987041</td>\n",
       "      <td>1.000000</td>\n",
       "      <td>0.653910</td>\n",
       "    </tr>\n",
       "    <tr>\n",
       "      <th>200_5_0.1_1_gbdt</th>\n",
       "      <td>0.736836</td>\n",
       "      <td>0.653910</td>\n",
       "      <td>1.000000</td>\n",
       "    </tr>\n",
       "  </tbody>\n",
       "</table>\n",
       "</div>"
      ],
      "text/plain": [
       "iter                  450_50_0.01_0.8_gbdt  400_10_0.01_0.8_gbdt  \\\n",
       "iter                                                               \n",
       "450_50_0.01_0.8_gbdt              1.000000              0.987041   \n",
       "400_10_0.01_0.8_gbdt              0.987041              1.000000   \n",
       "200_5_0.1_1_gbdt                  0.736836              0.653910   \n",
       "\n",
       "iter                  200_5_0.1_1_gbdt  \n",
       "iter                                    \n",
       "450_50_0.01_0.8_gbdt          0.736836  \n",
       "400_10_0.01_0.8_gbdt          0.653910  \n",
       "200_5_0.1_1_gbdt              1.000000  "
      ]
     },
     "execution_count": 35,
     "metadata": {},
     "output_type": "execute_result"
    }
   ],
   "source": [
    "# correlation of weighted F1-score across folds\n",
    "print(f\"Correlation of models based on weighted F1-score:\\n\")\n",
    "model_f1.transpose().corr()"
   ]
  },
  {
   "cell_type": "markdown",
   "id": "2f382854-618e-4ab1-9ffa-ba4f6ebb5034",
   "metadata": {
    "jp-MarkdownHeadingCollapsed": true
   },
   "source": [
    "### Pairwise Comparison of Models\n",
    "\n",
    "[Frequentist Approach](https://scikit-learn.org/stable/auto_examples/model_selection/plot_grid_search_stats.html#): Run a paired t-test and compute the p-value.\n",
    "\n",
    "We observe that the models **don't significantly differ** from each other, thus we can select the proposed model from hyperaparameter tuning."
   ]
  },
  {
   "cell_type": "code",
   "execution_count": 36,
   "id": "6a427adb-0299-4fdf-80bd-c32af87cf47c",
   "metadata": {},
   "outputs": [
    {
     "data": {
      "text/html": [
       "<div>\n",
       "<style scoped>\n",
       "    .dataframe tbody tr th:only-of-type {\n",
       "        vertical-align: middle;\n",
       "    }\n",
       "\n",
       "    .dataframe tbody tr th {\n",
       "        vertical-align: top;\n",
       "    }\n",
       "\n",
       "    .dataframe thead th {\n",
       "        text-align: right;\n",
       "    }\n",
       "</style>\n",
       "<table border=\"1\" class=\"dataframe\">\n",
       "  <thead>\n",
       "    <tr style=\"text-align: right;\">\n",
       "      <th></th>\n",
       "      <th>model_1</th>\n",
       "      <th>model_2</th>\n",
       "      <th>t_stat</th>\n",
       "      <th>p_val</th>\n",
       "    </tr>\n",
       "  </thead>\n",
       "  <tbody>\n",
       "    <tr>\n",
       "      <th>0</th>\n",
       "      <td>450_50_0.01_0.8_gbdt</td>\n",
       "      <td>400_10_0.01_0.8_gbdt</td>\n",
       "      <td>0.273</td>\n",
       "      <td>1</td>\n",
       "    </tr>\n",
       "    <tr>\n",
       "      <th>1</th>\n",
       "      <td>450_50_0.01_0.8_gbdt</td>\n",
       "      <td>200_5_0.1_1_gbdt</td>\n",
       "      <td>0.225</td>\n",
       "      <td>1</td>\n",
       "    </tr>\n",
       "    <tr>\n",
       "      <th>2</th>\n",
       "      <td>400_10_0.01_0.8_gbdt</td>\n",
       "      <td>200_5_0.1_1_gbdt</td>\n",
       "      <td>0.106</td>\n",
       "      <td>1</td>\n",
       "    </tr>\n",
       "  </tbody>\n",
       "</table>\n",
       "</div>"
      ],
      "text/plain": [
       "                model_1               model_2  t_stat  p_val\n",
       "0  450_50_0.01_0.8_gbdt  400_10_0.01_0.8_gbdt   0.273      1\n",
       "1  450_50_0.01_0.8_gbdt      200_5_0.1_1_gbdt   0.225      1\n",
       "2  400_10_0.01_0.8_gbdt      200_5_0.1_1_gbdt   0.106      1"
      ]
     },
     "execution_count": 36,
     "metadata": {},
     "output_type": "execute_result"
    }
   ],
   "source": [
    "# pairwise comparison of models based on weighted F1-score\n",
    "\n",
    "n_train = len(cv[0][0])\n",
    "n_test = len(cv[0][1])\n",
    "\n",
    "n_comparisons = factorial(len(model_f1)) / (factorial(2) * factorial(len(model_f1) - 2))\n",
    "pairwise_t_test = []\n",
    "\n",
    "for model_i, model_k in combinations(range(len(model_f1)), 2):\n",
    "    model_i_scores = model_f1.iloc[model_i].values\n",
    "    model_k_scores = model_f1.iloc[model_k].values\n",
    "    differences = model_i_scores - model_k_scores\n",
    "    n = differences.shape[0]  # number of test sets\n",
    "    df = n - 1\n",
    "    t_stat, p_val = compute_corrected_ttest(differences, df, n_train, n_test)\n",
    "    p_val *= n_comparisons  # Bonferroni correction\n",
    "    p_val = 1 if p_val > 1 else p_val  # Bonferroni can output p-values higher than 1\n",
    "    pairwise_t_test.append([model_f1.index[model_i], model_f1.index[model_k], t_stat, p_val])\n",
    "\n",
    "pairwise_comp_df = pd.DataFrame(pairwise_t_test, \n",
    "                                columns=[\"model_1\", \"model_2\", \"t_stat\", \"p_val\"]).round(3)\n",
    "pairwise_comp_df"
   ]
  },
  {
   "cell_type": "markdown",
   "id": "28644fea-f0cf-488f-9bef-2870013d5e3e",
   "metadata": {
    "jp-MarkdownHeadingCollapsed": true
   },
   "source": [
    "### Final Model Evaluation\n",
    "\n",
    "---\n",
    "\n",
    "**Best model parameters:** n_estimators: 450, max_depth: 50, learning_rate: 0.01, colsample_bytree: 0.8, booster: 'gbdt'\n",
    "\n",
    "---\n",
    "\n",
    "**Best model train weighted F1-score:** 93%\n",
    "- class paid: 98%\n",
    "- class defaulted: 52%\n",
    "\n",
    "**Best model eval weighted F1-score:** 96%\n",
    "- class paid: 98%\n",
    "- class defaulted: 51%\n",
    "\n",
    "---\n",
    "\n",
    "**Best model train weighted Precision:** 93%\n",
    "- class paid: 97%\n",
    "- class defaulted: 91%\n",
    "\n",
    "**Best model eval weighted Precision:** 96%\n",
    "- class paid: 97%\n",
    "- class defaulted: 88%\n",
    "\n",
    "---\n",
    "\n",
    "**Best model train weighted Recall:** 97%\n",
    "\n",
    "**Best model eval weighted Recall:** 97%\n",
    "\n",
    "---\n",
    "\n",
    "**Conclusion:** TODO"
   ]
  },
  {
   "cell_type": "code",
   "execution_count": 37,
   "id": "f8826b91-7dc2-43b7-862b-ba64df418bbe",
   "metadata": {},
   "outputs": [],
   "source": [
    "X_temp, y_temp, X_eval, y_eval = custom_train_test_split(\n",
    "    pd.concat([X_train, y_train], axis=1), \n",
    "    primary_key=\"repayment_id\", \n",
    "    output_key=\"status_cleaned\", \n",
    "    split_key=\"loan_id\", \n",
    "    test_size=0.2, \n",
    "    random_state=42\n",
    ")\n",
    "\n",
    "X_temp, X_eval = X_temp.drop(columns=[\"loan_id\"]), X_eval.drop(columns=[\"loan_id\"])"
   ]
  },
  {
   "cell_type": "code",
   "execution_count": null,
   "id": "e5fced28-a239-4aae-954c-61e416abe119",
   "metadata": {},
   "outputs": [],
   "source": [
    "clf = LGBMClassifier(\n",
    "    n_estimators=450,\n",
    "    max_depth=50,\n",
    "    learning_rate=0.01,\n",
    "    colsample_bytree=0.8,\n",
    "    boosting_type='gbdt',\n",
    "    random_state=42\n",
    ")\n",
    "\n",
    "clf.fit(X_temp, np.ravel(y_temp))"
   ]
  },
  {
   "cell_type": "code",
   "execution_count": 40,
   "id": "c208d776-9d75-4b93-a683-fb77edb3aaee",
   "metadata": {},
   "outputs": [
    {
     "name": "stdout",
     "output_type": "stream",
     "text": [
      "[LightGBM] [Warning] Accuracy may be bad since you didn't explicitly set num_leaves OR 2^max_depth > num_leaves. (num_leaves=31).\n"
     ]
    },
    {
     "data": {
      "image/png": "[encoded data removed]",
      "text/plain": [
       "<Figure size 640x480 with 1 Axes>"
      ]
     },
     "metadata": {},
     "output_type": "display_data"
    }
   ],
   "source": [
    "display = PrecisionRecallDisplay.from_estimator(\n",
    "    clf, \n",
    "    X_eval, \n",
    "    y_eval, \n",
    "    plot_chance_level=True\n",
    ")\n",
    "_ = display.ax_.set_title(\"Precision-Recall curve\")"
   ]
  },
  {
   "cell_type": "code",
   "execution_count": null,
   "id": "aef1c8f2-d4b0-41fa-940b-d0ba416616ee",
   "metadata": {},
   "outputs": [],
   "source": [
    "y_train_pred = clf.predict(X_temp)\n",
    "y_eval_pred = clf.predict(X_eval)"
   ]
  },
  {
   "cell_type": "code",
   "execution_count": 45,
   "id": "301b8ba0-2fea-49c1-a256-90652b92e3e3",
   "metadata": {},
   "outputs": [
    {
     "name": "stdout",
     "output_type": "stream",
     "text": [
      "Train:\n",
      "              precision    recall  f1-score   support\n",
      "\n",
      "        paid       0.97      1.00      0.98    106152\n",
      "   defaulted       0.91      0.36      0.52      5720\n",
      "\n",
      "    accuracy                           0.97    111872\n",
      "   macro avg       0.94      0.68      0.75    111872\n",
      "weighted avg       0.96      0.97      0.96    111872\n",
      "\n",
      "Eval:\n",
      "              precision    recall  f1-score   support\n",
      "\n",
      "        paid       0.97      1.00      0.98     25068\n",
      "   defaulted       0.88      0.36      0.51      1264\n",
      "\n",
      "    accuracy                           0.97     26332\n",
      "   macro avg       0.92      0.68      0.75     26332\n",
      "weighted avg       0.96      0.97      0.96     26332\n",
      "\n"
     ]
    }
   ],
   "source": [
    "print(f\"Train:\\n{classification_report(y_temp, y_train_pred, target_names=labels)}\")\n",
    "print(f\"Eval:\\n{classification_report(y_eval, y_eval_pred, target_names=labels)}\")"
   ]
  },
  {
   "cell_type": "code",
   "execution_count": 44,
   "id": "e4f70967-c91f-4d10-9369-2a603e5f1d50",
   "metadata": {},
   "outputs": [
    {
     "data": {
      "image/png": "[encoded data removed]",
      "text/plain": [
       "<Figure size 640x480 with 2 Axes>"
      ]
     },
     "metadata": {},
     "output_type": "display_data"
    }
   ],
   "source": [
    "cm = confusion_matrix(y_eval, y_eval_pred)\n",
    "\n",
    "sns.heatmap(cm, annot=True, fmt='g', cmap='Blues', xticklabels=labels, yticklabels=labels)\n",
    "\n",
    "plt.title('Confusion Matrix', fontsize=14)\n",
    "plt.xlabel(\"\\npredicted label\", fontsize=14)\n",
    "plt.ylabel(\"actual label\\n\", fontsize=14)\n",
    "\n",
    "plt.show()"
   ]
  },
  {
   "cell_type": "markdown",
   "id": "25dcfab2-67ba-4798-a6c3-969e38648c2e",
   "metadata": {
    "jp-MarkdownHeadingCollapsed": true
   },
   "source": [
    "# Final Model\n",
    "\n",
    "---\n",
    "\n",
    "**Model:** x\n",
    "\n",
    "**Parameters:** x\n",
    "\n",
    "*The final model has been chosen based on the best weighted F1-score, Precision and Recall on the evaluation sample. Also, the degree of overfittng (or underfitting) has been taken into consideration.*\n",
    "\n",
    "---\n",
    "\n",
    "**Train weighted F1-score:** x%\n",
    "- class x: x%\n",
    "- class x: x%\n",
    "\n",
    "**Test weighted F1-score:** x%\n",
    "- class x: x%\n",
    "- class x: x%\n",
    "\n",
    "---\n",
    "\n",
    "**Train weighted Precision**: x%\n",
    "\n",
    "**Test weighted Precision:** x%\n",
    "\n",
    "---\n",
    "\n",
    "**Train weighted Recall**: x%\n",
    "\n",
    "**Test weighted Recall:** x%\n",
    "\n",
    "---\n",
    "\n",
    "**Conclusion:**\n",
    "- x"
   ]
  },
  {
   "cell_type": "markdown",
   "id": "d29eeb5f-b6f2-404c-882b-7a5824cafd62",
   "metadata": {},
   "source": [
    "## Final Model"
   ]
  },
  {
   "cell_type": "markdown",
   "id": "4626b5c0-c11f-4586-8e46-b4ab4c9280bb",
   "metadata": {},
   "source": [
    "## Metrics"
   ]
  },
  {
   "cell_type": "markdown",
   "id": "69ee9705-d163-4d09-98fe-bd2763cf310b",
   "metadata": {},
   "source": [
    "## Model Analysis"
   ]
  },
  {
   "cell_type": "markdown",
   "id": "ad3be02b-5ce8-4ca7-b3c5-f491fd52ec89",
   "metadata": {},
   "source": [
    "## Feature Importance"
   ]
  },
  {
   "cell_type": "markdown",
   "id": "9a720df5-0dce-4d1e-b368-c1a3d732cef9",
   "metadata": {},
   "source": [
    "## ✅ checkpoint"
   ]
  }
 ],
 "metadata": {
  "kernelspec": {
   "display_name": "cloudwalk",
   "language": "python",
   "name": "cloudwalk"
  },
  "language_info": {
   "codemirror_mode": {
    "name": "ipython",
    "version": 3
   },
   "file_extension": ".py",
   "mimetype": "text/x-python",
   "name": "python",
   "nbconvert_exporter": "python",
   "pygments_lexer": "ipython3",
   "version": "3.8.19"
  },
  "widgets": {
   "application/vnd.jupyter.widget-state+json": {
    "state": {},
    "version_major": 2,
    "version_minor": 0
   }
  }
 },
 "nbformat": 4,
 "nbformat_minor": 5
}
